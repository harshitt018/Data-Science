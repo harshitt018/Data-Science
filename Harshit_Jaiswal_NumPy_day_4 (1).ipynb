{
  "nbformat": 4,
  "nbformat_minor": 0,
  "metadata": {
    "colab": {
      "provenance": []
    },
    "kernelspec": {
      "name": "python3",
      "display_name": "Python 3"
    },
    "language_info": {
      "name": "python"
    }
  },
  "cells": [
    {
      "cell_type": "markdown",
      "source": [
        "# **NumPy Random Number.**"
      ],
      "metadata": {
        "id": "KtcZuoziU41k"
      }
    },
    {
      "cell_type": "markdown",
      "source": [
        "**With Argument**"
      ],
      "metadata": {
        "id": "McDWHNMHZBDE"
      }
    },
    {
      "cell_type": "code",
      "execution_count": null,
      "metadata": {
        "colab": {
          "base_uri": "https://localhost:8080/"
        },
        "id": "aqQVf55VNzd1",
        "outputId": "0bd6bd01-c693-4137-bc01-b1abd80890d8"
      },
      "outputs": [
        {
          "output_type": "stream",
          "name": "stdout",
          "text": [
            "51\n"
          ]
        }
      ],
      "source": [
        "from numpy import random\n",
        "x = random.randint(100)\n",
        "print(x)"
      ]
    },
    {
      "cell_type": "markdown",
      "source": [
        "**Without Argument**"
      ],
      "metadata": {
        "id": "fBPyXAAtZDwE"
      }
    },
    {
      "cell_type": "code",
      "source": [
        "from numpy import random\n",
        "x = random.rand()\n",
        "print(x)"
      ],
      "metadata": {
        "colab": {
          "base_uri": "https://localhost:8080/"
        },
        "id": "T8UHibreY6ic",
        "outputId": "381f4351-fe5e-46f5-ebf3-4ba15f05b50d"
      },
      "execution_count": null,
      "outputs": [
        {
          "output_type": "stream",
          "name": "stdout",
          "text": [
            "0.4054829924036908\n"
          ]
        }
      ]
    },
    {
      "cell_type": "markdown",
      "source": [
        "**Generate a 1-D/2-D array contaning 5 random integer from 0 to 100.**"
      ],
      "metadata": {
        "id": "MeWyEKFJZIPU"
      }
    },
    {
      "cell_type": "code",
      "source": [
        "from numpy import random\n",
        "x = random.randint(100, size = (5)) # 1D array\n",
        "y = random.randint(100, size = (3,5)) # 2D array\n",
        "print(\"1D array :\",x)\n",
        "print(\"2D array :\",y)"
      ],
      "metadata": {
        "colab": {
          "base_uri": "https://localhost:8080/"
        },
        "id": "woxzlBoYZVi1",
        "outputId": "07d84142-9d83-4b75-dca8-301c19a01668"
      },
      "execution_count": null,
      "outputs": [
        {
          "output_type": "stream",
          "name": "stdout",
          "text": [
            "1D array : [18 49 17  0 54]\n",
            "2D array : [[69 35 47 40 84]\n",
            " [83 74 32 92 67]\n",
            " [86 96  2 90  6]]\n"
          ]
        }
      ]
    },
    {
      "cell_type": "markdown",
      "source": [
        "**Generate randoom number from array.**"
      ],
      "metadata": {
        "id": "F8SbNQvlaIPF"
      }
    },
    {
      "cell_type": "code",
      "source": [
        "from numpy import random\n",
        "x = random.choice([3,6,9])\n",
        "print(x)"
      ],
      "metadata": {
        "colab": {
          "base_uri": "https://localhost:8080/"
        },
        "id": "sAGUMFadaNN1",
        "outputId": "eb4c8077-ca05-462d-bb7f-d9042e3bc5d4"
      },
      "execution_count": null,
      "outputs": [
        {
          "output_type": "stream",
          "name": "stdout",
          "text": [
            "6\n"
          ]
        }
      ]
    },
    {
      "cell_type": "markdown",
      "source": [
        "**Write a program to generate random number between 1 to 6, if the number is 2 then print \"YOU ARE THE WINNER.\"**"
      ],
      "metadata": {
        "id": "mj0wwf6YaS0F"
      }
    },
    {
      "cell_type": "code",
      "source": [
        "from numpy import random\n",
        "x = random.choice(7)\n",
        "if(x == 2):\n",
        "  print(x,\"YOU ARE THE WINNER.\")\n",
        "else:\n",
        "  print(x,\"BETTER LUCK NEXT TIME\")\n"
      ],
      "metadata": {
        "colab": {
          "base_uri": "https://localhost:8080/"
        },
        "id": "rpqvwpndaijf",
        "outputId": "3fe94736-d013-4c57-928d-05a033e6c1fc"
      },
      "execution_count": null,
      "outputs": [
        {
          "output_type": "stream",
          "name": "stdout",
          "text": [
            "2 YOU ARE THE WINNER.\n"
          ]
        }
      ]
    },
    {
      "cell_type": "markdown",
      "source": [
        "**Write a program to generate random number between 1 to 6, if the number is equal with the user input then print \"YOU ARE THE WINNER.\"**"
      ],
      "metadata": {
        "id": "hfeoGhfhbg-d"
      }
    },
    {
      "cell_type": "code",
      "source": [
        "from numpy import random\n",
        "a = int(input(\"Enter your number : \"))\n",
        "x = random.choice(7)\n",
        "if(x == a):\n",
        "  print(x,\"YOU ARE THE WINNER.\")\n",
        "else:\n",
        "  print(x,\"BETTER LUCK NEXT TIME\")"
      ],
      "metadata": {
        "colab": {
          "base_uri": "https://localhost:8080/"
        },
        "id": "JRH7-EJybIWP",
        "outputId": "48d6628c-5949-4c77-b4fa-af261bd14ff5"
      },
      "execution_count": null,
      "outputs": [
        {
          "output_type": "stream",
          "name": "stdout",
          "text": [
            "Enter your number : 5\n",
            "5 YOU ARE THE WINNER.\n"
          ]
        }
      ]
    },
    {
      "cell_type": "markdown",
      "source": [
        "**Generating 2D array randomly.**"
      ],
      "metadata": {
        "id": "4mmPE236b8zE"
      }
    },
    {
      "cell_type": "code",
      "source": [
        "from numpy import random\n",
        "x = random.choice([3,5,7,9], size = (3,5))\n",
        "print(x)"
      ],
      "metadata": {
        "colab": {
          "base_uri": "https://localhost:8080/"
        },
        "id": "sAVpdosfby8F",
        "outputId": "a245e818-edff-4d67-f2d9-94a75a772dd5"
      },
      "execution_count": null,
      "outputs": [
        {
          "output_type": "stream",
          "name": "stdout",
          "text": [
            "[[5 5 5 3 7]\n",
            " [5 9 3 9 5]\n",
            " [7 9 9 7 7]]\n"
          ]
        }
      ]
    },
    {
      "cell_type": "markdown",
      "source": [
        "**Generating random numbers using probability distribution.**"
      ],
      "metadata": {
        "id": "D75vDCoKchvV"
      }
    },
    {
      "cell_type": "code",
      "source": [
        "from numpy import random\n",
        "x = random.choice(([3,5,7,9]),\n",
        "p = [0.1,0.3,0.6,0.0], size = (100)) # Addition of probability should be = 1.\n",
        "print(x)"
      ],
      "metadata": {
        "colab": {
          "base_uri": "https://localhost:8080/"
        },
        "id": "0BEqg8_RcGn8",
        "outputId": "97ca7335-12fe-4f9c-d262-b7a83926891a"
      },
      "execution_count": null,
      "outputs": [
        {
          "output_type": "stream",
          "name": "stdout",
          "text": [
            "[7 5 7 7 7 7 7 7 3 5 7 7 7 5 7 7 3 5 5 5 3 7 7 7 7 7 7 3 3 7 3 5 5 5 7 7 5\n",
            " 5 5 3 7 7 7 3 7 7 7 7 5 7 7 5 7 5 5 7 3 7 7 7 5 3 7 5 5 7 5 7 7 7 5 7 7 7\n",
            " 7 5 7 3 5 7 7 5 7 7 3 7 5 7 3 5 7 7 5 7 7 7 5 7 5 7]\n"
          ]
        }
      ]
    },
    {
      "cell_type": "markdown",
      "source": [
        "**Install seaborn**"
      ],
      "metadata": {
        "id": "fG_d5DVxeaZW"
      }
    },
    {
      "cell_type": "code",
      "source": [
        "pip install seabor"
      ],
      "metadata": {
        "colab": {
          "base_uri": "https://localhost:8080/"
        },
        "id": "ypGNabJ4eBzu",
        "outputId": "cf00d3d3-67ed-45de-cec1-46c58642b3d6"
      },
      "execution_count": null,
      "outputs": [
        {
          "output_type": "stream",
          "name": "stdout",
          "text": [
            "Requirement already satisfied: seaborn in /usr/local/lib/python3.10/dist-packages (0.13.1)\n",
            "Requirement already satisfied: numpy!=1.24.0,>=1.20 in /usr/local/lib/python3.10/dist-packages (from seaborn) (1.25.2)\n",
            "Requirement already satisfied: pandas>=1.2 in /usr/local/lib/python3.10/dist-packages (from seaborn) (1.5.3)\n",
            "Requirement already satisfied: matplotlib!=3.6.1,>=3.4 in /usr/local/lib/python3.10/dist-packages (from seaborn) (3.7.1)\n",
            "Requirement already satisfied: contourpy>=1.0.1 in /usr/local/lib/python3.10/dist-packages (from matplotlib!=3.6.1,>=3.4->seaborn) (1.2.0)\n",
            "Requirement already satisfied: cycler>=0.10 in /usr/local/lib/python3.10/dist-packages (from matplotlib!=3.6.1,>=3.4->seaborn) (0.12.1)\n",
            "Requirement already satisfied: fonttools>=4.22.0 in /usr/local/lib/python3.10/dist-packages (from matplotlib!=3.6.1,>=3.4->seaborn) (4.49.0)\n",
            "Requirement already satisfied: kiwisolver>=1.0.1 in /usr/local/lib/python3.10/dist-packages (from matplotlib!=3.6.1,>=3.4->seaborn) (1.4.5)\n",
            "Requirement already satisfied: packaging>=20.0 in /usr/local/lib/python3.10/dist-packages (from matplotlib!=3.6.1,>=3.4->seaborn) (23.2)\n",
            "Requirement already satisfied: pillow>=6.2.0 in /usr/local/lib/python3.10/dist-packages (from matplotlib!=3.6.1,>=3.4->seaborn) (9.4.0)\n",
            "Requirement already satisfied: pyparsing>=2.3.1 in /usr/local/lib/python3.10/dist-packages (from matplotlib!=3.6.1,>=3.4->seaborn) (3.1.1)\n",
            "Requirement already satisfied: python-dateutil>=2.7 in /usr/local/lib/python3.10/dist-packages (from matplotlib!=3.6.1,>=3.4->seaborn) (2.8.2)\n",
            "Requirement already satisfied: pytz>=2020.1 in /usr/local/lib/python3.10/dist-packages (from pandas>=1.2->seaborn) (2023.4)\n",
            "Requirement already satisfied: six>=1.5 in /usr/local/lib/python3.10/dist-packages (from python-dateutil>=2.7->matplotlib!=3.6.1,>=3.4->seaborn) (1.16.0)\n"
          ]
        }
      ]
    },
    {
      "cell_type": "markdown",
      "source": [
        "**Plotting a Distplot with the histogram**"
      ],
      "metadata": {
        "id": "tSjiNYUnegLl"
      }
    },
    {
      "cell_type": "code",
      "source": [
        "import matplotlib.pyplot as plt\n",
        "import seaborn as sns\n",
        "sns.distplot([0,1,2,3,4,5])\n",
        "plt.show()"
      ],
      "metadata": {
        "colab": {
          "base_uri": "https://localhost:8080/",
          "height": 621
        },
        "id": "p5xPeAyLeIz9",
        "outputId": "dd102111-295a-4cbc-9deb-ba0ad72e87a3"
      },
      "execution_count": null,
      "outputs": [
        {
          "output_type": "stream",
          "name": "stderr",
          "text": [
            "<ipython-input-53-bba82ae26ee9>:3: UserWarning: \n",
            "\n",
            "`distplot` is a deprecated function and will be removed in seaborn v0.14.0.\n",
            "\n",
            "Please adapt your code to use either `displot` (a figure-level function with\n",
            "similar flexibility) or `histplot` (an axes-level function for histograms).\n",
            "\n",
            "For a guide to updating your code to use the new functions, please see\n",
            "https://gist.github.com/mwaskom/de44147ed2974457ad6372750bbe5751\n",
            "\n",
            "  sns.distplot([0,1,2,3,4,5])\n"
          ]
        },
        {
          "output_type": "display_data",
          "data": {
            "text/plain": [
              "<Figure size 640x480 with 1 Axes>"
            ],
            "image/png": "[encoded data removed]"
          },
          "metadata": {}
        }
      ]
    },
    {
      "cell_type": "markdown",
      "source": [
        "**Plotting a Distplot without the histogram**"
      ],
      "metadata": {
        "id": "saqJNelxexRk"
      }
    },
    {
      "cell_type": "code",
      "source": [
        "import matplotlib.pyplot as plt\n",
        "import seaborn as sns\n",
        "sns.distplot([0,1,2,3,4,5], hist = False)\n",
        "plt.show()"
      ],
      "metadata": {
        "colab": {
          "base_uri": "https://localhost:8080/",
          "height": 621
        },
        "id": "rOpbCfY9escc",
        "outputId": "507f2537-37ce-49b7-910e-ed7bc886715a"
      },
      "execution_count": null,
      "outputs": [
        {
          "output_type": "stream",
          "name": "stderr",
          "text": [
            "<ipython-input-54-d0e474f4bebc>:3: UserWarning: \n",
            "\n",
            "`distplot` is a deprecated function and will be removed in seaborn v0.14.0.\n",
            "\n",
            "Please adapt your code to use either `displot` (a figure-level function with\n",
            "similar flexibility) or `kdeplot` (an axes-level function for kernel density plots).\n",
            "\n",
            "For a guide to updating your code to use the new functions, please see\n",
            "https://gist.github.com/mwaskom/de44147ed2974457ad6372750bbe5751\n",
            "\n",
            "  sns.distplot([0,1,2,3,4,5], hist = False)\n"
          ]
        },
        {
          "output_type": "display_data",
          "data": {
            "text/plain": [
              "<Figure size 640x480 with 1 Axes>"
            ],
            "image/png": "[encoded data removed]"
          },
          "metadata": {}
        }
      ]
    },
    {
      "cell_type": "markdown",
      "source": [
        "**Create an array showning marks of the student in 5 subjects also plot the graph for the same.**"
      ],
      "metadata": {
        "id": "drCMpWhne6lF"
      }
    },
    {
      "cell_type": "code",
      "source": [
        "import numpy as np\n",
        "import matplotlib.pyplot as plt\n",
        "import seaborn as sns\n",
        "sns.distplot([69,70,89,75,80,67,90],hist = False)\n",
        "plt.show()"
      ],
      "metadata": {
        "colab": {
          "base_uri": "https://localhost:8080/",
          "height": 621
        },
        "id": "YebTQlsbfHNE",
        "outputId": "c4684de7-8533-47f4-fe6b-ac5baac1ea3d"
      },
      "execution_count": null,
      "outputs": [
        {
          "output_type": "stream",
          "name": "stderr",
          "text": [
            "<ipython-input-86-398e0bb2511c>:4: UserWarning: \n",
            "\n",
            "`distplot` is a deprecated function and will be removed in seaborn v0.14.0.\n",
            "\n",
            "Please adapt your code to use either `displot` (a figure-level function with\n",
            "similar flexibility) or `kdeplot` (an axes-level function for kernel density plots).\n",
            "\n",
            "For a guide to updating your code to use the new functions, please see\n",
            "https://gist.github.com/mwaskom/de44147ed2974457ad6372750bbe5751\n",
            "\n",
            "  sns.distplot([69,70,89,75,80,67,90],hist = False)\n"
          ]
        },
        {
          "output_type": "display_data",
          "data": {
            "text/plain": [
              "<Figure size 640x480 with 1 Axes>"
            ],
            "image/png": "[encoded data removed]"
          },
          "metadata": {}
        }
      ]
    },
    {
      "cell_type": "markdown",
      "source": [
        "**Arithmetic Operation**"
      ],
      "metadata": {
        "id": "X2nl4AR4h6Gt"
      }
    },
    {
      "cell_type": "code",
      "source": [
        "import numpy as np\n",
        "arr1 = np.array([10,11,12,13,14,15])\n",
        "arr2 = np.array([20,21,22,23,24,25])\n",
        "addarr = np.add(arr1, arr2)\n",
        "print(\"add :\",addarr)\n",
        "subarr = np.subtract(arr1, arr2)\n",
        "print(\"subtract :\",subarr)\n",
        "mularr = np.multiply(arr1, arr2)\n",
        "print(\"multiply :\",mularr)\n",
        "divarr = np.divide(arr1, arr2)\n",
        "print(\"division :\",divarr)\n",
        "powerarr = np.power(arr1, arr2)\n",
        "print(\"power :\",powerarr)\n",
        "modarr = np.mod(arr1, arr2)\n",
        "print(\"mod :\",modarr)\n",
        "reminarr = np.remainder(arr1, arr2)\n",
        "print(\"remaider :\",reminarr)"
      ],
      "metadata": {
        "colab": {
          "base_uri": "https://localhost:8080/"
        },
        "id": "ggEhQ5EAh5tu",
        "outputId": "4dad9008-131b-4968-ae25-03357fafd995"
      },
      "execution_count": null,
      "outputs": [
        {
          "output_type": "stream",
          "name": "stdout",
          "text": [
            "add : [30 32 34 36 38 40]\n",
            "subtract : [-10 -10 -10 -10 -10 -10]\n",
            "multiply : [200 231 264 299 336 375]\n",
            "division : [0.5        0.52380952 0.54545455 0.56521739 0.58333333 0.6       ]\n",
            "power : [ 7766279631452241920  3105570700629903195  5729018530666381312\n",
            " -4649523274362944347 -1849127232522420224  1824414961309619599]\n",
            "mod : [10 11 12 13 14 15]\n",
            "remaider : [10 11 12 13 14 15]\n"
          ]
        }
      ]
    },
    {
      "cell_type": "markdown",
      "source": [
        "**Absolute Function**"
      ],
      "metadata": {
        "id": "Voa7aHgGkR4m"
      }
    },
    {
      "cell_type": "code",
      "source": [
        "import numpy as np\n",
        "arr = np.array([-1,-2,1,2,3,-4])\n",
        "newarr = np.absolute(arr)\n",
        "print(newarr)"
      ],
      "metadata": {
        "colab": {
          "base_uri": "https://localhost:8080/"
        },
        "id": "bAbMxZzJjq-X",
        "outputId": "a50a45c2-bf94-4c90-dbcd-9a695a415a3a"
      },
      "execution_count": null,
      "outputs": [
        {
          "output_type": "stream",
          "name": "stdout",
          "text": [
            "[1 2 1 2 3 4]\n"
          ]
        }
      ]
    },
    {
      "cell_type": "markdown",
      "source": [
        "**Truncation**"
      ],
      "metadata": {
        "id": "PJ4Avqx4kVBd"
      }
    },
    {
      "cell_type": "code",
      "source": [
        "import numpy as np\n",
        "arr = np.trunc([-3.1666, 3.6667])\n",
        "print(arr)"
      ],
      "metadata": {
        "colab": {
          "base_uri": "https://localhost:8080/"
        },
        "id": "UjE-HlqpkYC1",
        "outputId": "70e46e1d-38de-43ea-d75f-be955dc6d2b9"
      },
      "execution_count": null,
      "outputs": [
        {
          "output_type": "stream",
          "name": "stdout",
          "text": [
            "[-3.  3.]\n"
          ]
        }
      ]
    },
    {
      "cell_type": "markdown",
      "source": [
        "**Summation**"
      ],
      "metadata": {
        "id": "yq524kklkzRt"
      }
    },
    {
      "cell_type": "code",
      "source": [
        "import numpy as np\n",
        "arr1 = np.array([1,2,3])\n",
        "arr2 = np.array([1,2,3])\n",
        "newarr1 = np.add(arr1,arr2)\n",
        "newarr2 = np.sum([arr1,arr2])\n",
        "print(newarr1)\n",
        "print(newarr2)"
      ],
      "metadata": {
        "colab": {
          "base_uri": "https://localhost:8080/"
        },
        "id": "W0ZYBMSSk2Rv",
        "outputId": "3443006e-414b-4845-9bbd-77c61f333dff"
      },
      "execution_count": null,
      "outputs": [
        {
          "output_type": "stream",
          "name": "stdout",
          "text": [
            "[2 4 6]\n",
            "12\n"
          ]
        }
      ]
    },
    {
      "cell_type": "code",
      "source": [
        "import numpy as np\n",
        "arr1 = np.array([1,2,3])\n",
        "arr2 = np.array([1,2,3])\n",
        "narr1 = np.sum(arr1)\n",
        "narr2 = np.sum(arr2)\n",
        "print(narr1)\n",
        "print(narr2)"
      ],
      "metadata": {
        "colab": {
          "base_uri": "https://localhost:8080/"
        },
        "id": "C-nQIZWAl4Ql",
        "outputId": "1169b281-3500-4a26-fb75-14c9495cccd5"
      },
      "execution_count": null,
      "outputs": [
        {
          "output_type": "stream",
          "name": "stdout",
          "text": [
            "6\n",
            "6\n"
          ]
        }
      ]
    },
    {
      "cell_type": "code",
      "source": [
        "import numpy as np\n",
        "arr1 = np.array([1,2,3])\n",
        "arr2 = np.array([1,2,3])\n",
        "newarr2 = np.sum([arr1,arr2], axis =1)\n",
        "print(newarr2)"
      ],
      "metadata": {
        "colab": {
          "base_uri": "https://localhost:8080/"
        },
        "id": "sxgt5Bg8mROe",
        "outputId": "4960ed0d-d722-4ff0-8927-521ffd3179ed"
      },
      "execution_count": null,
      "outputs": [
        {
          "output_type": "stream",
          "name": "stdout",
          "text": [
            "[6 6]\n"
          ]
        }
      ]
    },
    {
      "cell_type": "markdown",
      "source": [
        "**Commulative Sum**"
      ],
      "metadata": {
        "id": "Cs7TExKZmb1O"
      }
    },
    {
      "cell_type": "code",
      "source": [
        "import numpy as np\n",
        "arr = np.array([1,2,3,4,5])\n",
        "newarr = np.cumsum(arr)\n",
        "print(newarr)"
      ],
      "metadata": {
        "colab": {
          "base_uri": "https://localhost:8080/"
        },
        "id": "6tasDONdmfRn",
        "outputId": "a858b9d2-e7a4-4458-ffb2-23a624fade98"
      },
      "execution_count": null,
      "outputs": [
        {
          "output_type": "stream",
          "name": "stdout",
          "text": [
            "[ 1  3  6 10 15]\n"
          ]
        }
      ]
    },
    {
      "cell_type": "markdown",
      "source": [
        "**Create an array with the values 1,5,7,11,13,30,35,90. You have to pick 5 random number among this given numbers and print their sum.**"
      ],
      "metadata": {
        "id": "gpAU0b8um3n9"
      }
    },
    {
      "cell_type": "code",
      "source": [
        "import numpy as np\n",
        "from numpy import random as rn\n",
        "x =  rn.choice([1,5,7,11,13,30,35,90], size = 5)\n",
        "print(\"Randomly chosen 5 numbers are :\",x)\n",
        "print(\"Sum of those chosen numbers are :\",sum(x))"
      ],
      "metadata": {
        "colab": {
          "base_uri": "https://localhost:8080/"
        },
        "id": "B15YQ-BmnR4w",
        "outputId": "19a85540-9b30-426d-f521-69662b8a5509"
      },
      "execution_count": null,
      "outputs": [
        {
          "output_type": "stream",
          "name": "stdout",
          "text": [
            "Randomly chosen 5 numbers are : [90 11 11 13  5]\n",
            "Sum of those chosen numbers are : 130\n"
          ]
        }
      ]
    }
  ]
}