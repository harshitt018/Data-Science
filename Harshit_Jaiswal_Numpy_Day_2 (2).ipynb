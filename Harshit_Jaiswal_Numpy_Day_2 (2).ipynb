{
  "nbformat": 4,
  "nbformat_minor": 0,
  "metadata": {
    "colab": {
      "provenance": []
    },
    "kernelspec": {
      "name": "python3",
      "display_name": "Python 3"
    },
    "language_info": {
      "name": "python"
    }
  },
  "cells": [
    {
      "cell_type": "markdown",
      "source": [
        "**Numpy Datatypes**\n",
        "1. i - integer\n",
        "2. b - boolean\n",
        "3. u - unsigned integer\n",
        "4. f - float\n",
        "5. c - complex float\n",
        "6. m - timedelta\n",
        "7. M - datetime\n",
        "8. O - object\n",
        "9. S - string\n",
        "10. U - unicode string\n",
        "11. V - fixed chunk of memory for other type (void)"
      ],
      "metadata": {
        "id": "vhH1PHs4XWPq"
      }
    },
    {
      "cell_type": "markdown",
      "source": [
        "**Example 1:**"
      ],
      "metadata": {
        "id": "KM91VoWsYihp"
      }
    },
    {
      "cell_type": "code",
      "execution_count": null,
      "metadata": {
        "colab": {
          "base_uri": "https://localhost:8080/"
        },
        "id": "VGkhFDNlXJc8",
        "outputId": "a6cc9f79-69c3-44cc-bce4-de15b1edd972"
      },
      "outputs": [
        {
          "output_type": "stream",
          "name": "stdout",
          "text": [
            "float64\n"
          ]
        }
      ],
      "source": [
        "import numpy as np\n",
        "arr = np.array([1.1,2.2,3.3,4.4,5.5]) #Float datatype\n",
        "print(arr.dtype)"
      ]
    },
    {
      "cell_type": "markdown",
      "source": [
        "**Example 2:**"
      ],
      "metadata": {
        "id": "_g3gXpSeY9rT"
      }
    },
    {
      "cell_type": "code",
      "source": [
        "import numpy as np\n",
        "arr = np.array(['Harshit','Manan','Ankit','Saksham','Raj'])\n",
        "print(arr.dtype)"
      ],
      "metadata": {
        "colab": {
          "base_uri": "https://localhost:8080/"
        },
        "id": "Hj5VBL3jZCmC",
        "outputId": "18291acf-efc9-4b3e-abee-bedf0e5aa200"
      },
      "execution_count": null,
      "outputs": [
        {
          "output_type": "stream",
          "name": "stdout",
          "text": [
            "<U7\n"
          ]
        }
      ]
    },
    {
      "cell_type": "markdown",
      "source": [
        "**Example 3:**"
      ],
      "metadata": {
        "id": "1VQdqQETZeny"
      }
    },
    {
      "cell_type": "code",
      "source": [
        "import numpy as np\n",
        "arr = np.array([1,2,3,4,5], dtype = 'S') # S is the for string data type.\n",
        "print(arr)\n",
        "print(arr.dtype)"
      ],
      "metadata": {
        "colab": {
          "base_uri": "https://localhost:8080/"
        },
        "id": "gkJLswmBZhlr",
        "outputId": "fe593c4b-3e2f-437a-ea34-37b141491fc6"
      },
      "execution_count": null,
      "outputs": [
        {
          "output_type": "stream",
          "name": "stdout",
          "text": [
            "[b'1' b'2' b'3' b'4' b'5']\n",
            "|S1\n"
          ]
        }
      ]
    },
    {
      "cell_type": "markdown",
      "source": [
        "**Example 4:**"
      ],
      "metadata": {
        "id": "yd3xbKITadei"
      }
    },
    {
      "cell_type": "code",
      "source": [
        "import numpy as np\n",
        "arr = np.array([1,2,3,4,5], dtype = 'i4') # i is for interger datatype with 4 for 4 byte.\n",
        "print(arr)\n",
        "print(arr.dtype)"
      ],
      "metadata": {
        "colab": {
          "base_uri": "https://localhost:8080/"
        },
        "id": "XpcLakVfag8K",
        "outputId": "aac3bf47-b267-49aa-be92-bbcb2995c1de"
      },
      "execution_count": null,
      "outputs": [
        {
          "output_type": "stream",
          "name": "stdout",
          "text": [
            "[1 2 3 4 5]\n",
            "int32\n"
          ]
        }
      ]
    },
    {
      "cell_type": "markdown",
      "source": [
        "**Example 5:**"
      ],
      "metadata": {
        "id": "xl345snAavgz"
      }
    },
    {
      "cell_type": "code",
      "source": [
        "import numpy as np\n",
        "arr = np.array(['a','2','3'], dtype = 'i') # i is for interger; a is a string.\n",
        "print(arr)\n",
        "print(arr.dtype)"
      ],
      "metadata": {
        "colab": {
          "base_uri": "https://localhost:8080/",
          "height": 193
        },
        "id": "P9sh8D5Yayjy",
        "outputId": "bfdc11c0-fc2c-4ab8-83d3-ab1dc460d491"
      },
      "execution_count": null,
      "outputs": [
        {
          "output_type": "error",
          "ename": "ValueError",
          "evalue": "invalid literal for int() with base 10: 'a'",
          "traceback": [
            "\u001b[0;31m---------------------------------------------------------------------------\u001b[0m",
            "\u001b[0;31mValueError\u001b[0m                                Traceback (most recent call last)",
            "\u001b[0;32m<ipython-input-10-32af45d9c3c7>\u001b[0m in \u001b[0;36m<cell line: 2>\u001b[0;34m()\u001b[0m\n\u001b[1;32m      1\u001b[0m \u001b[0;32mimport\u001b[0m \u001b[0mnumpy\u001b[0m \u001b[0;32mas\u001b[0m \u001b[0mnp\u001b[0m\u001b[0;34m\u001b[0m\u001b[0;34m\u001b[0m\u001b[0m\n\u001b[0;32m----> 2\u001b[0;31m \u001b[0marr\u001b[0m \u001b[0;34m=\u001b[0m \u001b[0mnp\u001b[0m\u001b[0;34m.\u001b[0m\u001b[0marray\u001b[0m\u001b[0;34m(\u001b[0m\u001b[0;34m[\u001b[0m\u001b[0;34m'a'\u001b[0m\u001b[0;34m,\u001b[0m\u001b[0;34m'2'\u001b[0m\u001b[0;34m,\u001b[0m\u001b[0;34m'3'\u001b[0m\u001b[0;34m]\u001b[0m\u001b[0;34m,\u001b[0m \u001b[0mdtype\u001b[0m \u001b[0;34m=\u001b[0m \u001b[0;34m'i'\u001b[0m\u001b[0;34m)\u001b[0m \u001b[0;31m# i is for interger; a is a string.\u001b[0m\u001b[0;34m\u001b[0m\u001b[0;34m\u001b[0m\u001b[0m\n\u001b[0m\u001b[1;32m      3\u001b[0m \u001b[0mprint\u001b[0m\u001b[0;34m(\u001b[0m\u001b[0marr\u001b[0m\u001b[0;34m)\u001b[0m\u001b[0;34m\u001b[0m\u001b[0;34m\u001b[0m\u001b[0m\n\u001b[1;32m      4\u001b[0m \u001b[0mprint\u001b[0m\u001b[0;34m(\u001b[0m\u001b[0marr\u001b[0m\u001b[0;34m.\u001b[0m\u001b[0mdtype\u001b[0m\u001b[0;34m)\u001b[0m\u001b[0;34m\u001b[0m\u001b[0;34m\u001b[0m\u001b[0m\n",
            "\u001b[0;31mValueError\u001b[0m: invalid literal for int() with base 10: 'a'"
          ]
        }
      ]
    },
    {
      "cell_type": "markdown",
      "source": [
        "**Converting Datatype on existing array.**"
      ],
      "metadata": {
        "id": "F6iKM0Y3bwyy"
      }
    },
    {
      "cell_type": "code",
      "source": [
        "import numpy as np\n",
        "arr = np.array([1.1,2.1,3.1]) # float\n",
        "newarr = arr.astype('int') # astype is used to change the datatype. If we use 'i' it wil show 32 byte and if we use 'int' it will show 64 byte.\n",
        "print(newarr)\n",
        "print(newarr.dtype)"
      ],
      "metadata": {
        "colab": {
          "base_uri": "https://localhost:8080/"
        },
        "id": "DGDP2bupb6OL",
        "outputId": "935b3d95-e3ab-4e51-f560-a5e29b047c13"
      },
      "execution_count": null,
      "outputs": [
        {
          "output_type": "stream",
          "name": "stdout",
          "text": [
            "[1 2 3]\n",
            "int64\n"
          ]
        }
      ]
    },
    {
      "cell_type": "markdown",
      "source": [
        "**Example 1:**"
      ],
      "metadata": {
        "id": "GaZu7u7Yc7u1"
      }
    },
    {
      "cell_type": "code",
      "source": [
        "import numpy as np\n",
        "arr = np.array([1,0,4,0.5,-1]) # Except 0 every number is true.\n",
        "newarr = arr.astype(bool)\n",
        "print(newarr)\n",
        "print(newarr.dtype)"
      ],
      "metadata": {
        "colab": {
          "base_uri": "https://localhost:8080/"
        },
        "id": "v0DDmg0tc-kL",
        "outputId": "0553a445-97fd-4352-fca4-fe99a52b10ee"
      },
      "execution_count": null,
      "outputs": [
        {
          "output_type": "stream",
          "name": "stdout",
          "text": [
            "[ True False  True  True  True]\n",
            "bool\n"
          ]
        }
      ]
    },
    {
      "cell_type": "markdown",
      "source": [
        "**Example 2:**"
      ],
      "metadata": {
        "id": "AblXCc9ueODM"
      }
    },
    {
      "cell_type": "code",
      "source": [
        "import numpy as np\n",
        "arr = np.array([1,2,3,4,5])\n",
        "x = arr.view()\n",
        "print(arr)\n",
        "print(x)"
      ],
      "metadata": {
        "colab": {
          "base_uri": "https://localhost:8080/"
        },
        "id": "09P7qkF2eQYU",
        "outputId": "f61192e5-c590-4020-96c4-3845b95ca23d"
      },
      "execution_count": null,
      "outputs": [
        {
          "output_type": "stream",
          "name": "stdout",
          "text": [
            "[1 2 3 4 5]\n",
            "[1 2 3 4 5]\n"
          ]
        }
      ]
    },
    {
      "cell_type": "markdown",
      "source": [
        "**Copy in Numpy**"
      ],
      "metadata": {
        "id": "-peSnzoiesSU"
      }
    },
    {
      "cell_type": "code",
      "source": [
        "import numpy as np\n",
        "arr = np.array([1,2,3,4,5])\n",
        "x = arr.copy() # only changes the 1st array\n",
        "arr[0]= 42\n",
        "print(arr)\n",
        "print(x)"
      ],
      "metadata": {
        "colab": {
          "base_uri": "https://localhost:8080/"
        },
        "id": "sm9Yp4sWe1tc",
        "outputId": "08f9531d-700a-437e-fa70-6b13af1ee514"
      },
      "execution_count": null,
      "outputs": [
        {
          "output_type": "stream",
          "name": "stdout",
          "text": [
            "[42  2  3  4  5]\n",
            "[1 2 3 4 5]\n"
          ]
        }
      ]
    },
    {
      "cell_type": "markdown",
      "source": [
        "**View in Numpy**"
      ],
      "metadata": {
        "id": "zjDFX19WgbD8"
      }
    },
    {
      "cell_type": "code",
      "source": [
        "import numpy as np\n",
        "arr = np.array([1,2,3,4,5])\n",
        "x = arr.view() #changes both array\n",
        "arr[0]= 42\n",
        "print(arr)\n",
        "print(x)"
      ],
      "metadata": {
        "colab": {
          "base_uri": "https://localhost:8080/"
        },
        "id": "Msk9jAh0gOys",
        "outputId": "33a7d160-9d38-46f2-b20a-3d366962df69"
      },
      "execution_count": null,
      "outputs": [
        {
          "output_type": "stream",
          "name": "stdout",
          "text": [
            "[42  2  3  4  5]\n",
            "[42  2  3  4  5]\n"
          ]
        }
      ]
    },
    {
      "cell_type": "code",
      "source": [
        "import numpy as np\n",
        "arr = np.array([1,2,3,4,5])\n",
        "x = arr.view()\n",
        "x[0]= 410\n",
        "print(arr)\n",
        "print(x)"
      ],
      "metadata": {
        "colab": {
          "base_uri": "https://localhost:8080/"
        },
        "id": "k3om2JjrgnIM",
        "outputId": "8aa19fb6-2f14-4135-9d8e-cb9aba8e30c1"
      },
      "execution_count": null,
      "outputs": [
        {
          "output_type": "stream",
          "name": "stdout",
          "text": [
            "[410   2   3   4   5]\n",
            "[410   2   3   4   5]\n"
          ]
        }
      ]
    },
    {
      "cell_type": "markdown",
      "source": [
        "**Check if array owns its data**"
      ],
      "metadata": {
        "id": "f_cqQPPwg0nb"
      }
    },
    {
      "cell_type": "code",
      "source": [
        "import numpy as np\n",
        "arr = np.array([1,2,3,4,5])\n",
        "x = arr.copy()\n",
        "y = arr.view()\n",
        "print(x.base)\n",
        "print(y.base)"
      ],
      "metadata": {
        "colab": {
          "base_uri": "https://localhost:8080/"
        },
        "id": "tIEfGWzag6ys",
        "outputId": "6a586735-0da6-44fb-994a-cfff63e71ce2"
      },
      "execution_count": null,
      "outputs": [
        {
          "output_type": "stream",
          "name": "stdout",
          "text": [
            "None\n",
            "[1 2 3 4 5]\n"
          ]
        }
      ]
    },
    {
      "cell_type": "markdown",
      "source": [
        "**Q1. Create an array with 5 student name, create a view with the reference to student array.        \n",
        "a. Copy the student array into array_library.     \n",
        "b. Print name of student 2.       \n",
        "c. Print name of student 4.   \n",
        "d. Print name last student.    \n",
        "e. Change the name of 3rd student to 'Jay' using view.**"
      ],
      "metadata": {
        "id": "CVkjZV37h1Dj"
      }
    },
    {
      "cell_type": "code",
      "source": [
        "import numpy as np\n",
        "std_array = np.array(['Harshit','Raj','Ankit','Manan','Saksham']) # Main array\n",
        "v_std = std_array.view() # View array\n",
        "array_library = std_array.copy() # Copy array\n",
        "print('a.',array_library)\n",
        "print('b. Print name of student 2 :',std_array[1])\n",
        "print('c. Print name of student 4 :',std_array[3])\n",
        "print('d. Print name of last student :',std_array[-1])\n",
        "v_std[2] = 'Jay' # Name changed\n",
        "print('e.',v_std)\n",
        "print('Main array after making changes in view array :',std_array) # changes in view array also changes the main array."
      ],
      "metadata": {
        "colab": {
          "base_uri": "https://localhost:8080/"
        },
        "id": "tkT6PI3oiprE",
        "outputId": "0106a209-d478-47d7-aa48-dd9205c9d738"
      },
      "execution_count": null,
      "outputs": [
        {
          "output_type": "stream",
          "name": "stdout",
          "text": [
            "a. ['Harshit' 'Raj' 'Ankit' 'Manan' 'Saksham']\n",
            "b. Print name of student 2 : Raj\n",
            "c. Print name of student 4 : Manan\n",
            "d. Print name of last student : Saksham\n",
            "e. ['Harshit' 'Raj' 'Jay' 'Manan' 'Saksham']\n",
            "Main array after making changes in view array : ['Harshit' 'Raj' 'Jay' 'Manan' 'Saksham']\n"
          ]
        }
      ]
    },
    {
      "cell_type": "markdown",
      "source": [
        "**Numpy array shape.**     \n",
        "Shape of an array."
      ],
      "metadata": {
        "id": "F2qaWHCelm_e"
      }
    },
    {
      "cell_type": "markdown",
      "source": [
        "**Example 1:**"
      ],
      "metadata": {
        "id": "cVNStE1gmWk1"
      }
    },
    {
      "cell_type": "code",
      "source": [
        "import numpy as np\n",
        "arr = np.array([[1,2,3,4,5],[6,7,8,9,10]]) # 2 rows, 5 column.\n",
        "print(arr.shape)"
      ],
      "metadata": {
        "colab": {
          "base_uri": "https://localhost:8080/"
        },
        "id": "lXhz-SsnluHW",
        "outputId": "350f8795-e4f1-474e-d289-61390b45e362"
      },
      "execution_count": null,
      "outputs": [
        {
          "output_type": "stream",
          "name": "stdout",
          "text": [
            "(2, 5)\n"
          ]
        }
      ]
    },
    {
      "cell_type": "markdown",
      "source": [
        "**Example 2:**"
      ],
      "metadata": {
        "id": "Mqq0yxvLm1uN"
      }
    },
    {
      "cell_type": "code",
      "source": [
        "import numpy as np\n",
        "arr = np.array([1,2,3,4,5], ndmin = 5)\n",
        "print(arr)\n",
        "print('Shape of the array :',arr.shape)"
      ],
      "metadata": {
        "colab": {
          "base_uri": "https://localhost:8080/"
        },
        "id": "Dkl6Q0jTm6t1",
        "outputId": "d6969d66-96f8-40ed-bf30-f6b8434fa915"
      },
      "execution_count": null,
      "outputs": [
        {
          "output_type": "stream",
          "name": "stdout",
          "text": [
            "[[[[[1 2 3 4 5]]]]]\n",
            "Shape of the array : (1, 1, 1, 1, 5)\n"
          ]
        }
      ]
    },
    {
      "cell_type": "markdown",
      "source": [
        "**Convertion of dimension of an array**"
      ],
      "metadata": {
        "id": "UDSzkAfRnZXN"
      }
    },
    {
      "cell_type": "code",
      "source": [
        "import numpy as np\n",
        "arr = np.array([1,2,3,4,5,6,7,8,9,10,11,12])\n",
        "newarr = arr.reshape(4,3)\n",
        "print(arr)\n",
        "print(newarr)"
      ],
      "metadata": {
        "colab": {
          "base_uri": "https://localhost:8080/"
        },
        "id": "oP14qTMlngKc",
        "outputId": "01b89dcc-5853-4846-c394-639b02db8440"
      },
      "execution_count": null,
      "outputs": [
        {
          "output_type": "stream",
          "name": "stdout",
          "text": [
            "[ 1  2  3  4  5  6  7  8  9 10 11 12]\n",
            "[[ 1  2  3]\n",
            " [ 4  5  6]\n",
            " [ 7  8  9]\n",
            " [10 11 12]]\n"
          ]
        }
      ]
    },
    {
      "cell_type": "markdown",
      "source": [
        "**Example 1:**"
      ],
      "metadata": {
        "id": "12Q5bJCen-aF"
      }
    },
    {
      "cell_type": "code",
      "source": [
        "import numpy as np\n",
        "arr = np.array([1,2,3,4,5,6,7,8,9,10,11,12])\n",
        "newarr = arr.reshape(2,3,2)\n",
        "print(arr)\n",
        "print(newarr)"
      ],
      "metadata": {
        "colab": {
          "base_uri": "https://localhost:8080/"
        },
        "id": "L_FM0txaoChF",
        "outputId": "213b6de0-03e6-40bb-f353-83404a5833b8"
      },
      "execution_count": null,
      "outputs": [
        {
          "output_type": "stream",
          "name": "stdout",
          "text": [
            "[ 1  2  3  4  5  6  7  8  9 10 11 12]\n",
            "[[[ 1  2]\n",
            "  [ 3  4]\n",
            "  [ 5  6]]\n",
            "\n",
            " [[ 7  8]\n",
            "  [ 9 10]\n",
            "  [11 12]]]\n"
          ]
        }
      ]
    },
    {
      "cell_type": "markdown",
      "source": [
        "**Example 2:**"
      ],
      "metadata": {
        "id": "zzGkFpi5orok"
      }
    },
    {
      "cell_type": "code",
      "source": [
        "import numpy as np\n",
        "arr = np.array([1,2,3,4,5,6])\n",
        "v_arr = arr.view()\n",
        "c_arr = arr.copy()\n",
        "nv_arr = v_arr.reshape(2,3)\n",
        "nc_arr = c_arr.reshape(2,3)\n",
        "print('Reshaped view array :',nv_arr)\n",
        "print('Main array :',arr)\n",
        "print('Reshaped copy array :',nc_arr)\n",
        "print(arr.reshape(2,3).base)\n",
        "print(v_arr.reshape(2,3).base)\n",
        "print(c_arr.reshape(2,3).base)"
      ],
      "metadata": {
        "colab": {
          "base_uri": "https://localhost:8080/"
        },
        "id": "CgQPkH2Yovbv",
        "outputId": "70521e4a-2fef-4f2d-e35a-00f0ca17e5e9"
      },
      "execution_count": null,
      "outputs": [
        {
          "output_type": "stream",
          "name": "stdout",
          "text": [
            "Reshaped view array : [[1 2 3]\n",
            " [4 5 6]]\n",
            "Main array : [1 2 3 4 5 6]\n",
            "Reshaped copy array : [[1 2 3]\n",
            " [4 5 6]]\n",
            "[1 2 3 4 5 6]\n",
            "[1 2 3 4 5 6]\n",
            "[1 2 3 4 5 6]\n"
          ]
        }
      ]
    },
    {
      "cell_type": "markdown",
      "source": [
        "**Example 3:**"
      ],
      "metadata": {
        "id": "7TI7daC8qeR-"
      }
    },
    {
      "cell_type": "code",
      "source": [
        "import numpy as np\n",
        "arr = np.array([[1,2,3],[4,5,6]])\n",
        "n_arr = arr.reshape(-1)\n",
        "print(n_arr)"
      ],
      "metadata": {
        "colab": {
          "base_uri": "https://localhost:8080/"
        },
        "id": "_CZyG-_LqhiF",
        "outputId": "cdab163c-2fb4-490b-d3f0-3d54af0bacaf"
      },
      "execution_count": null,
      "outputs": [
        {
          "output_type": "stream",
          "name": "stdout",
          "text": [
            "[1 2 3 4 5 6]\n"
          ]
        }
      ]
    }
  ]
}