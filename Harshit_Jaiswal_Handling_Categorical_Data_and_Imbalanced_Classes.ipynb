{
  "nbformat": 4,
  "nbformat_minor": 0,
  "metadata": {
    "colab": {
      "provenance": []
    },
    "kernelspec": {
      "name": "python3",
      "display_name": "Python 3"
    },
    "language_info": {
      "name": "python"
    }
  },
  "cells": [
    {
      "cell_type": "markdown",
      "source": [
        "# **Encoding Nominal Categorical Feature**"
      ],
      "metadata": {
        "id": "d5CTpVFyd8x1"
      }
    },
    {
      "cell_type": "markdown",
      "source": [
        "**Encoding Nominal Categorical Features**  \n",
        "**Problem**   \n",
        "You have a feature with nominal classes that has no intrinsic ordering (e.g., apple, pear, banana).\n",
        "**Solution**    \n",
        "One-hot encode the feature using scikit-learn's LabelBinarizer:"
      ],
      "metadata": {
        "id": "gWOZx7TgjChL"
      }
    },
    {
      "cell_type": "code",
      "execution_count": null,
      "metadata": {
        "colab": {
          "base_uri": "https://localhost:8080/"
        },
        "id": "Havdm8SZdoMA",
        "outputId": "5f444eaf-7bba-4579-feec-48ace046f481"
      },
      "outputs": [
        {
          "output_type": "execute_result",
          "data": {
            "text/plain": [
              "array([[0, 0, 1],\n",
              "       [1, 0, 0],\n",
              "       [0, 0, 1],\n",
              "       [0, 1, 0],\n",
              "       [0, 0, 1]])"
            ]
          },
          "metadata": {},
          "execution_count": 4
        }
      ],
      "source": [
        "import numpy as np\n",
        "from sklearn.preprocessing import LabelBinarizer, MultiLabelBinarizer\n",
        "feature = np.array([\n",
        "            [\"Texas\"],\n",
        "            [\"California\"],\n",
        "            [\"Texas\"],\n",
        "            [\"Delaware\"],\n",
        "            [\"Texas\"]])\n",
        "\n",
        "# create one-hot encoder\n",
        "one_hot = LabelBinarizer()\n",
        "\n",
        "# one_hot encoder feature\n",
        "one_hot.fit_transform(feature)\n"
      ]
    },
    {
      "cell_type": "code",
      "source": [
        "# view feature classes\n",
        "one_hot.classes_"
      ],
      "metadata": {
        "colab": {
          "base_uri": "https://localhost:8080/"
        },
        "id": "53Wn2fdvigJt",
        "outputId": "a8ad390c-76ee-40e1-b4d5-e125f2be8953"
      },
      "execution_count": null,
      "outputs": [
        {
          "output_type": "execute_result",
          "data": {
            "text/plain": [
              "array(['California', 'Delaware', 'Texas'], dtype='<U10')"
            ]
          },
          "metadata": {},
          "execution_count": 5
        }
      ]
    },
    {
      "cell_type": "code",
      "source": [
        "# reverse one_hot encoding\n",
        "one_hot.inverse_transform(one_hot.transform(feature))"
      ],
      "metadata": {
        "colab": {
          "base_uri": "https://localhost:8080/"
        },
        "id": "b0HMXzXximt9",
        "outputId": "36edd9f0-0ff8-4636-80bf-a60b07e61143"
      },
      "execution_count": null,
      "outputs": [
        {
          "output_type": "execute_result",
          "data": {
            "text/plain": [
              "array(['Texas', 'California', 'Texas', 'Delaware', 'Texas'], dtype='<U10')"
            ]
          },
          "metadata": {},
          "execution_count": 6
        }
      ]
    },
    {
      "cell_type": "markdown",
      "source": [
        "**We can even use pandas to one-hot encode the feature with get_dummies**"
      ],
      "metadata": {
        "id": "axRtPvuXjZty"
      }
    },
    {
      "cell_type": "code",
      "source": [
        "import pandas as pd\n",
        "pd.get_dummies(feature[:,0])"
      ],
      "metadata": {
        "colab": {
          "base_uri": "https://localhost:8080/",
          "height": 206
        },
        "id": "gjI66P16jOxC",
        "outputId": "b492ae8e-dd9d-4a22-c683-ad850af02d84"
      },
      "execution_count": null,
      "outputs": [
        {
          "output_type": "execute_result",
          "data": {
            "text/plain": [
              "   California  Delaware  Texas\n",
              "0       False     False   True\n",
              "1        True     False  False\n",
              "2       False     False   True\n",
              "3       False      True  False\n",
              "4       False     False   True"
            ],
            "text/html": [
              "\n",
              "  <div id=\"df-1c83efac-2b5c-443e-bc39-d6534247f6fa\" class=\"colab-df-container\">\n",
              "    <div>\n",
              "<style scoped>\n",
              "    .dataframe tbody tr th:only-of-type {\n",
              "        vertical-align: middle;\n",
              "    }\n",
              "\n",
              "    .dataframe tbody tr th {\n",
              "        vertical-align: top;\n",
              "    }\n",
              "\n",
              "    .dataframe thead th {\n",
              "        text-align: right;\n",
              "    }\n",
              "</style>\n",
              "<table border=\"1\" class=\"dataframe\">\n",
              "  <thead>\n",
              "    <tr style=\"text-align: right;\">\n",
              "      <th></th>\n",
              "      <th>California</th>\n",
              "      <th>Delaware</th>\n",
              "      <th>Texas</th>\n",
              "    </tr>\n",
              "  </thead>\n",
              "  <tbody>\n",
              "    <tr>\n",
              "      <th>0</th>\n",
              "      <td>False</td>\n",
              "      <td>False</td>\n",
              "      <td>True</td>\n",
              "    </tr>\n",
              "    <tr>\n",
              "      <th>1</th>\n",
              "      <td>True</td>\n",
              "      <td>False</td>\n",
              "      <td>False</td>\n",
              "    </tr>\n",
              "    <tr>\n",
              "      <th>2</th>\n",
              "      <td>False</td>\n",
              "      <td>False</td>\n",
              "      <td>True</td>\n",
              "    </tr>\n",
              "    <tr>\n",
              "      <th>3</th>\n",
              "      <td>False</td>\n",
              "      <td>True</td>\n",
              "      <td>False</td>\n",
              "    </tr>\n",
              "    <tr>\n",
              "      <th>4</th>\n",
              "      <td>False</td>\n",
              "      <td>False</td>\n",
              "      <td>True</td>\n",
              "    </tr>\n",
              "  </tbody>\n",
              "</table>\n",
              "</div>\n",
              "    <div class=\"colab-df-buttons\">\n",
              "\n",
              "  <div class=\"colab-df-container\">\n",
              "    <button class=\"colab-df-convert\" onclick=\"convertToInteractive('df-1c83efac-2b5c-443e-bc39-d6534247f6fa')\"\n",
              "            title=\"Convert this dataframe to an interactive table.\"\n",
              "            style=\"display:none;\">\n",
              "\n",
              "  <svg xmlns=\"http://www.w3.org/2000/svg\" height=\"24px\" viewBox=\"0 -960 960 960\">\n",
              "    <path d=\"M120-120v-720h720v720H120Zm60-500h600v-160H180v160Zm220 220h160v-160H400v160Zm0 220h160v-160H400v160ZM180-400h160v-160H180v160Zm440 0h160v-160H620v160ZM180-180h160v-160H180v160Zm440 0h160v-160H620v160Z\"/>\n",
              "  </svg>\n",
              "    </button>\n",
              "\n",
              "  <style>\n",
              "    .colab-df-container {\n",
              "      display:flex;\n",
              "      gap: 12px;\n",
              "    }\n",
              "\n",
              "    .colab-df-convert {\n",
              "      background-color: #E8F0FE;\n",
              "      border: none;\n",
              "      border-radius: 50%;\n",
              "      cursor: pointer;\n",
              "      display: none;\n",
              "      fill: #1967D2;\n",
              "      height: 32px;\n",
              "      padding: 0 0 0 0;\n",
              "      width: 32px;\n",
              "    }\n",
              "\n",
              "    .colab-df-convert:hover {\n",
              "      background-color: #E2EBFA;\n",
              "      box-shadow: 0px 1px 2px rgba(60, 64, 67, 0.3), 0px 1px 3px 1px rgba(60, 64, 67, 0.15);\n",
              "      fill: #174EA6;\n",
              "    }\n",
              "\n",
              "    .colab-df-buttons div {\n",
              "      margin-bottom: 4px;\n",
              "    }\n",
              "\n",
              "    [theme=dark] .colab-df-convert {\n",
              "      background-color: #3B4455;\n",
              "      fill: #D2E3FC;\n",
              "    }\n",
              "\n",
              "    [theme=dark] .colab-df-convert:hover {\n",
              "      background-color: #434B5C;\n",
              "      box-shadow: 0px 1px 3px 1px rgba(0, 0, 0, 0.15);\n",
              "      filter: drop-shadow(0px 1px 2px rgba(0, 0, 0, 0.3));\n",
              "      fill: #FFFFFF;\n",
              "    }\n",
              "  </style>\n",
              "\n",
              "    <script>\n",
              "      const buttonEl =\n",
              "        document.querySelector('#df-1c83efac-2b5c-443e-bc39-d6534247f6fa button.colab-df-convert');\n",
              "      buttonEl.style.display =\n",
              "        google.colab.kernel.accessAllowed ? 'block' : 'none';\n",
              "\n",
              "      async function convertToInteractive(key) {\n",
              "        const element = document.querySelector('#df-1c83efac-2b5c-443e-bc39-d6534247f6fa');\n",
              "        const dataTable =\n",
              "          await google.colab.kernel.invokeFunction('convertToInteractive',\n",
              "                                                    [key], {});\n",
              "        if (!dataTable) return;\n",
              "\n",
              "        const docLinkHtml = 'Like what you see? Visit the ' +\n",
              "          '<a target=\"_blank\" href=https://colab.research.google.com/notebooks/data_table.ipynb>data table notebook</a>'\n",
              "          + ' to learn more about interactive tables.';\n",
              "        element.innerHTML = '';\n",
              "        dataTable['output_type'] = 'display_data';\n",
              "        await google.colab.output.renderOutput(dataTable, element);\n",
              "        const docLink = document.createElement('div');\n",
              "        docLink.innerHTML = docLinkHtml;\n",
              "        element.appendChild(docLink);\n",
              "      }\n",
              "    </script>\n",
              "  </div>\n",
              "\n",
              "\n",
              "<div id=\"df-379f9381-2295-45c6-af62-64eb90ad04d1\">\n",
              "  <button class=\"colab-df-quickchart\" onclick=\"quickchart('df-379f9381-2295-45c6-af62-64eb90ad04d1')\"\n",
              "            title=\"Suggest charts\"\n",
              "            style=\"display:none;\">\n",
              "\n",
              "<svg xmlns=\"http://www.w3.org/2000/svg\" height=\"24px\"viewBox=\"0 0 24 24\"\n",
              "     width=\"24px\">\n",
              "    <g>\n",
              "        <path d=\"M19 3H5c-1.1 0-2 .9-2 2v14c0 1.1.9 2 2 2h14c1.1 0 2-.9 2-2V5c0-1.1-.9-2-2-2zM9 17H7v-7h2v7zm4 0h-2V7h2v10zm4 0h-2v-4h2v4z\"/>\n",
              "    </g>\n",
              "</svg>\n",
              "  </button>\n",
              "\n",
              "<style>\n",
              "  .colab-df-quickchart {\n",
              "      --bg-color: #E8F0FE;\n",
              "      --fill-color: #1967D2;\n",
              "      --hover-bg-color: #E2EBFA;\n",
              "      --hover-fill-color: #174EA6;\n",
              "      --disabled-fill-color: #AAA;\n",
              "      --disabled-bg-color: #DDD;\n",
              "  }\n",
              "\n",
              "  [theme=dark] .colab-df-quickchart {\n",
              "      --bg-color: #3B4455;\n",
              "      --fill-color: #D2E3FC;\n",
              "      --hover-bg-color: #434B5C;\n",
              "      --hover-fill-color: #FFFFFF;\n",
              "      --disabled-bg-color: #3B4455;\n",
              "      --disabled-fill-color: #666;\n",
              "  }\n",
              "\n",
              "  .colab-df-quickchart {\n",
              "    background-color: var(--bg-color);\n",
              "    border: none;\n",
              "    border-radius: 50%;\n",
              "    cursor: pointer;\n",
              "    display: none;\n",
              "    fill: var(--fill-color);\n",
              "    height: 32px;\n",
              "    padding: 0;\n",
              "    width: 32px;\n",
              "  }\n",
              "\n",
              "  .colab-df-quickchart:hover {\n",
              "    background-color: var(--hover-bg-color);\n",
              "    box-shadow: 0 1px 2px rgba(60, 64, 67, 0.3), 0 1px 3px 1px rgba(60, 64, 67, 0.15);\n",
              "    fill: var(--button-hover-fill-color);\n",
              "  }\n",
              "\n",
              "  .colab-df-quickchart-complete:disabled,\n",
              "  .colab-df-quickchart-complete:disabled:hover {\n",
              "    background-color: var(--disabled-bg-color);\n",
              "    fill: var(--disabled-fill-color);\n",
              "    box-shadow: none;\n",
              "  }\n",
              "\n",
              "  .colab-df-spinner {\n",
              "    border: 2px solid var(--fill-color);\n",
              "    border-color: transparent;\n",
              "    border-bottom-color: var(--fill-color);\n",
              "    animation:\n",
              "      spin 1s steps(1) infinite;\n",
              "  }\n",
              "\n",
              "  @keyframes spin {\n",
              "    0% {\n",
              "      border-color: transparent;\n",
              "      border-bottom-color: var(--fill-color);\n",
              "      border-left-color: var(--fill-color);\n",
              "    }\n",
              "    20% {\n",
              "      border-color: transparent;\n",
              "      border-left-color: var(--fill-color);\n",
              "      border-top-color: var(--fill-color);\n",
              "    }\n",
              "    30% {\n",
              "      border-color: transparent;\n",
              "      border-left-color: var(--fill-color);\n",
              "      border-top-color: var(--fill-color);\n",
              "      border-right-color: var(--fill-color);\n",
              "    }\n",
              "    40% {\n",
              "      border-color: transparent;\n",
              "      border-right-color: var(--fill-color);\n",
              "      border-top-color: var(--fill-color);\n",
              "    }\n",
              "    60% {\n",
              "      border-color: transparent;\n",
              "      border-right-color: var(--fill-color);\n",
              "    }\n",
              "    80% {\n",
              "      border-color: transparent;\n",
              "      border-right-color: var(--fill-color);\n",
              "      border-bottom-color: var(--fill-color);\n",
              "    }\n",
              "    90% {\n",
              "      border-color: transparent;\n",
              "      border-bottom-color: var(--fill-color);\n",
              "    }\n",
              "  }\n",
              "</style>\n",
              "\n",
              "  <script>\n",
              "    async function quickchart(key) {\n",
              "      const quickchartButtonEl =\n",
              "        document.querySelector('#' + key + ' button');\n",
              "      quickchartButtonEl.disabled = true;  // To prevent multiple clicks.\n",
              "      quickchartButtonEl.classList.add('colab-df-spinner');\n",
              "      try {\n",
              "        const charts = await google.colab.kernel.invokeFunction(\n",
              "            'suggestCharts', [key], {});\n",
              "      } catch (error) {\n",
              "        console.error('Error during call to suggestCharts:', error);\n",
              "      }\n",
              "      quickchartButtonEl.classList.remove('colab-df-spinner');\n",
              "      quickchartButtonEl.classList.add('colab-df-quickchart-complete');\n",
              "    }\n",
              "    (() => {\n",
              "      let quickchartButtonEl =\n",
              "        document.querySelector('#df-379f9381-2295-45c6-af62-64eb90ad04d1 button');\n",
              "      quickchartButtonEl.style.display =\n",
              "        google.colab.kernel.accessAllowed ? 'block' : 'none';\n",
              "    })();\n",
              "  </script>\n",
              "</div>\n",
              "\n",
              "    </div>\n",
              "  </div>\n"
            ],
            "application/vnd.google.colaboratory.intrinsic+json": {
              "type": "dataframe",
              "summary": "{\n  \"name\": \"pd\",\n  \"rows\": 5,\n  \"fields\": [\n    {\n      \"column\": \"California\",\n      \"properties\": {\n        \"dtype\": \"boolean\",\n        \"num_unique_values\": 2,\n        \"samples\": [\n          true,\n          false\n        ],\n        \"semantic_type\": \"\",\n        \"description\": \"\"\n      }\n    },\n    {\n      \"column\": \"Delaware\",\n      \"properties\": {\n        \"dtype\": \"boolean\",\n        \"num_unique_values\": 2,\n        \"samples\": [\n          true,\n          false\n        ],\n        \"semantic_type\": \"\",\n        \"description\": \"\"\n      }\n    },\n    {\n      \"column\": \"Texas\",\n      \"properties\": {\n        \"dtype\": \"boolean\",\n        \"num_unique_values\": 2,\n        \"samples\": [\n          false,\n          true\n        ],\n        \"semantic_type\": \"\",\n        \"description\": \"\"\n      }\n    }\n  ]\n}"
            }
          },
          "metadata": {},
          "execution_count": 7
        }
      ]
    },
    {
      "cell_type": "markdown",
      "source": [
        "**To handle a situation where each observation lists multiple classes with**"
      ],
      "metadata": {
        "id": "Pz_zvU85jfOo"
      }
    },
    {
      "cell_type": "code",
      "source": [
        "# create multiclass feature\n",
        "multiclass_feature = [\n",
        "    (\"Texas\",\"Florida\"),\n",
        "    (\"Calfornia\",\"Alabama\"),\n",
        "    (\"Texas\",\"Florida\"),\n",
        "    (\"Delaware\",\"Florida\"),\n",
        "    (\"Texas\",\"Alabama\")\n",
        "]\n",
        "\n",
        "# create multiclass one_hot encode\n",
        "one_hot_multiclass = MultiLabelBinarizer()\n",
        "\n",
        "# one_hot encode multiclass feature\n",
        "one_hot_multiclass.fit_transform(multiclass_feature)"
      ],
      "metadata": {
        "colab": {
          "base_uri": "https://localhost:8080/"
        },
        "id": "0HNM47nEjiAQ",
        "outputId": "117a5779-e781-4300-ed87-c40e1a22915c"
      },
      "execution_count": null,
      "outputs": [
        {
          "output_type": "execute_result",
          "data": {
            "text/plain": [
              "array([[0, 0, 0, 1, 1],\n",
              "       [1, 1, 0, 0, 0],\n",
              "       [0, 0, 0, 1, 1],\n",
              "       [0, 0, 1, 1, 0],\n",
              "       [1, 0, 0, 0, 1]])"
            ]
          },
          "metadata": {},
          "execution_count": 8
        }
      ]
    },
    {
      "cell_type": "code",
      "source": [
        "# view classes\n",
        "one_hot_multiclass.classes_"
      ],
      "metadata": {
        "colab": {
          "base_uri": "https://localhost:8080/"
        },
        "id": "mfdmbLVHkiFK",
        "outputId": "6881ffda-47bb-4be6-d23a-b75d824b13cf"
      },
      "execution_count": null,
      "outputs": [
        {
          "output_type": "execute_result",
          "data": {
            "text/plain": [
              "array(['Alabama', 'Calfornia', 'Delaware', 'Florida', 'Texas'],\n",
              "      dtype=object)"
            ]
          },
          "metadata": {},
          "execution_count": 9
        }
      ]
    },
    {
      "cell_type": "markdown",
      "source": [
        "# **5.2 Encoding Ordinal Categorical Features**   \n",
        "**Problem**     \n",
        "You have an ordinal categorical feature (e.g., high, medium, low).     \n",
        "**Solution**    \n",
        "Use pandas DataFrame's replace method to transform string labels to numerical equivalents"
      ],
      "metadata": {
        "id": "8h-22_sRkqWp"
      }
    },
    {
      "cell_type": "code",
      "source": [
        "import pandas as pd\n",
        "# create feature\n",
        "df = pd.DataFrame({\"Score\" : [\"Low\", \"Low\", \"Medium\", \"High\"]})\n",
        "\n",
        "# create mapper\n",
        "scale_mapper = {\n",
        "    \"Low\" : 1,\n",
        "    \"Medium\" : 2,\n",
        "    \"High\" : 3\n",
        "}\n",
        "\n",
        "# replace feature values with scale\n",
        "df[\"Score\"].replace(scale_mapper)"
      ],
      "metadata": {
        "colab": {
          "base_uri": "https://localhost:8080/"
        },
        "id": "HOt7tHLskzK5",
        "outputId": "c8005abf-6d43-49c8-b2a4-7741261ac1bf"
      },
      "execution_count": null,
      "outputs": [
        {
          "output_type": "execute_result",
          "data": {
            "text/plain": [
              "0    1\n",
              "1    1\n",
              "2    2\n",
              "3    3\n",
              "Name: Score, dtype: int64"
            ]
          },
          "metadata": {},
          "execution_count": 11
        }
      ]
    },
    {
      "cell_type": "markdown",
      "source": [
        "# **Encoding Dictionaries of Features**    \n",
        "**Problem**   \n",
        "You have a dictionary and want to convert it into a feature matrix.     \n",
        "**Solution**   \n",
        "Use DictVectorizer:\n"
      ],
      "metadata": {
        "id": "ANsr-mL5wWlP"
      }
    },
    {
      "cell_type": "code",
      "source": [
        "from sklearn.feature_extraction import DictVectorizer\n",
        "data_dict = [\n",
        "    {\"Red\": 2, \"Blue\": 4},\n",
        "    {\"Red\": 4, \"Blue\": 3},\n",
        "    {\"Red\": 1, \"Yellow\": 2},\n",
        "    {\"Red\": 2, \"Yellow\": 2}\n",
        "]\n",
        "\n",
        "# create dictionary vectorizer\n",
        "dictvectorizer = DictVectorizer(sparse = False) #force DictVectorizer to output\n",
        "\n",
        "# covert dictionary to feature martrix\n",
        "features = dictvectorizer.fit_transform(data_dict)\n",
        "features"
      ],
      "metadata": {
        "colab": {
          "base_uri": "https://localhost:8080/"
        },
        "id": "ikEoai0tu1mb",
        "outputId": "bc1a383b-3d88-4542-88c4-c10885a99c5f"
      },
      "execution_count": null,
      "outputs": [
        {
          "output_type": "execute_result",
          "data": {
            "text/plain": [
              "array([[4., 2., 0.],\n",
              "       [3., 4., 0.],\n",
              "       [0., 1., 2.],\n",
              "       [0., 2., 2.]])"
            ]
          },
          "metadata": {},
          "execution_count": 14
        }
      ]
    },
    {
      "cell_type": "code",
      "source": [
        "# get feature names\n",
        "dictvectorizer.get_feature_names_out()"
      ],
      "metadata": {
        "colab": {
          "base_uri": "https://localhost:8080/"
        },
        "id": "FX_PuKfjwDqV",
        "outputId": "2877b845-3cd4-419b-c1b3-562591044497"
      },
      "execution_count": null,
      "outputs": [
        {
          "output_type": "execute_result",
          "data": {
            "text/plain": [
              "array(['Blue', 'Red', 'Yellow'], dtype=object)"
            ]
          },
          "metadata": {},
          "execution_count": 15
        }
      ]
    },
    {
      "cell_type": "markdown",
      "source": [
        "# **Imputing Missing Class Values**    \n",
        "**Problem**   \n",
        "You have a categorical feature containing missing values that you want to replace with predicted\n",
        "values.    \n",
        "**Solution**   \n",
        "The ideal solution is to train a machine learning classifier algorithm to predict the missing\n",
        "values, commonly a k-nearest neighbors (KNN) classifier:\n"
      ],
      "metadata": {
        "id": "ewEPG5BhwkTH"
      }
    },
    {
      "cell_type": "code",
      "source": [
        "# load libraries\n",
        "import numpy as ap\n",
        "from sklearn.neighbors import KNeighborsClassifier\n",
        "\n",
        "X = np.array([[0, 2.10, 1.45],\n",
        "              [1, 1.18, 1.33],\n",
        "              [0, 1.22, 1.27],\n",
        "              [1, -0.21, -1.19]])\n",
        "\n",
        "X_with_nan = np.array([[np.nan, 0.87, 1.13],\n",
        "                       [np.nan, -0.67, -0.22]])\n",
        "\n",
        "# train KNN learner\n",
        "clf = KNeighborsClassifier(3, weights = 'distance')\n",
        "trained_model = clf.fit(X[:, 1:], X[:, 0])\n",
        "\n",
        "# predict missing values, class\n",
        "imputed_values = trained_model.predict(X_with_nan[:, 1:])\n",
        "\n",
        "# join column of predicted class with their other features\n",
        "X_with_imputed = np.hstack((imputed_values.reshape(-1, 1), X_with_nan[:, 1:]))\n",
        "\n",
        "#join two feature matricies\n",
        "np.vstack((X_with_imputed, X))\n",
        "\n"
      ],
      "metadata": {
        "colab": {
          "base_uri": "https://localhost:8080/"
        },
        "id": "Xcf_x3rPwq1f",
        "outputId": "bebe65bd-ea88-4bd4-fb70-2885d5404795"
      },
      "execution_count": null,
      "outputs": [
        {
          "output_type": "execute_result",
          "data": {
            "text/plain": [
              "array([[ 0.  ,  0.87,  1.13],\n",
              "       [ 1.  , -0.67, -0.22],\n",
              "       [ 0.  ,  2.1 ,  1.45],\n",
              "       [ 1.  ,  1.18,  1.33],\n",
              "       [ 0.  ,  1.22,  1.27],\n",
              "       [ 1.  , -0.21, -1.19]])"
            ]
          },
          "metadata": {},
          "execution_count": 44
        }
      ]
    },
    {
      "cell_type": "code",
      "source": [
        "# from sklearn.preprocessor import Imputer\n",
        "from sklearn.impute import SimpleImputer\n",
        "\n",
        "# join the two feature matrices\n",
        "X_complete = np.vstack((X_with_nan, X))\n",
        "\n",
        "imputer = SimpleImputer(missing_values = np.nan, strategy = 'mean')\n",
        "\n",
        "imputer.fit_transform(X_complete)"
      ],
      "metadata": {
        "colab": {
          "base_uri": "https://localhost:8080/"
        },
        "id": "n5BItRdQy67b",
        "outputId": "eefdd9fd-cbcc-4821-e3e0-2d1153f417e4"
      },
      "execution_count": null,
      "outputs": [
        {
          "output_type": "execute_result",
          "data": {
            "text/plain": [
              "array([[ 0.5 ,  0.87,  1.13],\n",
              "       [ 0.5 , -0.67, -0.22],\n",
              "       [ 0.  ,  2.1 ,  1.45],\n",
              "       [ 1.  ,  1.18,  1.33],\n",
              "       [ 0.  ,  1.22,  1.27],\n",
              "       [ 1.  , -0.21, -1.19]])"
            ]
          },
          "metadata": {},
          "execution_count": 20
        }
      ]
    },
    {
      "cell_type": "markdown",
      "source": [
        "# **Handling Imbalanced Classes**    \n",
        "**Problem**     \n",
        "You have a target vector (dataset) with highly imbalanced classes.      \n",
        "Fisher's Iris dataset (download link 1 : https://www.kaggle.com/uciml/iris      \n",
        "Link2: https://archive.ics.uci.edu/ml/machine-learning-databases/iris/)\n"
      ],
      "metadata": {
        "id": "FdyfrXl9zxz7"
      }
    },
    {
      "cell_type": "code",
      "source": [
        "import numpy as np\n",
        "from sklearn.ensemble import RandomForestClassifier\n",
        "from sklearn.datasets import load_iris\n",
        "\n",
        "iris = load_iris()\n",
        "\n",
        "features = iris.data\n",
        "target = iris.target\n",
        "\n",
        "# remove first 40 observation\n",
        "features = features[40:, :]\n",
        "target = target[40:]\n",
        "\n",
        "# create binary target vector indicating if class 0\n",
        "target = np.where((target == 0),0, 1)\n",
        "target"
      ],
      "metadata": {
        "colab": {
          "base_uri": "https://localhost:8080/"
        },
        "id": "YFFEjIQazmZS",
        "outputId": "6f6aa963-20af-46ac-fcab-b9a98fc1a3c4"
      },
      "execution_count": null,
      "outputs": [
        {
          "output_type": "execute_result",
          "data": {
            "text/plain": [
              "array([0, 0, 0, 0, 0, 0, 0, 0, 0, 0, 1, 1, 1, 1, 1, 1, 1, 1, 1, 1, 1, 1,\n",
              "       1, 1, 1, 1, 1, 1, 1, 1, 1, 1, 1, 1, 1, 1, 1, 1, 1, 1, 1, 1, 1, 1,\n",
              "       1, 1, 1, 1, 1, 1, 1, 1, 1, 1, 1, 1, 1, 1, 1, 1, 1, 1, 1, 1, 1, 1,\n",
              "       1, 1, 1, 1, 1, 1, 1, 1, 1, 1, 1, 1, 1, 1, 1, 1, 1, 1, 1, 1, 1, 1,\n",
              "       1, 1, 1, 1, 1, 1, 1, 1, 1, 1, 1, 1, 1, 1, 1, 1, 1, 1, 1, 1, 1, 1])"
            ]
          },
          "metadata": {},
          "execution_count": 24
        }
      ]
    },
    {
      "cell_type": "code",
      "source": [
        "# create weights\n",
        "weights = {0: .9, 1: 0.1}\n",
        "\n",
        "# create random forest classifier with weights\n",
        "RandomForestClassifier(class_weight = weights)"
      ],
      "metadata": {
        "colab": {
          "base_uri": "https://localhost:8080/",
          "height": 75
        },
        "id": "u5wEs-9P0dqo",
        "outputId": "ac243412-4fd9-4d78-adda-c74b1b1b3e01"
      },
      "execution_count": null,
      "outputs": [
        {
          "output_type": "execute_result",
          "data": {
            "text/plain": [
              "RandomForestClassifier(class_weight={0: 0.9, 1: 0.1})"
            ],
            "text/html": [
              "<style>#sk-container-id-1 {color: black;background-color: white;}#sk-container-id-1 pre{padding: 0;}#sk-container-id-1 div.sk-toggleable {background-color: white;}#sk-container-id-1 label.sk-toggleable__label {cursor: pointer;display: block;width: 100%;margin-bottom: 0;padding: 0.3em;box-sizing: border-box;text-align: center;}#sk-container-id-1 label.sk-toggleable__label-arrow:before {content: \"▸\";float: left;margin-right: 0.25em;color: #696969;}#sk-container-id-1 label.sk-toggleable__label-arrow:hover:before {color: black;}#sk-container-id-1 div.sk-estimator:hover label.sk-toggleable__label-arrow:before {color: black;}#sk-container-id-1 div.sk-toggleable__content {max-height: 0;max-width: 0;overflow: hidden;text-align: left;background-color: #f0f8ff;}#sk-container-id-1 div.sk-toggleable__content pre {margin: 0.2em;color: black;border-radius: 0.25em;background-color: #f0f8ff;}#sk-container-id-1 input.sk-toggleable__control:checked~div.sk-toggleable__content {max-height: 200px;max-width: 100%;overflow: auto;}#sk-container-id-1 input.sk-toggleable__control:checked~label.sk-toggleable__label-arrow:before {content: \"▾\";}#sk-container-id-1 div.sk-estimator input.sk-toggleable__control:checked~label.sk-toggleable__label {background-color: #d4ebff;}#sk-container-id-1 div.sk-label input.sk-toggleable__control:checked~label.sk-toggleable__label {background-color: #d4ebff;}#sk-container-id-1 input.sk-hidden--visually {border: 0;clip: rect(1px 1px 1px 1px);clip: rect(1px, 1px, 1px, 1px);height: 1px;margin: -1px;overflow: hidden;padding: 0;position: absolute;width: 1px;}#sk-container-id-1 div.sk-estimator {font-family: monospace;background-color: #f0f8ff;border: 1px dotted black;border-radius: 0.25em;box-sizing: border-box;margin-bottom: 0.5em;}#sk-container-id-1 div.sk-estimator:hover {background-color: #d4ebff;}#sk-container-id-1 div.sk-parallel-item::after {content: \"\";width: 100%;border-bottom: 1px solid gray;flex-grow: 1;}#sk-container-id-1 div.sk-label:hover label.sk-toggleable__label {background-color: #d4ebff;}#sk-container-id-1 div.sk-serial::before {content: \"\";position: absolute;border-left: 1px solid gray;box-sizing: border-box;top: 0;bottom: 0;left: 50%;z-index: 0;}#sk-container-id-1 div.sk-serial {display: flex;flex-direction: column;align-items: center;background-color: white;padding-right: 0.2em;padding-left: 0.2em;position: relative;}#sk-container-id-1 div.sk-item {position: relative;z-index: 1;}#sk-container-id-1 div.sk-parallel {display: flex;align-items: stretch;justify-content: center;background-color: white;position: relative;}#sk-container-id-1 div.sk-item::before, #sk-container-id-1 div.sk-parallel-item::before {content: \"\";position: absolute;border-left: 1px solid gray;box-sizing: border-box;top: 0;bottom: 0;left: 50%;z-index: -1;}#sk-container-id-1 div.sk-parallel-item {display: flex;flex-direction: column;z-index: 1;position: relative;background-color: white;}#sk-container-id-1 div.sk-parallel-item:first-child::after {align-self: flex-end;width: 50%;}#sk-container-id-1 div.sk-parallel-item:last-child::after {align-self: flex-start;width: 50%;}#sk-container-id-1 div.sk-parallel-item:only-child::after {width: 0;}#sk-container-id-1 div.sk-dashed-wrapped {border: 1px dashed gray;margin: 0 0.4em 0.5em 0.4em;box-sizing: border-box;padding-bottom: 0.4em;background-color: white;}#sk-container-id-1 div.sk-label label {font-family: monospace;font-weight: bold;display: inline-block;line-height: 1.2em;}#sk-container-id-1 div.sk-label-container {text-align: center;}#sk-container-id-1 div.sk-container {/* jupyter's `normalize.less` sets `[hidden] { display: none; }` but bootstrap.min.css set `[hidden] { display: none !important; }` so we also need the `!important` here to be able to override the default hidden behavior on the sphinx rendered scikit-learn.org. See: https://github.com/scikit-learn/scikit-learn/issues/21755 */display: inline-block !important;position: relative;}#sk-container-id-1 div.sk-text-repr-fallback {display: none;}</style><div id=\"sk-container-id-1\" class=\"sk-top-container\"><div class=\"sk-text-repr-fallback\"><pre>RandomForestClassifier(class_weight={0: 0.9, 1: 0.1})</pre><b>In a Jupyter environment, please rerun this cell to show the HTML representation or trust the notebook. <br />On GitHub, the HTML representation is unable to render, please try loading this page with nbviewer.org.</b></div><div class=\"sk-container\" hidden><div class=\"sk-item\"><div class=\"sk-estimator sk-toggleable\"><input class=\"sk-toggleable__control sk-hidden--visually\" id=\"sk-estimator-id-1\" type=\"checkbox\" checked><label for=\"sk-estimator-id-1\" class=\"sk-toggleable__label sk-toggleable__label-arrow\">RandomForestClassifier</label><div class=\"sk-toggleable__content\"><pre>RandomForestClassifier(class_weight={0: 0.9, 1: 0.1})</pre></div></div></div></div></div>"
            ]
          },
          "metadata": {},
          "execution_count": 25
        }
      ]
    },
    {
      "cell_type": "code",
      "source": [
        "RandomForestClassifier(class_weight = \"balanced\")"
      ],
      "metadata": {
        "colab": {
          "base_uri": "https://localhost:8080/",
          "height": 75
        },
        "id": "7tqW4fJU01K1",
        "outputId": "954490bb-5293-4184-966d-9ef4fec7af45"
      },
      "execution_count": null,
      "outputs": [
        {
          "output_type": "execute_result",
          "data": {
            "text/plain": [
              "RandomForestClassifier(class_weight='balanced')"
            ],
            "text/html": [
              "<style>#sk-container-id-2 {color: black;background-color: white;}#sk-container-id-2 pre{padding: 0;}#sk-container-id-2 div.sk-toggleable {background-color: white;}#sk-container-id-2 label.sk-toggleable__label {cursor: pointer;display: block;width: 100%;margin-bottom: 0;padding: 0.3em;box-sizing: border-box;text-align: center;}#sk-container-id-2 label.sk-toggleable__label-arrow:before {content: \"▸\";float: left;margin-right: 0.25em;color: #696969;}#sk-container-id-2 label.sk-toggleable__label-arrow:hover:before {color: black;}#sk-container-id-2 div.sk-estimator:hover label.sk-toggleable__label-arrow:before {color: black;}#sk-container-id-2 div.sk-toggleable__content {max-height: 0;max-width: 0;overflow: hidden;text-align: left;background-color: #f0f8ff;}#sk-container-id-2 div.sk-toggleable__content pre {margin: 0.2em;color: black;border-radius: 0.25em;background-color: #f0f8ff;}#sk-container-id-2 input.sk-toggleable__control:checked~div.sk-toggleable__content {max-height: 200px;max-width: 100%;overflow: auto;}#sk-container-id-2 input.sk-toggleable__control:checked~label.sk-toggleable__label-arrow:before {content: \"▾\";}#sk-container-id-2 div.sk-estimator input.sk-toggleable__control:checked~label.sk-toggleable__label {background-color: #d4ebff;}#sk-container-id-2 div.sk-label input.sk-toggleable__control:checked~label.sk-toggleable__label {background-color: #d4ebff;}#sk-container-id-2 input.sk-hidden--visually {border: 0;clip: rect(1px 1px 1px 1px);clip: rect(1px, 1px, 1px, 1px);height: 1px;margin: -1px;overflow: hidden;padding: 0;position: absolute;width: 1px;}#sk-container-id-2 div.sk-estimator {font-family: monospace;background-color: #f0f8ff;border: 1px dotted black;border-radius: 0.25em;box-sizing: border-box;margin-bottom: 0.5em;}#sk-container-id-2 div.sk-estimator:hover {background-color: #d4ebff;}#sk-container-id-2 div.sk-parallel-item::after {content: \"\";width: 100%;border-bottom: 1px solid gray;flex-grow: 1;}#sk-container-id-2 div.sk-label:hover label.sk-toggleable__label {background-color: #d4ebff;}#sk-container-id-2 div.sk-serial::before {content: \"\";position: absolute;border-left: 1px solid gray;box-sizing: border-box;top: 0;bottom: 0;left: 50%;z-index: 0;}#sk-container-id-2 div.sk-serial {display: flex;flex-direction: column;align-items: center;background-color: white;padding-right: 0.2em;padding-left: 0.2em;position: relative;}#sk-container-id-2 div.sk-item {position: relative;z-index: 1;}#sk-container-id-2 div.sk-parallel {display: flex;align-items: stretch;justify-content: center;background-color: white;position: relative;}#sk-container-id-2 div.sk-item::before, #sk-container-id-2 div.sk-parallel-item::before {content: \"\";position: absolute;border-left: 1px solid gray;box-sizing: border-box;top: 0;bottom: 0;left: 50%;z-index: -1;}#sk-container-id-2 div.sk-parallel-item {display: flex;flex-direction: column;z-index: 1;position: relative;background-color: white;}#sk-container-id-2 div.sk-parallel-item:first-child::after {align-self: flex-end;width: 50%;}#sk-container-id-2 div.sk-parallel-item:last-child::after {align-self: flex-start;width: 50%;}#sk-container-id-2 div.sk-parallel-item:only-child::after {width: 0;}#sk-container-id-2 div.sk-dashed-wrapped {border: 1px dashed gray;margin: 0 0.4em 0.5em 0.4em;box-sizing: border-box;padding-bottom: 0.4em;background-color: white;}#sk-container-id-2 div.sk-label label {font-family: monospace;font-weight: bold;display: inline-block;line-height: 1.2em;}#sk-container-id-2 div.sk-label-container {text-align: center;}#sk-container-id-2 div.sk-container {/* jupyter's `normalize.less` sets `[hidden] { display: none; }` but bootstrap.min.css set `[hidden] { display: none !important; }` so we also need the `!important` here to be able to override the default hidden behavior on the sphinx rendered scikit-learn.org. See: https://github.com/scikit-learn/scikit-learn/issues/21755 */display: inline-block !important;position: relative;}#sk-container-id-2 div.sk-text-repr-fallback {display: none;}</style><div id=\"sk-container-id-2\" class=\"sk-top-container\"><div class=\"sk-text-repr-fallback\"><pre>RandomForestClassifier(class_weight=&#x27;balanced&#x27;)</pre><b>In a Jupyter environment, please rerun this cell to show the HTML representation or trust the notebook. <br />On GitHub, the HTML representation is unable to render, please try loading this page with nbviewer.org.</b></div><div class=\"sk-container\" hidden><div class=\"sk-item\"><div class=\"sk-estimator sk-toggleable\"><input class=\"sk-toggleable__control sk-hidden--visually\" id=\"sk-estimator-id-2\" type=\"checkbox\" checked><label for=\"sk-estimator-id-2\" class=\"sk-toggleable__label sk-toggleable__label-arrow\">RandomForestClassifier</label><div class=\"sk-toggleable__content\"><pre>RandomForestClassifier(class_weight=&#x27;balanced&#x27;)</pre></div></div></div></div></div>"
            ]
          },
          "metadata": {},
          "execution_count": 26
        }
      ]
    },
    {
      "cell_type": "code",
      "source": [
        "i_class0 = np.where(target == 0)[0]\n",
        "i_class1 = np.where(target == 1)[0]\n",
        "\n",
        "n_class0 = len(i_class0)\n",
        "n_class1 = len(i_class1)\n",
        "\n",
        "i_class1_downsampled = np.random.choice(i_class1, size = n_class0, replace = False)\n",
        "\n",
        "np.hstack((target[i_class0], target[i_class1_downsampled]))"
      ],
      "metadata": {
        "colab": {
          "base_uri": "https://localhost:8080/"
        },
        "id": "JslhqDZ909dL",
        "outputId": "749bf83c-6997-4da8-a597-028574d55f59"
      },
      "execution_count": null,
      "outputs": [
        {
          "output_type": "execute_result",
          "data": {
            "text/plain": [
              "array([0, 0, 0, 0, 0, 0, 0, 0, 0, 0, 1, 1, 1, 1, 1, 1, 1, 1, 1, 1])"
            ]
          },
          "metadata": {},
          "execution_count": 27
        }
      ]
    },
    {
      "cell_type": "code",
      "source": [
        "# Join together class 0's feature matrix with the class 1's feature matrix\n",
        "np.vstack((features[i_class0, :], features[i_class1_downsampled, :]))[0:5]"
      ],
      "metadata": {
        "colab": {
          "base_uri": "https://localhost:8080/"
        },
        "id": "UTD24rii129F",
        "outputId": "7fc5bade-0339-46ee-a272-0735d5d99ed6"
      },
      "execution_count": null,
      "outputs": [
        {
          "output_type": "execute_result",
          "data": {
            "text/plain": [
              "array([[5. , 3.5, 1.3, 0.3],\n",
              "       [4.5, 2.3, 1.3, 0.3],\n",
              "       [4.4, 3.2, 1.3, 0.2],\n",
              "       [5. , 3.5, 1.6, 0.6],\n",
              "       [5.1, 3.8, 1.9, 0.4]])"
            ]
          },
          "metadata": {},
          "execution_count": 34
        }
      ]
    },
    {
      "cell_type": "code",
      "source": [
        "i_class0_upsampled = np.random.choice(i_class0, size = n_class1, replace = True)\n",
        "np.concatenate((target[i_class0_upsampled],target[i_class1]))"
      ],
      "metadata": {
        "colab": {
          "base_uri": "https://localhost:8080/"
        },
        "id": "KV_fxGgK2hfP",
        "outputId": "a24bbf04-b64a-488f-fac7-0f1e993e78ff"
      },
      "execution_count": null,
      "outputs": [
        {
          "output_type": "execute_result",
          "data": {
            "text/plain": [
              "array([0, 0, 0, 0, 0, 0, 0, 0, 0, 0, 0, 0, 0, 0, 0, 0, 0, 0, 0, 0, 0, 0,\n",
              "       0, 0, 0, 0, 0, 0, 0, 0, 0, 0, 0, 0, 0, 0, 0, 0, 0, 0, 0, 0, 0, 0,\n",
              "       0, 0, 0, 0, 0, 0, 0, 0, 0, 0, 0, 0, 0, 0, 0, 0, 0, 0, 0, 0, 0, 0,\n",
              "       0, 0, 0, 0, 0, 0, 0, 0, 0, 0, 0, 0, 0, 0, 0, 0, 0, 0, 0, 0, 0, 0,\n",
              "       0, 0, 0, 0, 0, 0, 0, 0, 0, 0, 0, 0, 1, 1, 1, 1, 1, 1, 1, 1, 1, 1,\n",
              "       1, 1, 1, 1, 1, 1, 1, 1, 1, 1, 1, 1, 1, 1, 1, 1, 1, 1, 1, 1, 1, 1,\n",
              "       1, 1, 1, 1, 1, 1, 1, 1, 1, 1, 1, 1, 1, 1, 1, 1, 1, 1, 1, 1, 1, 1,\n",
              "       1, 1, 1, 1, 1, 1, 1, 1, 1, 1, 1, 1, 1, 1, 1, 1, 1, 1, 1, 1, 1, 1,\n",
              "       1, 1, 1, 1, 1, 1, 1, 1, 1, 1, 1, 1, 1, 1, 1, 1, 1, 1, 1, 1, 1, 1,\n",
              "       1, 1])"
            ]
          },
          "metadata": {},
          "execution_count": 35
        }
      ]
    },
    {
      "cell_type": "code",
      "source": [
        "# join together class 0's upsample features matrix with class 1's feature matrix\n",
        "np.vstack((features[i_class0_upsampled,:], features[i_class1,:]))[0:5]"
      ],
      "metadata": {
        "colab": {
          "base_uri": "https://localhost:8080/"
        },
        "id": "K7eM9PEk246l",
        "outputId": "b837edb5-8e2e-446d-c357-c5a4a673f3a8"
      },
      "execution_count": null,
      "outputs": [
        {
          "output_type": "execute_result",
          "data": {
            "text/plain": [
              "array([[5.3, 3.7, 1.5, 0.2],\n",
              "       [4.4, 3.2, 1.3, 0.2],\n",
              "       [5.3, 3.7, 1.5, 0.2],\n",
              "       [4.6, 3.2, 1.4, 0.2],\n",
              "       [4.5, 2.3, 1.3, 0.3]])"
            ]
          },
          "metadata": {},
          "execution_count": 36
        }
      ]
    },
    {
      "cell_type": "markdown",
      "source": [
        "# **With Dataset**"
      ],
      "metadata": {
        "id": "6QZk_zi8CaMK"
      }
    },
    {
      "cell_type": "markdown",
      "source": [
        "**Encoding Nominal Categorical Features**  \n",
        "**Problem**   \n",
        "You have a feature with nominal classes that has no intrinsic ordering (e.g., apple, pear, banana).    \n",
        "**Solution**    \n",
        "One-hot encode the feature using scikit-learn's LabelBinarizer:"
      ],
      "metadata": {
        "id": "nNtM_iBxNhM0"
      }
    },
    {
      "cell_type": "code",
      "source": [
        "import numpy as np\n",
        "from sklearn.datasets import load_iris\n",
        "from sklearn.preprocessing import LabelBinarizer\n",
        "feature1 = np.array(load_iris().data)  # Select only the features (data)\n",
        "target1 = np.array(load_iris().target)  # Select only the target (labels)\n",
        "\n",
        "one_hot1 = LabelBinarizer()  # Create an instance of LabelBinarizer\n",
        "one_hot_encoded = one_hot1.fit_transform(target1)  # Fit and transform the labels\n",
        "print(one_hot_encoded)"
      ],
      "metadata": {
        "colab": {
          "base_uri": "https://localhost:8080/"
        },
        "id": "00yr4yJBCe4o",
        "outputId": "3fdaab01-9345-4475-e2a4-e613442b89c7"
      },
      "execution_count": null,
      "outputs": [
        {
          "output_type": "stream",
          "name": "stdout",
          "text": [
            "[[1 0 0]\n",
            " [1 0 0]\n",
            " [1 0 0]\n",
            " [1 0 0]\n",
            " [1 0 0]\n",
            " [1 0 0]\n",
            " [1 0 0]\n",
            " [1 0 0]\n",
            " [1 0 0]\n",
            " [1 0 0]\n",
            " [1 0 0]\n",
            " [1 0 0]\n",
            " [1 0 0]\n",
            " [1 0 0]\n",
            " [1 0 0]\n",
            " [1 0 0]\n",
            " [1 0 0]\n",
            " [1 0 0]\n",
            " [1 0 0]\n",
            " [1 0 0]\n",
            " [1 0 0]\n",
            " [1 0 0]\n",
            " [1 0 0]\n",
            " [1 0 0]\n",
            " [1 0 0]\n",
            " [1 0 0]\n",
            " [1 0 0]\n",
            " [1 0 0]\n",
            " [1 0 0]\n",
            " [1 0 0]\n",
            " [1 0 0]\n",
            " [1 0 0]\n",
            " [1 0 0]\n",
            " [1 0 0]\n",
            " [1 0 0]\n",
            " [1 0 0]\n",
            " [1 0 0]\n",
            " [1 0 0]\n",
            " [1 0 0]\n",
            " [1 0 0]\n",
            " [1 0 0]\n",
            " [1 0 0]\n",
            " [1 0 0]\n",
            " [1 0 0]\n",
            " [1 0 0]\n",
            " [1 0 0]\n",
            " [1 0 0]\n",
            " [1 0 0]\n",
            " [1 0 0]\n",
            " [1 0 0]\n",
            " [0 1 0]\n",
            " [0 1 0]\n",
            " [0 1 0]\n",
            " [0 1 0]\n",
            " [0 1 0]\n",
            " [0 1 0]\n",
            " [0 1 0]\n",
            " [0 1 0]\n",
            " [0 1 0]\n",
            " [0 1 0]\n",
            " [0 1 0]\n",
            " [0 1 0]\n",
            " [0 1 0]\n",
            " [0 1 0]\n",
            " [0 1 0]\n",
            " [0 1 0]\n",
            " [0 1 0]\n",
            " [0 1 0]\n",
            " [0 1 0]\n",
            " [0 1 0]\n",
            " [0 1 0]\n",
            " [0 1 0]\n",
            " [0 1 0]\n",
            " [0 1 0]\n",
            " [0 1 0]\n",
            " [0 1 0]\n",
            " [0 1 0]\n",
            " [0 1 0]\n",
            " [0 1 0]\n",
            " [0 1 0]\n",
            " [0 1 0]\n",
            " [0 1 0]\n",
            " [0 1 0]\n",
            " [0 1 0]\n",
            " [0 1 0]\n",
            " [0 1 0]\n",
            " [0 1 0]\n",
            " [0 1 0]\n",
            " [0 1 0]\n",
            " [0 1 0]\n",
            " [0 1 0]\n",
            " [0 1 0]\n",
            " [0 1 0]\n",
            " [0 1 0]\n",
            " [0 1 0]\n",
            " [0 1 0]\n",
            " [0 1 0]\n",
            " [0 1 0]\n",
            " [0 1 0]\n",
            " [0 1 0]\n",
            " [0 0 1]\n",
            " [0 0 1]\n",
            " [0 0 1]\n",
            " [0 0 1]\n",
            " [0 0 1]\n",
            " [0 0 1]\n",
            " [0 0 1]\n",
            " [0 0 1]\n",
            " [0 0 1]\n",
            " [0 0 1]\n",
            " [0 0 1]\n",
            " [0 0 1]\n",
            " [0 0 1]\n",
            " [0 0 1]\n",
            " [0 0 1]\n",
            " [0 0 1]\n",
            " [0 0 1]\n",
            " [0 0 1]\n",
            " [0 0 1]\n",
            " [0 0 1]\n",
            " [0 0 1]\n",
            " [0 0 1]\n",
            " [0 0 1]\n",
            " [0 0 1]\n",
            " [0 0 1]\n",
            " [0 0 1]\n",
            " [0 0 1]\n",
            " [0 0 1]\n",
            " [0 0 1]\n",
            " [0 0 1]\n",
            " [0 0 1]\n",
            " [0 0 1]\n",
            " [0 0 1]\n",
            " [0 0 1]\n",
            " [0 0 1]\n",
            " [0 0 1]\n",
            " [0 0 1]\n",
            " [0 0 1]\n",
            " [0 0 1]\n",
            " [0 0 1]\n",
            " [0 0 1]\n",
            " [0 0 1]\n",
            " [0 0 1]\n",
            " [0 0 1]\n",
            " [0 0 1]\n",
            " [0 0 1]\n",
            " [0 0 1]\n",
            " [0 0 1]\n",
            " [0 0 1]\n",
            " [0 0 1]]\n"
          ]
        }
      ]
    },
    {
      "cell_type": "code",
      "source": [
        "# view feature classes\n",
        "one_hot1.classes_"
      ],
      "metadata": {
        "colab": {
          "base_uri": "https://localhost:8080/"
        },
        "id": "Fby-jYsMGS1m",
        "outputId": "b86ecf13-2b3b-4d6d-a4cd-d798ae0c20ce"
      },
      "execution_count": null,
      "outputs": [
        {
          "output_type": "execute_result",
          "data": {
            "text/plain": [
              "array([0, 1, 2])"
            ]
          },
          "metadata": {},
          "execution_count": 47
        }
      ]
    },
    {
      "cell_type": "code",
      "source": [
        "# reverse one_hot1 encoding\n",
        "one_hot1.inverse_transform(one_hot1.transform(target1))"
      ],
      "metadata": {
        "colab": {
          "base_uri": "https://localhost:8080/"
        },
        "id": "uuFX-IGGGiou",
        "outputId": "5bbc8ed2-4012-476f-d396-6a6c3fd6d222"
      },
      "execution_count": null,
      "outputs": [
        {
          "output_type": "execute_result",
          "data": {
            "text/plain": [
              "array([0, 0, 0, 0, 0, 0, 0, 0, 0, 0, 0, 0, 0, 0, 0, 0, 0, 0, 0, 0, 0, 0,\n",
              "       0, 0, 0, 0, 0, 0, 0, 0, 0, 0, 0, 0, 0, 0, 0, 0, 0, 0, 0, 0, 0, 0,\n",
              "       0, 0, 0, 0, 0, 0, 1, 1, 1, 1, 1, 1, 1, 1, 1, 1, 1, 1, 1, 1, 1, 1,\n",
              "       1, 1, 1, 1, 1, 1, 1, 1, 1, 1, 1, 1, 1, 1, 1, 1, 1, 1, 1, 1, 1, 1,\n",
              "       1, 1, 1, 1, 1, 1, 1, 1, 1, 1, 1, 1, 2, 2, 2, 2, 2, 2, 2, 2, 2, 2,\n",
              "       2, 2, 2, 2, 2, 2, 2, 2, 2, 2, 2, 2, 2, 2, 2, 2, 2, 2, 2, 2, 2, 2,\n",
              "       2, 2, 2, 2, 2, 2, 2, 2, 2, 2, 2, 2, 2, 2, 2, 2, 2, 2])"
            ]
          },
          "metadata": {},
          "execution_count": 55
        }
      ]
    },
    {
      "cell_type": "code",
      "source": [
        "import pandas as pd\n",
        "pd.get_dummies(feature1[:,0])"
      ],
      "metadata": {
        "colab": {
          "base_uri": "https://localhost:8080/",
          "height": 424
        },
        "id": "TBO9zoBXG5l4",
        "outputId": "36896376-0ca0-470a-eab5-168b4e6b1793"
      },
      "execution_count": null,
      "outputs": [
        {
          "output_type": "execute_result",
          "data": {
            "text/plain": [
              "       4.3    4.4    4.5    4.6    4.7    4.8    4.9    5.0    5.1    5.2  \\\n",
              "0    False  False  False  False  False  False  False  False   True  False   \n",
              "1    False  False  False  False  False  False   True  False  False  False   \n",
              "2    False  False  False  False   True  False  False  False  False  False   \n",
              "3    False  False  False   True  False  False  False  False  False  False   \n",
              "4    False  False  False  False  False  False  False   True  False  False   \n",
              "..     ...    ...    ...    ...    ...    ...    ...    ...    ...    ...   \n",
              "145  False  False  False  False  False  False  False  False  False  False   \n",
              "146  False  False  False  False  False  False  False  False  False  False   \n",
              "147  False  False  False  False  False  False  False  False  False  False   \n",
              "148  False  False  False  False  False  False  False  False  False  False   \n",
              "149  False  False  False  False  False  False  False  False  False  False   \n",
              "\n",
              "     ...    6.8    6.9    7.0    7.1    7.2    7.3    7.4    7.6    7.7    7.9  \n",
              "0    ...  False  False  False  False  False  False  False  False  False  False  \n",
              "1    ...  False  False  False  False  False  False  False  False  False  False  \n",
              "2    ...  False  False  False  False  False  False  False  False  False  False  \n",
              "3    ...  False  False  False  False  False  False  False  False  False  False  \n",
              "4    ...  False  False  False  False  False  False  False  False  False  False  \n",
              "..   ...    ...    ...    ...    ...    ...    ...    ...    ...    ...    ...  \n",
              "145  ...  False  False  False  False  False  False  False  False  False  False  \n",
              "146  ...  False  False  False  False  False  False  False  False  False  False  \n",
              "147  ...  False  False  False  False  False  False  False  False  False  False  \n",
              "148  ...  False  False  False  False  False  False  False  False  False  False  \n",
              "149  ...  False  False  False  False  False  False  False  False  False  False  \n",
              "\n",
              "[150 rows x 35 columns]"
            ],
            "text/html": [
              "\n",
              "  <div id=\"df-ca44c848-deef-4b4f-beae-74c239789682\" class=\"colab-df-container\">\n",
              "    <div>\n",
              "<style scoped>\n",
              "    .dataframe tbody tr th:only-of-type {\n",
              "        vertical-align: middle;\n",
              "    }\n",
              "\n",
              "    .dataframe tbody tr th {\n",
              "        vertical-align: top;\n",
              "    }\n",
              "\n",
              "    .dataframe thead th {\n",
              "        text-align: right;\n",
              "    }\n",
              "</style>\n",
              "<table border=\"1\" class=\"dataframe\">\n",
              "  <thead>\n",
              "    <tr style=\"text-align: right;\">\n",
              "      <th></th>\n",
              "      <th>4.3</th>\n",
              "      <th>4.4</th>\n",
              "      <th>4.5</th>\n",
              "      <th>4.6</th>\n",
              "      <th>4.7</th>\n",
              "      <th>4.8</th>\n",
              "      <th>4.9</th>\n",
              "      <th>5.0</th>\n",
              "      <th>5.1</th>\n",
              "      <th>5.2</th>\n",
              "      <th>...</th>\n",
              "      <th>6.8</th>\n",
              "      <th>6.9</th>\n",
              "      <th>7.0</th>\n",
              "      <th>7.1</th>\n",
              "      <th>7.2</th>\n",
              "      <th>7.3</th>\n",
              "      <th>7.4</th>\n",
              "      <th>7.6</th>\n",
              "      <th>7.7</th>\n",
              "      <th>7.9</th>\n",
              "    </tr>\n",
              "  </thead>\n",
              "  <tbody>\n",
              "    <tr>\n",
              "      <th>0</th>\n",
              "      <td>False</td>\n",
              "      <td>False</td>\n",
              "      <td>False</td>\n",
              "      <td>False</td>\n",
              "      <td>False</td>\n",
              "      <td>False</td>\n",
              "      <td>False</td>\n",
              "      <td>False</td>\n",
              "      <td>True</td>\n",
              "      <td>False</td>\n",
              "      <td>...</td>\n",
              "      <td>False</td>\n",
              "      <td>False</td>\n",
              "      <td>False</td>\n",
              "      <td>False</td>\n",
              "      <td>False</td>\n",
              "      <td>False</td>\n",
              "      <td>False</td>\n",
              "      <td>False</td>\n",
              "      <td>False</td>\n",
              "      <td>False</td>\n",
              "    </tr>\n",
              "    <tr>\n",
              "      <th>1</th>\n",
              "      <td>False</td>\n",
              "      <td>False</td>\n",
              "      <td>False</td>\n",
              "      <td>False</td>\n",
              "      <td>False</td>\n",
              "      <td>False</td>\n",
              "      <td>True</td>\n",
              "      <td>False</td>\n",
              "      <td>False</td>\n",
              "      <td>False</td>\n",
              "      <td>...</td>\n",
              "      <td>False</td>\n",
              "      <td>False</td>\n",
              "      <td>False</td>\n",
              "      <td>False</td>\n",
              "      <td>False</td>\n",
              "      <td>False</td>\n",
              "      <td>False</td>\n",
              "      <td>False</td>\n",
              "      <td>False</td>\n",
              "      <td>False</td>\n",
              "    </tr>\n",
              "    <tr>\n",
              "      <th>2</th>\n",
              "      <td>False</td>\n",
              "      <td>False</td>\n",
              "      <td>False</td>\n",
              "      <td>False</td>\n",
              "      <td>True</td>\n",
              "      <td>False</td>\n",
              "      <td>False</td>\n",
              "      <td>False</td>\n",
              "      <td>False</td>\n",
              "      <td>False</td>\n",
              "      <td>...</td>\n",
              "      <td>False</td>\n",
              "      <td>False</td>\n",
              "      <td>False</td>\n",
              "      <td>False</td>\n",
              "      <td>False</td>\n",
              "      <td>False</td>\n",
              "      <td>False</td>\n",
              "      <td>False</td>\n",
              "      <td>False</td>\n",
              "      <td>False</td>\n",
              "    </tr>\n",
              "    <tr>\n",
              "      <th>3</th>\n",
              "      <td>False</td>\n",
              "      <td>False</td>\n",
              "      <td>False</td>\n",
              "      <td>True</td>\n",
              "      <td>False</td>\n",
              "      <td>False</td>\n",
              "      <td>False</td>\n",
              "      <td>False</td>\n",
              "      <td>False</td>\n",
              "      <td>False</td>\n",
              "      <td>...</td>\n",
              "      <td>False</td>\n",
              "      <td>False</td>\n",
              "      <td>False</td>\n",
              "      <td>False</td>\n",
              "      <td>False</td>\n",
              "      <td>False</td>\n",
              "      <td>False</td>\n",
              "      <td>False</td>\n",
              "      <td>False</td>\n",
              "      <td>False</td>\n",
              "    </tr>\n",
              "    <tr>\n",
              "      <th>4</th>\n",
              "      <td>False</td>\n",
              "      <td>False</td>\n",
              "      <td>False</td>\n",
              "      <td>False</td>\n",
              "      <td>False</td>\n",
              "      <td>False</td>\n",
              "      <td>False</td>\n",
              "      <td>True</td>\n",
              "      <td>False</td>\n",
              "      <td>False</td>\n",
              "      <td>...</td>\n",
              "      <td>False</td>\n",
              "      <td>False</td>\n",
              "      <td>False</td>\n",
              "      <td>False</td>\n",
              "      <td>False</td>\n",
              "      <td>False</td>\n",
              "      <td>False</td>\n",
              "      <td>False</td>\n",
              "      <td>False</td>\n",
              "      <td>False</td>\n",
              "    </tr>\n",
              "    <tr>\n",
              "      <th>...</th>\n",
              "      <td>...</td>\n",
              "      <td>...</td>\n",
              "      <td>...</td>\n",
              "      <td>...</td>\n",
              "      <td>...</td>\n",
              "      <td>...</td>\n",
              "      <td>...</td>\n",
              "      <td>...</td>\n",
              "      <td>...</td>\n",
              "      <td>...</td>\n",
              "      <td>...</td>\n",
              "      <td>...</td>\n",
              "      <td>...</td>\n",
              "      <td>...</td>\n",
              "      <td>...</td>\n",
              "      <td>...</td>\n",
              "      <td>...</td>\n",
              "      <td>...</td>\n",
              "      <td>...</td>\n",
              "      <td>...</td>\n",
              "      <td>...</td>\n",
              "    </tr>\n",
              "    <tr>\n",
              "      <th>145</th>\n",
              "      <td>False</td>\n",
              "      <td>False</td>\n",
              "      <td>False</td>\n",
              "      <td>False</td>\n",
              "      <td>False</td>\n",
              "      <td>False</td>\n",
              "      <td>False</td>\n",
              "      <td>False</td>\n",
              "      <td>False</td>\n",
              "      <td>False</td>\n",
              "      <td>...</td>\n",
              "      <td>False</td>\n",
              "      <td>False</td>\n",
              "      <td>False</td>\n",
              "      <td>False</td>\n",
              "      <td>False</td>\n",
              "      <td>False</td>\n",
              "      <td>False</td>\n",
              "      <td>False</td>\n",
              "      <td>False</td>\n",
              "      <td>False</td>\n",
              "    </tr>\n",
              "    <tr>\n",
              "      <th>146</th>\n",
              "      <td>False</td>\n",
              "      <td>False</td>\n",
              "      <td>False</td>\n",
              "      <td>False</td>\n",
              "      <td>False</td>\n",
              "      <td>False</td>\n",
              "      <td>False</td>\n",
              "      <td>False</td>\n",
              "      <td>False</td>\n",
              "      <td>False</td>\n",
              "      <td>...</td>\n",
              "      <td>False</td>\n",
              "      <td>False</td>\n",
              "      <td>False</td>\n",
              "      <td>False</td>\n",
              "      <td>False</td>\n",
              "      <td>False</td>\n",
              "      <td>False</td>\n",
              "      <td>False</td>\n",
              "      <td>False</td>\n",
              "      <td>False</td>\n",
              "    </tr>\n",
              "    <tr>\n",
              "      <th>147</th>\n",
              "      <td>False</td>\n",
              "      <td>False</td>\n",
              "      <td>False</td>\n",
              "      <td>False</td>\n",
              "      <td>False</td>\n",
              "      <td>False</td>\n",
              "      <td>False</td>\n",
              "      <td>False</td>\n",
              "      <td>False</td>\n",
              "      <td>False</td>\n",
              "      <td>...</td>\n",
              "      <td>False</td>\n",
              "      <td>False</td>\n",
              "      <td>False</td>\n",
              "      <td>False</td>\n",
              "      <td>False</td>\n",
              "      <td>False</td>\n",
              "      <td>False</td>\n",
              "      <td>False</td>\n",
              "      <td>False</td>\n",
              "      <td>False</td>\n",
              "    </tr>\n",
              "    <tr>\n",
              "      <th>148</th>\n",
              "      <td>False</td>\n",
              "      <td>False</td>\n",
              "      <td>False</td>\n",
              "      <td>False</td>\n",
              "      <td>False</td>\n",
              "      <td>False</td>\n",
              "      <td>False</td>\n",
              "      <td>False</td>\n",
              "      <td>False</td>\n",
              "      <td>False</td>\n",
              "      <td>...</td>\n",
              "      <td>False</td>\n",
              "      <td>False</td>\n",
              "      <td>False</td>\n",
              "      <td>False</td>\n",
              "      <td>False</td>\n",
              "      <td>False</td>\n",
              "      <td>False</td>\n",
              "      <td>False</td>\n",
              "      <td>False</td>\n",
              "      <td>False</td>\n",
              "    </tr>\n",
              "    <tr>\n",
              "      <th>149</th>\n",
              "      <td>False</td>\n",
              "      <td>False</td>\n",
              "      <td>False</td>\n",
              "      <td>False</td>\n",
              "      <td>False</td>\n",
              "      <td>False</td>\n",
              "      <td>False</td>\n",
              "      <td>False</td>\n",
              "      <td>False</td>\n",
              "      <td>False</td>\n",
              "      <td>...</td>\n",
              "      <td>False</td>\n",
              "      <td>False</td>\n",
              "      <td>False</td>\n",
              "      <td>False</td>\n",
              "      <td>False</td>\n",
              "      <td>False</td>\n",
              "      <td>False</td>\n",
              "      <td>False</td>\n",
              "      <td>False</td>\n",
              "      <td>False</td>\n",
              "    </tr>\n",
              "  </tbody>\n",
              "</table>\n",
              "<p>150 rows × 35 columns</p>\n",
              "</div>\n",
              "    <div class=\"colab-df-buttons\">\n",
              "\n",
              "  <div class=\"colab-df-container\">\n",
              "    <button class=\"colab-df-convert\" onclick=\"convertToInteractive('df-ca44c848-deef-4b4f-beae-74c239789682')\"\n",
              "            title=\"Convert this dataframe to an interactive table.\"\n",
              "            style=\"display:none;\">\n",
              "\n",
              "  <svg xmlns=\"http://www.w3.org/2000/svg\" height=\"24px\" viewBox=\"0 -960 960 960\">\n",
              "    <path d=\"M120-120v-720h720v720H120Zm60-500h600v-160H180v160Zm220 220h160v-160H400v160Zm0 220h160v-160H400v160ZM180-400h160v-160H180v160Zm440 0h160v-160H620v160ZM180-180h160v-160H180v160Zm440 0h160v-160H620v160Z\"/>\n",
              "  </svg>\n",
              "    </button>\n",
              "\n",
              "  <style>\n",
              "    .colab-df-container {\n",
              "      display:flex;\n",
              "      gap: 12px;\n",
              "    }\n",
              "\n",
              "    .colab-df-convert {\n",
              "      background-color: #E8F0FE;\n",
              "      border: none;\n",
              "      border-radius: 50%;\n",
              "      cursor: pointer;\n",
              "      display: none;\n",
              "      fill: #1967D2;\n",
              "      height: 32px;\n",
              "      padding: 0 0 0 0;\n",
              "      width: 32px;\n",
              "    }\n",
              "\n",
              "    .colab-df-convert:hover {\n",
              "      background-color: #E2EBFA;\n",
              "      box-shadow: 0px 1px 2px rgba(60, 64, 67, 0.3), 0px 1px 3px 1px rgba(60, 64, 67, 0.15);\n",
              "      fill: #174EA6;\n",
              "    }\n",
              "\n",
              "    .colab-df-buttons div {\n",
              "      margin-bottom: 4px;\n",
              "    }\n",
              "\n",
              "    [theme=dark] .colab-df-convert {\n",
              "      background-color: #3B4455;\n",
              "      fill: #D2E3FC;\n",
              "    }\n",
              "\n",
              "    [theme=dark] .colab-df-convert:hover {\n",
              "      background-color: #434B5C;\n",
              "      box-shadow: 0px 1px 3px 1px rgba(0, 0, 0, 0.15);\n",
              "      filter: drop-shadow(0px 1px 2px rgba(0, 0, 0, 0.3));\n",
              "      fill: #FFFFFF;\n",
              "    }\n",
              "  </style>\n",
              "\n",
              "    <script>\n",
              "      const buttonEl =\n",
              "        document.querySelector('#df-ca44c848-deef-4b4f-beae-74c239789682 button.colab-df-convert');\n",
              "      buttonEl.style.display =\n",
              "        google.colab.kernel.accessAllowed ? 'block' : 'none';\n",
              "\n",
              "      async function convertToInteractive(key) {\n",
              "        const element = document.querySelector('#df-ca44c848-deef-4b4f-beae-74c239789682');\n",
              "        const dataTable =\n",
              "          await google.colab.kernel.invokeFunction('convertToInteractive',\n",
              "                                                    [key], {});\n",
              "        if (!dataTable) return;\n",
              "\n",
              "        const docLinkHtml = 'Like what you see? Visit the ' +\n",
              "          '<a target=\"_blank\" href=https://colab.research.google.com/notebooks/data_table.ipynb>data table notebook</a>'\n",
              "          + ' to learn more about interactive tables.';\n",
              "        element.innerHTML = '';\n",
              "        dataTable['output_type'] = 'display_data';\n",
              "        await google.colab.output.renderOutput(dataTable, element);\n",
              "        const docLink = document.createElement('div');\n",
              "        docLink.innerHTML = docLinkHtml;\n",
              "        element.appendChild(docLink);\n",
              "      }\n",
              "    </script>\n",
              "  </div>\n",
              "\n",
              "\n",
              "<div id=\"df-ef65194f-b09e-41fc-a91b-27143aa035ed\">\n",
              "  <button class=\"colab-df-quickchart\" onclick=\"quickchart('df-ef65194f-b09e-41fc-a91b-27143aa035ed')\"\n",
              "            title=\"Suggest charts\"\n",
              "            style=\"display:none;\">\n",
              "\n",
              "<svg xmlns=\"http://www.w3.org/2000/svg\" height=\"24px\"viewBox=\"0 0 24 24\"\n",
              "     width=\"24px\">\n",
              "    <g>\n",
              "        <path d=\"M19 3H5c-1.1 0-2 .9-2 2v14c0 1.1.9 2 2 2h14c1.1 0 2-.9 2-2V5c0-1.1-.9-2-2-2zM9 17H7v-7h2v7zm4 0h-2V7h2v10zm4 0h-2v-4h2v4z\"/>\n",
              "    </g>\n",
              "</svg>\n",
              "  </button>\n",
              "\n",
              "<style>\n",
              "  .colab-df-quickchart {\n",
              "      --bg-color: #E8F0FE;\n",
              "      --fill-color: #1967D2;\n",
              "      --hover-bg-color: #E2EBFA;\n",
              "      --hover-fill-color: #174EA6;\n",
              "      --disabled-fill-color: #AAA;\n",
              "      --disabled-bg-color: #DDD;\n",
              "  }\n",
              "\n",
              "  [theme=dark] .colab-df-quickchart {\n",
              "      --bg-color: #3B4455;\n",
              "      --fill-color: #D2E3FC;\n",
              "      --hover-bg-color: #434B5C;\n",
              "      --hover-fill-color: #FFFFFF;\n",
              "      --disabled-bg-color: #3B4455;\n",
              "      --disabled-fill-color: #666;\n",
              "  }\n",
              "\n",
              "  .colab-df-quickchart {\n",
              "    background-color: var(--bg-color);\n",
              "    border: none;\n",
              "    border-radius: 50%;\n",
              "    cursor: pointer;\n",
              "    display: none;\n",
              "    fill: var(--fill-color);\n",
              "    height: 32px;\n",
              "    padding: 0;\n",
              "    width: 32px;\n",
              "  }\n",
              "\n",
              "  .colab-df-quickchart:hover {\n",
              "    background-color: var(--hover-bg-color);\n",
              "    box-shadow: 0 1px 2px rgba(60, 64, 67, 0.3), 0 1px 3px 1px rgba(60, 64, 67, 0.15);\n",
              "    fill: var(--button-hover-fill-color);\n",
              "  }\n",
              "\n",
              "  .colab-df-quickchart-complete:disabled,\n",
              "  .colab-df-quickchart-complete:disabled:hover {\n",
              "    background-color: var(--disabled-bg-color);\n",
              "    fill: var(--disabled-fill-color);\n",
              "    box-shadow: none;\n",
              "  }\n",
              "\n",
              "  .colab-df-spinner {\n",
              "    border: 2px solid var(--fill-color);\n",
              "    border-color: transparent;\n",
              "    border-bottom-color: var(--fill-color);\n",
              "    animation:\n",
              "      spin 1s steps(1) infinite;\n",
              "  }\n",
              "\n",
              "  @keyframes spin {\n",
              "    0% {\n",
              "      border-color: transparent;\n",
              "      border-bottom-color: var(--fill-color);\n",
              "      border-left-color: var(--fill-color);\n",
              "    }\n",
              "    20% {\n",
              "      border-color: transparent;\n",
              "      border-left-color: var(--fill-color);\n",
              "      border-top-color: var(--fill-color);\n",
              "    }\n",
              "    30% {\n",
              "      border-color: transparent;\n",
              "      border-left-color: var(--fill-color);\n",
              "      border-top-color: var(--fill-color);\n",
              "      border-right-color: var(--fill-color);\n",
              "    }\n",
              "    40% {\n",
              "      border-color: transparent;\n",
              "      border-right-color: var(--fill-color);\n",
              "      border-top-color: var(--fill-color);\n",
              "    }\n",
              "    60% {\n",
              "      border-color: transparent;\n",
              "      border-right-color: var(--fill-color);\n",
              "    }\n",
              "    80% {\n",
              "      border-color: transparent;\n",
              "      border-right-color: var(--fill-color);\n",
              "      border-bottom-color: var(--fill-color);\n",
              "    }\n",
              "    90% {\n",
              "      border-color: transparent;\n",
              "      border-bottom-color: var(--fill-color);\n",
              "    }\n",
              "  }\n",
              "</style>\n",
              "\n",
              "  <script>\n",
              "    async function quickchart(key) {\n",
              "      const quickchartButtonEl =\n",
              "        document.querySelector('#' + key + ' button');\n",
              "      quickchartButtonEl.disabled = true;  // To prevent multiple clicks.\n",
              "      quickchartButtonEl.classList.add('colab-df-spinner');\n",
              "      try {\n",
              "        const charts = await google.colab.kernel.invokeFunction(\n",
              "            'suggestCharts', [key], {});\n",
              "      } catch (error) {\n",
              "        console.error('Error during call to suggestCharts:', error);\n",
              "      }\n",
              "      quickchartButtonEl.classList.remove('colab-df-spinner');\n",
              "      quickchartButtonEl.classList.add('colab-df-quickchart-complete');\n",
              "    }\n",
              "    (() => {\n",
              "      let quickchartButtonEl =\n",
              "        document.querySelector('#df-ef65194f-b09e-41fc-a91b-27143aa035ed button');\n",
              "      quickchartButtonEl.style.display =\n",
              "        google.colab.kernel.accessAllowed ? 'block' : 'none';\n",
              "    })();\n",
              "  </script>\n",
              "</div>\n",
              "\n",
              "    </div>\n",
              "  </div>\n"
            ],
            "application/vnd.google.colaboratory.intrinsic+json": {
              "type": "dataframe"
            }
          },
          "metadata": {},
          "execution_count": 58
        }
      ]
    },
    {
      "cell_type": "code",
      "source": [
        "import numpy as np\n",
        "from sklearn.datasets import load_iris\n",
        "from sklearn.preprocessing import MultiLabelBinarizer\n",
        "feature2 = np.array(load_iris().data)  # Select only the features (data)\n",
        "target2 = np.array(load_iris().target)  # Select only the target (labels)\n",
        "\n",
        "one_hot2 = MultiLabelBinarizer()  # Create an instance of LabelBinarizer\n",
        "one_hot_encoded2 = one_hot2.fit_transform(feature2)  # Fit and transform the labels\n",
        "print(one_hot_encoded2)"
      ],
      "metadata": {
        "colab": {
          "base_uri": "https://localhost:8080/"
        },
        "id": "YUfBruRHIWZV",
        "outputId": "f09c5b91-a4a1-4d9f-d94e-0c4d28f6fdcd"
      },
      "execution_count": null,
      "outputs": [
        {
          "output_type": "stream",
          "name": "stdout",
          "text": [
            "[[0 1 0 ... 0 0 0]\n",
            " [0 1 0 ... 0 0 0]\n",
            " [0 1 0 ... 0 0 0]\n",
            " ...\n",
            " [0 0 0 ... 0 0 0]\n",
            " [0 0 0 ... 0 0 0]\n",
            " [0 0 0 ... 0 0 0]]\n"
          ]
        }
      ]
    },
    {
      "cell_type": "code",
      "source": [
        "# view feature classes\n",
        "one_hot2.classes_"
      ],
      "metadata": {
        "colab": {
          "base_uri": "https://localhost:8080/"
        },
        "id": "cdjCFd7LJB8n",
        "outputId": "61628bc4-8e2b-482f-f667-7988ba4fd2bc"
      },
      "execution_count": null,
      "outputs": [
        {
          "output_type": "execute_result",
          "data": {
            "text/plain": [
              "array([0.1, 0.2, 0.3, 0.4, 0.5, 0.6, 1.0, 1.1, 1.2, 1.3, 1.4, 1.5, 1.6,\n",
              "       1.7, 1.8, 1.9, 2.0, 2.1, 2.2, 2.3, 2.4, 2.5, 2.6, 2.7, 2.8, 2.9,\n",
              "       3.0, 3.1, 3.2, 3.3, 3.4, 3.5, 3.6, 3.7, 3.8, 3.9, 4.0, 4.1, 4.2,\n",
              "       4.3, 4.4, 4.5, 4.6, 4.7, 4.8, 4.9, 5.0, 5.1, 5.2, 5.3, 5.4, 5.5,\n",
              "       5.6, 5.7, 5.8, 5.9, 6.0, 6.1, 6.2, 6.3, 6.4, 6.5, 6.6, 6.7, 6.8,\n",
              "       6.9, 7.0, 7.1, 7.2, 7.3, 7.4, 7.6, 7.7, 7.9], dtype=object)"
            ]
          },
          "metadata": {},
          "execution_count": 73
        }
      ]
    },
    {
      "cell_type": "code",
      "source": [
        "# reverse one_hot2 encoding\n",
        "one_hot2.inverse_transform(one_hot2.fit_transform(feature2))"
      ],
      "metadata": {
        "colab": {
          "base_uri": "https://localhost:8080/"
        },
        "id": "LoQHfjd4JgOG",
        "outputId": "9b8277fb-6530-43aa-d4a8-47fa5cbda1c0"
      },
      "execution_count": null,
      "outputs": [
        {
          "output_type": "execute_result",
          "data": {
            "text/plain": [
              "[(0.2, 1.4, 3.5, 5.1),\n",
              " (0.2, 1.4, 3.0, 4.9),\n",
              " (0.2, 1.3, 3.2, 4.7),\n",
              " (0.2, 1.5, 3.1, 4.6),\n",
              " (0.2, 1.4, 3.6, 5.0),\n",
              " (0.4, 1.7, 3.9, 5.4),\n",
              " (0.3, 1.4, 3.4, 4.6),\n",
              " (0.2, 1.5, 3.4, 5.0),\n",
              " (0.2, 1.4, 2.9, 4.4),\n",
              " (0.1, 1.5, 3.1, 4.9),\n",
              " (0.2, 1.5, 3.7, 5.4),\n",
              " (0.2, 1.6, 3.4, 4.8),\n",
              " (0.1, 1.4, 3.0, 4.8),\n",
              " (0.1, 1.1, 3.0, 4.3),\n",
              " (0.2, 1.2, 4.0, 5.8),\n",
              " (0.4, 1.5, 4.4, 5.7),\n",
              " (0.4, 1.3, 3.9, 5.4),\n",
              " (0.3, 1.4, 3.5, 5.1),\n",
              " (0.3, 1.7, 3.8, 5.7),\n",
              " (0.3, 1.5, 3.8, 5.1),\n",
              " (0.2, 1.7, 3.4, 5.4),\n",
              " (0.4, 1.5, 3.7, 5.1),\n",
              " (0.2, 1.0, 3.6, 4.6),\n",
              " (0.5, 1.7, 3.3, 5.1),\n",
              " (0.2, 1.9, 3.4, 4.8),\n",
              " (0.2, 1.6, 3.0, 5.0),\n",
              " (0.4, 1.6, 3.4, 5.0),\n",
              " (0.2, 1.5, 3.5, 5.2),\n",
              " (0.2, 1.4, 3.4, 5.2),\n",
              " (0.2, 1.6, 3.2, 4.7),\n",
              " (0.2, 1.6, 3.1, 4.8),\n",
              " (0.4, 1.5, 3.4, 5.4),\n",
              " (0.1, 1.5, 4.1, 5.2),\n",
              " (0.2, 1.4, 4.2, 5.5),\n",
              " (0.2, 1.5, 3.1, 4.9),\n",
              " (0.2, 1.2, 3.2, 5.0),\n",
              " (0.2, 1.3, 3.5, 5.5),\n",
              " (0.1, 1.4, 3.6, 4.9),\n",
              " (0.2, 1.3, 3.0, 4.4),\n",
              " (0.2, 1.5, 3.4, 5.1),\n",
              " (0.3, 1.3, 3.5, 5.0),\n",
              " (0.3, 1.3, 2.3, 4.5),\n",
              " (0.2, 1.3, 3.2, 4.4),\n",
              " (0.6, 1.6, 3.5, 5.0),\n",
              " (0.4, 1.9, 3.8, 5.1),\n",
              " (0.3, 1.4, 3.0, 4.8),\n",
              " (0.2, 1.6, 3.8, 5.1),\n",
              " (0.2, 1.4, 3.2, 4.6),\n",
              " (0.2, 1.5, 3.7, 5.3),\n",
              " (0.2, 1.4, 3.3, 5.0),\n",
              " (1.4, 3.2, 4.7, 7.0),\n",
              " (1.5, 3.2, 4.5, 6.4),\n",
              " (1.5, 3.1, 4.9, 6.9),\n",
              " (1.3, 2.3, 4.0, 5.5),\n",
              " (1.5, 2.8, 4.6, 6.5),\n",
              " (1.3, 2.8, 4.5, 5.7),\n",
              " (1.6, 3.3, 4.7, 6.3),\n",
              " (1.0, 2.4, 3.3, 4.9),\n",
              " (1.3, 2.9, 4.6, 6.6),\n",
              " (1.4, 2.7, 3.9, 5.2),\n",
              " (1.0, 2.0, 3.5, 5.0),\n",
              " (1.5, 3.0, 4.2, 5.9),\n",
              " (1.0, 2.2, 4.0, 6.0),\n",
              " (1.4, 2.9, 4.7, 6.1),\n",
              " (1.3, 2.9, 3.6, 5.6),\n",
              " (1.4, 3.1, 4.4, 6.7),\n",
              " (1.5, 3.0, 4.5, 5.6),\n",
              " (1.0, 2.7, 4.1, 5.8),\n",
              " (1.5, 2.2, 4.5, 6.2),\n",
              " (1.1, 2.5, 3.9, 5.6),\n",
              " (1.8, 3.2, 4.8, 5.9),\n",
              " (1.3, 2.8, 4.0, 6.1),\n",
              " (1.5, 2.5, 4.9, 6.3),\n",
              " (1.2, 2.8, 4.7, 6.1),\n",
              " (1.3, 2.9, 4.3, 6.4),\n",
              " (1.4, 3.0, 4.4, 6.6),\n",
              " (1.4, 2.8, 4.8, 6.8),\n",
              " (1.7, 3.0, 5.0, 6.7),\n",
              " (1.5, 2.9, 4.5, 6.0),\n",
              " (1.0, 2.6, 3.5, 5.7),\n",
              " (1.1, 2.4, 3.8, 5.5),\n",
              " (1.0, 2.4, 3.7, 5.5),\n",
              " (1.2, 2.7, 3.9, 5.8),\n",
              " (1.6, 2.7, 5.1, 6.0),\n",
              " (1.5, 3.0, 4.5, 5.4),\n",
              " (1.6, 3.4, 4.5, 6.0),\n",
              " (1.5, 3.1, 4.7, 6.7),\n",
              " (1.3, 2.3, 4.4, 6.3),\n",
              " (1.3, 3.0, 4.1, 5.6),\n",
              " (1.3, 2.5, 4.0, 5.5),\n",
              " (1.2, 2.6, 4.4, 5.5),\n",
              " (1.4, 3.0, 4.6, 6.1),\n",
              " (1.2, 2.6, 4.0, 5.8),\n",
              " (1.0, 2.3, 3.3, 5.0),\n",
              " (1.3, 2.7, 4.2, 5.6),\n",
              " (1.2, 3.0, 4.2, 5.7),\n",
              " (1.3, 2.9, 4.2, 5.7),\n",
              " (1.3, 2.9, 4.3, 6.2),\n",
              " (1.1, 2.5, 3.0, 5.1),\n",
              " (1.3, 2.8, 4.1, 5.7),\n",
              " (2.5, 3.3, 6.0, 6.3),\n",
              " (1.9, 2.7, 5.1, 5.8),\n",
              " (2.1, 3.0, 5.9, 7.1),\n",
              " (1.8, 2.9, 5.6, 6.3),\n",
              " (2.2, 3.0, 5.8, 6.5),\n",
              " (2.1, 3.0, 6.6, 7.6),\n",
              " (1.7, 2.5, 4.5, 4.9),\n",
              " (1.8, 2.9, 6.3, 7.3),\n",
              " (1.8, 2.5, 5.8, 6.7),\n",
              " (2.5, 3.6, 6.1, 7.2),\n",
              " (2.0, 3.2, 5.1, 6.5),\n",
              " (1.9, 2.7, 5.3, 6.4),\n",
              " (2.1, 3.0, 5.5, 6.8),\n",
              " (2.0, 2.5, 5.0, 5.7),\n",
              " (2.4, 2.8, 5.1, 5.8),\n",
              " (2.3, 3.2, 5.3, 6.4),\n",
              " (1.8, 3.0, 5.5, 6.5),\n",
              " (2.2, 3.8, 6.7, 7.7),\n",
              " (2.3, 2.6, 6.9, 7.7),\n",
              " (1.5, 2.2, 5.0, 6.0),\n",
              " (2.3, 3.2, 5.7, 6.9),\n",
              " (2.0, 2.8, 4.9, 5.6),\n",
              " (2.0, 2.8, 6.7, 7.7),\n",
              " (1.8, 2.7, 4.9, 6.3),\n",
              " (2.1, 3.3, 5.7, 6.7),\n",
              " (1.8, 3.2, 6.0, 7.2),\n",
              " (1.8, 2.8, 4.8, 6.2),\n",
              " (1.8, 3.0, 4.9, 6.1),\n",
              " (2.1, 2.8, 5.6, 6.4),\n",
              " (1.6, 3.0, 5.8, 7.2),\n",
              " (1.9, 2.8, 6.1, 7.4),\n",
              " (2.0, 3.8, 6.4, 7.9),\n",
              " (2.2, 2.8, 5.6, 6.4),\n",
              " (1.5, 2.8, 5.1, 6.3),\n",
              " (1.4, 2.6, 5.6, 6.1),\n",
              " (2.3, 3.0, 6.1, 7.7),\n",
              " (2.4, 3.4, 5.6, 6.3),\n",
              " (1.8, 3.1, 5.5, 6.4),\n",
              " (1.8, 3.0, 4.8, 6.0),\n",
              " (2.1, 3.1, 5.4, 6.9),\n",
              " (2.4, 3.1, 5.6, 6.7),\n",
              " (2.3, 3.1, 5.1, 6.9),\n",
              " (1.9, 2.7, 5.1, 5.8),\n",
              " (2.3, 3.2, 5.9, 6.8),\n",
              " (2.5, 3.3, 5.7, 6.7),\n",
              " (2.3, 3.0, 5.2, 6.7),\n",
              " (1.9, 2.5, 5.0, 6.3),\n",
              " (2.0, 3.0, 5.2, 6.5),\n",
              " (2.3, 3.4, 5.4, 6.2),\n",
              " (1.8, 3.0, 5.1, 5.9)]"
            ]
          },
          "metadata": {},
          "execution_count": 74
        }
      ]
    },
    {
      "cell_type": "code",
      "source": [
        "import pandas as pd\n",
        "from sklearn.datasets import load_iris\n",
        "\n",
        "# Load Iris dataset into a DataFrame\n",
        "iris = load_iris()\n",
        "df_iris = pd.DataFrame(data=iris.data, columns=iris.feature_names)\n",
        "df_iris[\"Species\"] = iris.target\n",
        "\n",
        "# Define mapper\n",
        "species_mapper = {\n",
        "    0: \"setosa\",\n",
        "    1: \"versicolor\",\n",
        "    2: \"virginica\"\n",
        "}\n",
        "\n",
        "# Replace 'Species' values with mapped values\n",
        "df_iris[\"Species\"].replace(species_mapper)\n",
        "df_iris[\"Species\"].head(150)"
      ],
      "metadata": {
        "colab": {
          "base_uri": "https://localhost:8080/"
        },
        "id": "BwV79Uv-J46e",
        "outputId": "db3c46fd-777c-4004-9614-61148a1a4999"
      },
      "execution_count": null,
      "outputs": [
        {
          "output_type": "execute_result",
          "data": {
            "text/plain": [
              "0      0\n",
              "1      0\n",
              "2      0\n",
              "3      0\n",
              "4      0\n",
              "      ..\n",
              "145    2\n",
              "146    2\n",
              "147    2\n",
              "148    2\n",
              "149    2\n",
              "Name: Species, Length: 150, dtype: int64"
            ]
          },
          "metadata": {},
          "execution_count": 78
        }
      ]
    },
    {
      "cell_type": "code",
      "source": [
        "import pandas as pd\n",
        "from sklearn.datasets import load_iris\n",
        "from sklearn.feature_extraction import DictVectorizer\n",
        "\n",
        "# Load Iris dataset into a DataFrame\n",
        "iris = load_iris()\n",
        "df_iris = pd.DataFrame(data=iris.data, columns=iris.feature_names)\n",
        "df_iris[\"Species\"] = iris.target\n",
        "\n",
        "# Convert DataFrame to a list of dictionaries\n",
        "data_dict = df_iris.to_dict(orient='records')\n",
        "\n",
        "# Create a dictionary vectorizer\n",
        "dictvectorizer = DictVectorizer(sparse=False)\n",
        "\n",
        "# Convert dictionary to feature matrix\n",
        "features = dictvectorizer.fit_transform(data_dict)\n",
        "\n",
        "print(features)"
      ],
      "metadata": {
        "colab": {
          "base_uri": "https://localhost:8080/"
        },
        "id": "wEMex0wDMpO1",
        "outputId": "38e6123f-0d4b-414a-b48e-1b24550befc8"
      },
      "execution_count": null,
      "outputs": [
        {
          "output_type": "stream",
          "name": "stdout",
          "text": [
            "[[0.  1.4 0.2 5.1 3.5]\n",
            " [0.  1.4 0.2 4.9 3. ]\n",
            " [0.  1.3 0.2 4.7 3.2]\n",
            " [0.  1.5 0.2 4.6 3.1]\n",
            " [0.  1.4 0.2 5.  3.6]\n",
            " [0.  1.7 0.4 5.4 3.9]\n",
            " [0.  1.4 0.3 4.6 3.4]\n",
            " [0.  1.5 0.2 5.  3.4]\n",
            " [0.  1.4 0.2 4.4 2.9]\n",
            " [0.  1.5 0.1 4.9 3.1]\n",
            " [0.  1.5 0.2 5.4 3.7]\n",
            " [0.  1.6 0.2 4.8 3.4]\n",
            " [0.  1.4 0.1 4.8 3. ]\n",
            " [0.  1.1 0.1 4.3 3. ]\n",
            " [0.  1.2 0.2 5.8 4. ]\n",
            " [0.  1.5 0.4 5.7 4.4]\n",
            " [0.  1.3 0.4 5.4 3.9]\n",
            " [0.  1.4 0.3 5.1 3.5]\n",
            " [0.  1.7 0.3 5.7 3.8]\n",
            " [0.  1.5 0.3 5.1 3.8]\n",
            " [0.  1.7 0.2 5.4 3.4]\n",
            " [0.  1.5 0.4 5.1 3.7]\n",
            " [0.  1.  0.2 4.6 3.6]\n",
            " [0.  1.7 0.5 5.1 3.3]\n",
            " [0.  1.9 0.2 4.8 3.4]\n",
            " [0.  1.6 0.2 5.  3. ]\n",
            " [0.  1.6 0.4 5.  3.4]\n",
            " [0.  1.5 0.2 5.2 3.5]\n",
            " [0.  1.4 0.2 5.2 3.4]\n",
            " [0.  1.6 0.2 4.7 3.2]\n",
            " [0.  1.6 0.2 4.8 3.1]\n",
            " [0.  1.5 0.4 5.4 3.4]\n",
            " [0.  1.5 0.1 5.2 4.1]\n",
            " [0.  1.4 0.2 5.5 4.2]\n",
            " [0.  1.5 0.2 4.9 3.1]\n",
            " [0.  1.2 0.2 5.  3.2]\n",
            " [0.  1.3 0.2 5.5 3.5]\n",
            " [0.  1.4 0.1 4.9 3.6]\n",
            " [0.  1.3 0.2 4.4 3. ]\n",
            " [0.  1.5 0.2 5.1 3.4]\n",
            " [0.  1.3 0.3 5.  3.5]\n",
            " [0.  1.3 0.3 4.5 2.3]\n",
            " [0.  1.3 0.2 4.4 3.2]\n",
            " [0.  1.6 0.6 5.  3.5]\n",
            " [0.  1.9 0.4 5.1 3.8]\n",
            " [0.  1.4 0.3 4.8 3. ]\n",
            " [0.  1.6 0.2 5.1 3.8]\n",
            " [0.  1.4 0.2 4.6 3.2]\n",
            " [0.  1.5 0.2 5.3 3.7]\n",
            " [0.  1.4 0.2 5.  3.3]\n",
            " [1.  4.7 1.4 7.  3.2]\n",
            " [1.  4.5 1.5 6.4 3.2]\n",
            " [1.  4.9 1.5 6.9 3.1]\n",
            " [1.  4.  1.3 5.5 2.3]\n",
            " [1.  4.6 1.5 6.5 2.8]\n",
            " [1.  4.5 1.3 5.7 2.8]\n",
            " [1.  4.7 1.6 6.3 3.3]\n",
            " [1.  3.3 1.  4.9 2.4]\n",
            " [1.  4.6 1.3 6.6 2.9]\n",
            " [1.  3.9 1.4 5.2 2.7]\n",
            " [1.  3.5 1.  5.  2. ]\n",
            " [1.  4.2 1.5 5.9 3. ]\n",
            " [1.  4.  1.  6.  2.2]\n",
            " [1.  4.7 1.4 6.1 2.9]\n",
            " [1.  3.6 1.3 5.6 2.9]\n",
            " [1.  4.4 1.4 6.7 3.1]\n",
            " [1.  4.5 1.5 5.6 3. ]\n",
            " [1.  4.1 1.  5.8 2.7]\n",
            " [1.  4.5 1.5 6.2 2.2]\n",
            " [1.  3.9 1.1 5.6 2.5]\n",
            " [1.  4.8 1.8 5.9 3.2]\n",
            " [1.  4.  1.3 6.1 2.8]\n",
            " [1.  4.9 1.5 6.3 2.5]\n",
            " [1.  4.7 1.2 6.1 2.8]\n",
            " [1.  4.3 1.3 6.4 2.9]\n",
            " [1.  4.4 1.4 6.6 3. ]\n",
            " [1.  4.8 1.4 6.8 2.8]\n",
            " [1.  5.  1.7 6.7 3. ]\n",
            " [1.  4.5 1.5 6.  2.9]\n",
            " [1.  3.5 1.  5.7 2.6]\n",
            " [1.  3.8 1.1 5.5 2.4]\n",
            " [1.  3.7 1.  5.5 2.4]\n",
            " [1.  3.9 1.2 5.8 2.7]\n",
            " [1.  5.1 1.6 6.  2.7]\n",
            " [1.  4.5 1.5 5.4 3. ]\n",
            " [1.  4.5 1.6 6.  3.4]\n",
            " [1.  4.7 1.5 6.7 3.1]\n",
            " [1.  4.4 1.3 6.3 2.3]\n",
            " [1.  4.1 1.3 5.6 3. ]\n",
            " [1.  4.  1.3 5.5 2.5]\n",
            " [1.  4.4 1.2 5.5 2.6]\n",
            " [1.  4.6 1.4 6.1 3. ]\n",
            " [1.  4.  1.2 5.8 2.6]\n",
            " [1.  3.3 1.  5.  2.3]\n",
            " [1.  4.2 1.3 5.6 2.7]\n",
            " [1.  4.2 1.2 5.7 3. ]\n",
            " [1.  4.2 1.3 5.7 2.9]\n",
            " [1.  4.3 1.3 6.2 2.9]\n",
            " [1.  3.  1.1 5.1 2.5]\n",
            " [1.  4.1 1.3 5.7 2.8]\n",
            " [2.  6.  2.5 6.3 3.3]\n",
            " [2.  5.1 1.9 5.8 2.7]\n",
            " [2.  5.9 2.1 7.1 3. ]\n",
            " [2.  5.6 1.8 6.3 2.9]\n",
            " [2.  5.8 2.2 6.5 3. ]\n",
            " [2.  6.6 2.1 7.6 3. ]\n",
            " [2.  4.5 1.7 4.9 2.5]\n",
            " [2.  6.3 1.8 7.3 2.9]\n",
            " [2.  5.8 1.8 6.7 2.5]\n",
            " [2.  6.1 2.5 7.2 3.6]\n",
            " [2.  5.1 2.  6.5 3.2]\n",
            " [2.  5.3 1.9 6.4 2.7]\n",
            " [2.  5.5 2.1 6.8 3. ]\n",
            " [2.  5.  2.  5.7 2.5]\n",
            " [2.  5.1 2.4 5.8 2.8]\n",
            " [2.  5.3 2.3 6.4 3.2]\n",
            " [2.  5.5 1.8 6.5 3. ]\n",
            " [2.  6.7 2.2 7.7 3.8]\n",
            " [2.  6.9 2.3 7.7 2.6]\n",
            " [2.  5.  1.5 6.  2.2]\n",
            " [2.  5.7 2.3 6.9 3.2]\n",
            " [2.  4.9 2.  5.6 2.8]\n",
            " [2.  6.7 2.  7.7 2.8]\n",
            " [2.  4.9 1.8 6.3 2.7]\n",
            " [2.  5.7 2.1 6.7 3.3]\n",
            " [2.  6.  1.8 7.2 3.2]\n",
            " [2.  4.8 1.8 6.2 2.8]\n",
            " [2.  4.9 1.8 6.1 3. ]\n",
            " [2.  5.6 2.1 6.4 2.8]\n",
            " [2.  5.8 1.6 7.2 3. ]\n",
            " [2.  6.1 1.9 7.4 2.8]\n",
            " [2.  6.4 2.  7.9 3.8]\n",
            " [2.  5.6 2.2 6.4 2.8]\n",
            " [2.  5.1 1.5 6.3 2.8]\n",
            " [2.  5.6 1.4 6.1 2.6]\n",
            " [2.  6.1 2.3 7.7 3. ]\n",
            " [2.  5.6 2.4 6.3 3.4]\n",
            " [2.  5.5 1.8 6.4 3.1]\n",
            " [2.  4.8 1.8 6.  3. ]\n",
            " [2.  5.4 2.1 6.9 3.1]\n",
            " [2.  5.6 2.4 6.7 3.1]\n",
            " [2.  5.1 2.3 6.9 3.1]\n",
            " [2.  5.1 1.9 5.8 2.7]\n",
            " [2.  5.9 2.3 6.8 3.2]\n",
            " [2.  5.7 2.5 6.7 3.3]\n",
            " [2.  5.2 2.3 6.7 3. ]\n",
            " [2.  5.  1.9 6.3 2.5]\n",
            " [2.  5.2 2.  6.5 3. ]\n",
            " [2.  5.4 2.3 6.2 3.4]\n",
            " [2.  5.1 1.8 5.9 3. ]]\n"
          ]
        }
      ]
    }
  ]
}