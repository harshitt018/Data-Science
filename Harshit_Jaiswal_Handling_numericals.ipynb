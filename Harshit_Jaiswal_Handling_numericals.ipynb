{
  "nbformat": 4,
  "nbformat_minor": 0,
  "metadata": {
    "colab": {
      "provenance": []
    },
    "kernelspec": {
      "name": "python3",
      "display_name": "Python 3"
    },
    "language_info": {
      "name": "python"
    }
  },
  "cells": [
    {
      "cell_type": "markdown",
      "source": [
        "# **Chapter 4. Handling numerical data**\n",
        "Overflowing entering more higher value than expected. eg:- entering 16 digit value in 15 digit model.\n",
        "\n",
        "Underflowing entering more lower value than expected. eg:- entering 16 digit value in 15 digit model.\n",
        "\n",
        "**Scalers**    \n",
        "***StandardScaler*** : Standardize features by removing the mean and scaling to unit variance.       \n",
        " It is effected by outliers.   \n",
        "Outliers are the wrong values in the the data.  \n",
        "Formula : z = (x - u) / s  \n",
        "\n",
        "***MinMaxScaler*** : It will consider most repeating value as the maximum value. It is not effected by outliers. It neglects the outliers.\n",
        "\n",
        "***MaxAbsScaler*** : it will give positive values as output. It there is any negative values in the datasets use this function.\n",
        "\n",
        "***RobustScaler*** : it only work from 25 quatile to 75 quatile i.e. 25% to 75%. It will neglect the outlier as outliers are either the lower than 25 quatile or higher than 75 quatile.\n"
      ],
      "metadata": {
        "id": "vhWOcIhZQ6Id"
      }
    },
    {
      "cell_type": "markdown",
      "source": [
        "**MinMaxScaler**"
      ],
      "metadata": {
        "id": "M-hgZmVnyxIN"
      }
    },
    {
      "cell_type": "code",
      "execution_count": null,
      "metadata": {
        "colab": {
          "base_uri": "https://localhost:8080/"
        },
        "id": "hhVkZe7qQSV5",
        "outputId": "802af424-a54a-412a-8ac6-0cd536b0dd0e"
      },
      "outputs": [
        {
          "output_type": "stream",
          "name": "stdout",
          "text": [
            "MinMaxScaler : \n",
            " [[0.        ]\n",
            " [0.28571429]\n",
            " [0.35714286]\n",
            " [0.42857143]\n",
            " [1.        ]]\n"
          ]
        }
      ],
      "source": [
        "import numpy as np\n",
        "from sklearn import preprocessing\n",
        "feature = np.array([[-500.5],\n",
        "                    [-100.1],\n",
        "                    [0],\n",
        "                    [100.1],\n",
        "                    [900.9]])\n",
        "\n",
        "# Create a scaler\n",
        "minmax_scaler = preprocessing.MinMaxScaler(feature_range = (0,1))\n",
        "\n",
        "# Scale feature\n",
        "scaled_feature = minmax_scaler.fit_transform(feature)\n",
        "\n",
        "print(\"MinMaxScaler : \\n\",scaled_feature)"
      ]
    },
    {
      "cell_type": "markdown",
      "source": [
        "**StanderdScaler**"
      ],
      "metadata": {
        "id": "gcOIxCERy3Ad"
      }
    },
    {
      "cell_type": "code",
      "source": [
        "import numpy as np\n",
        "from sklearn import preprocessing\n",
        "features1 = np.array([[-1000.1],\n",
        "                      [-200.2],\n",
        "                      [500.5],\n",
        "                      [600.6],\n",
        "                      [9000.9]])\n",
        "\n",
        "# Create a scaler\n",
        "std_scaler = preprocessing.StandardScaler()\n",
        "\n",
        "# Scale feature\n",
        "scaled_feature1 = std_scaler.fit_transform(features1)\n",
        "\n",
        "print(\"StandardScaler : \\n\",scaled_feature1)\n",
        "\n",
        "print(\"Mean : {}\".format(round(scaled_feature1.mean())))\n",
        "print(\"Standard Deviation : {}\".format(round(scaled_feature1.std())))"
      ],
      "metadata": {
        "colab": {
          "base_uri": "https://localhost:8080/"
        },
        "id": "or-adSCoy61k",
        "outputId": "f1257e94-23ce-49af-d1be-9f57f7e91222"
      },
      "execution_count": null,
      "outputs": [
        {
          "output_type": "stream",
          "name": "stdout",
          "text": [
            "StandardScaler : \n",
            " [[-0.76058269]\n",
            " [-0.54177196]\n",
            " [-0.35009716]\n",
            " [-0.32271504]\n",
            " [ 1.97516685]]\n",
            "Mean : 0\n",
            "Standard Deviation : 1\n"
          ]
        }
      ]
    },
    {
      "cell_type": "markdown",
      "source": [
        "**RobustScaler**"
      ],
      "metadata": {
        "id": "5iVVWjZ31Uam"
      }
    },
    {
      "cell_type": "code",
      "source": [
        "import numpy as np\n",
        "from sklearn import preprocessing\n",
        "features2 = np.array([[-1000.1],\n",
        "                      [-200.2],\n",
        "                      [500.5],\n",
        "                      [600.6],\n",
        "                      [9000.9]])\n",
        "\n",
        "# Create a scaler\n",
        "robust_scaler = preprocessing.RobustScaler()\n",
        "\n",
        "# Scale feature\n",
        "scaled_feature2 = robust_scaler.fit_transform(features2)\n",
        "\n",
        "print(\"RobustScaler : \\n\",scaled_feature2)"
      ],
      "metadata": {
        "colab": {
          "base_uri": "https://localhost:8080/"
        },
        "id": "jWb5KvdY1mNt",
        "outputId": "30586790-ad63-4123-900f-e79b393fc8a4"
      },
      "execution_count": null,
      "outputs": [
        {
          "output_type": "stream",
          "name": "stdout",
          "text": [
            "RobustScaler : \n",
            " [[-1.87387612]\n",
            " [-0.875     ]\n",
            " [ 0.        ]\n",
            " [ 0.125     ]\n",
            " [10.61488511]]\n"
          ]
        }
      ]
    },
    {
      "cell_type": "markdown",
      "source": [
        "**Normalizatin**"
      ],
      "metadata": {
        "id": "Fda5HqOwngUR"
      }
    },
    {
      "cell_type": "code",
      "source": [
        "import numpy as np\n",
        "from sklearn.preprocessing import Normalizer\n",
        "feature = np.array([[0.5,0.5],\n",
        "                    [1.1,3.4],\n",
        "                    [1.5,20.2],\n",
        "                    [1.63,34.4],\n",
        "                    [10.9,3.3]])\n",
        "\n",
        "#create normalizer\n",
        "normalizerl1 = Normalizer(norm = \"l1\")\n",
        "normalizerl2 = Normalizer(norm = \"l2\")\n",
        "normalizermax = Normalizer(norm = \"max\")\n",
        "\n",
        "#tranform feature matrix\n",
        "print(\"l1 normalization : \\n\",normalizerl1.transform(feature))\n",
        "print(\"\\n l2 normalization : \\n\",normalizerl2.transform(feature))\n",
        "print(\"\\n max normalization : \\n\",normalizermax.transform(feature))"
      ],
      "metadata": {
        "colab": {
          "base_uri": "https://localhost:8080/"
        },
        "id": "0cXOtVWDkXNp",
        "outputId": "5664211d-53fd-4bd8-d574-aaad881843af"
      },
      "execution_count": null,
      "outputs": [
        {
          "output_type": "stream",
          "name": "stdout",
          "text": [
            "l1 normalization : \n",
            " [[0.5        0.5       ]\n",
            " [0.24444444 0.75555556]\n",
            " [0.06912442 0.93087558]\n",
            " [0.04524008 0.95475992]\n",
            " [0.76760563 0.23239437]]\n",
            "\n",
            " l2 normalization : \n",
            " [[0.70710678 0.70710678]\n",
            " [0.30782029 0.95144452]\n",
            " [0.07405353 0.99725427]\n",
            " [0.04733062 0.99887928]\n",
            " [0.95709822 0.28976368]]\n",
            "\n",
            " max normalization : \n",
            " [[1.         1.        ]\n",
            " [0.32352941 1.        ]\n",
            " [0.07425743 1.        ]\n",
            " [0.04738372 1.        ]\n",
            " [1.         0.30275229]]\n"
          ]
        }
      ]
    },
    {
      "cell_type": "markdown",
      "source": [
        "**Grouping the observation.**"
      ],
      "metadata": {
        "id": "KqyJVg1Bnj9f"
      }
    },
    {
      "cell_type": "code",
      "source": [
        "import pandas as pd\n",
        "from sklearn.datasets import make_blobs\n",
        "from sklearn.cluster import KMeans\n",
        "features,_ = make_blobs (n_samples = 50,\n",
        "                        n_features = 2,\n",
        "                        centers = 3 ,\n",
        "                        random_state= 1)\n",
        "df = pd.DataFrame(features, columns= [\"feature_1\", \"feature_2\"])\n",
        "clusterer = KMeans (3, random_state=0)\n",
        "clusterer.fit(features)\n",
        "df['group'] = clusterer.predict(features)\n",
        "df.head()"
      ],
      "metadata": {
        "colab": {
          "base_uri": "https://localhost:8080/",
          "height": 261
        },
        "id": "dO0PDC97ouj_",
        "outputId": "e76d585d-705c-4066-c7bb-fb1ae8828cd2"
      },
      "execution_count": null,
      "outputs": [
        {
          "output_type": "stream",
          "name": "stderr",
          "text": [
            "/usr/local/lib/python3.10/dist-packages/sklearn/cluster/_kmeans.py:870: FutureWarning: The default value of `n_init` will change from 10 to 'auto' in 1.4. Set the value of `n_init` explicitly to suppress the warning\n",
            "  warnings.warn(\n"
          ]
        },
        {
          "output_type": "execute_result",
          "data": {
            "text/plain": [
              "   feature_1  feature_2  group\n",
              "0  -9.877554  -3.336145      0\n",
              "1  -7.287210  -8.353986      2\n",
              "2  -6.943061  -7.023744      2\n",
              "3  -7.440167  -8.791959      2\n",
              "4  -6.641388  -8.075888      2"
            ],
            "text/html": [
              "\n",
              "  <div id=\"df-bca0e682-6eeb-4fd9-b384-6298ac1663e4\" class=\"colab-df-container\">\n",
              "    <div>\n",
              "<style scoped>\n",
              "    .dataframe tbody tr th:only-of-type {\n",
              "        vertical-align: middle;\n",
              "    }\n",
              "\n",
              "    .dataframe tbody tr th {\n",
              "        vertical-align: top;\n",
              "    }\n",
              "\n",
              "    .dataframe thead th {\n",
              "        text-align: right;\n",
              "    }\n",
              "</style>\n",
              "<table border=\"1\" class=\"dataframe\">\n",
              "  <thead>\n",
              "    <tr style=\"text-align: right;\">\n",
              "      <th></th>\n",
              "      <th>feature_1</th>\n",
              "      <th>feature_2</th>\n",
              "      <th>group</th>\n",
              "    </tr>\n",
              "  </thead>\n",
              "  <tbody>\n",
              "    <tr>\n",
              "      <th>0</th>\n",
              "      <td>-9.877554</td>\n",
              "      <td>-3.336145</td>\n",
              "      <td>0</td>\n",
              "    </tr>\n",
              "    <tr>\n",
              "      <th>1</th>\n",
              "      <td>-7.287210</td>\n",
              "      <td>-8.353986</td>\n",
              "      <td>2</td>\n",
              "    </tr>\n",
              "    <tr>\n",
              "      <th>2</th>\n",
              "      <td>-6.943061</td>\n",
              "      <td>-7.023744</td>\n",
              "      <td>2</td>\n",
              "    </tr>\n",
              "    <tr>\n",
              "      <th>3</th>\n",
              "      <td>-7.440167</td>\n",
              "      <td>-8.791959</td>\n",
              "      <td>2</td>\n",
              "    </tr>\n",
              "    <tr>\n",
              "      <th>4</th>\n",
              "      <td>-6.641388</td>\n",
              "      <td>-8.075888</td>\n",
              "      <td>2</td>\n",
              "    </tr>\n",
              "  </tbody>\n",
              "</table>\n",
              "</div>\n",
              "    <div class=\"colab-df-buttons\">\n",
              "\n",
              "  <div class=\"colab-df-container\">\n",
              "    <button class=\"colab-df-convert\" onclick=\"convertToInteractive('df-bca0e682-6eeb-4fd9-b384-6298ac1663e4')\"\n",
              "            title=\"Convert this dataframe to an interactive table.\"\n",
              "            style=\"display:none;\">\n",
              "\n",
              "  <svg xmlns=\"http://www.w3.org/2000/svg\" height=\"24px\" viewBox=\"0 -960 960 960\">\n",
              "    <path d=\"M120-120v-720h720v720H120Zm60-500h600v-160H180v160Zm220 220h160v-160H400v160Zm0 220h160v-160H400v160ZM180-400h160v-160H180v160Zm440 0h160v-160H620v160ZM180-180h160v-160H180v160Zm440 0h160v-160H620v160Z\"/>\n",
              "  </svg>\n",
              "    </button>\n",
              "\n",
              "  <style>\n",
              "    .colab-df-container {\n",
              "      display:flex;\n",
              "      gap: 12px;\n",
              "    }\n",
              "\n",
              "    .colab-df-convert {\n",
              "      background-color: #E8F0FE;\n",
              "      border: none;\n",
              "      border-radius: 50%;\n",
              "      cursor: pointer;\n",
              "      display: none;\n",
              "      fill: #1967D2;\n",
              "      height: 32px;\n",
              "      padding: 0 0 0 0;\n",
              "      width: 32px;\n",
              "    }\n",
              "\n",
              "    .colab-df-convert:hover {\n",
              "      background-color: #E2EBFA;\n",
              "      box-shadow: 0px 1px 2px rgba(60, 64, 67, 0.3), 0px 1px 3px 1px rgba(60, 64, 67, 0.15);\n",
              "      fill: #174EA6;\n",
              "    }\n",
              "\n",
              "    .colab-df-buttons div {\n",
              "      margin-bottom: 4px;\n",
              "    }\n",
              "\n",
              "    [theme=dark] .colab-df-convert {\n",
              "      background-color: #3B4455;\n",
              "      fill: #D2E3FC;\n",
              "    }\n",
              "\n",
              "    [theme=dark] .colab-df-convert:hover {\n",
              "      background-color: #434B5C;\n",
              "      box-shadow: 0px 1px 3px 1px rgba(0, 0, 0, 0.15);\n",
              "      filter: drop-shadow(0px 1px 2px rgba(0, 0, 0, 0.3));\n",
              "      fill: #FFFFFF;\n",
              "    }\n",
              "  </style>\n",
              "\n",
              "    <script>\n",
              "      const buttonEl =\n",
              "        document.querySelector('#df-bca0e682-6eeb-4fd9-b384-6298ac1663e4 button.colab-df-convert');\n",
              "      buttonEl.style.display =\n",
              "        google.colab.kernel.accessAllowed ? 'block' : 'none';\n",
              "\n",
              "      async function convertToInteractive(key) {\n",
              "        const element = document.querySelector('#df-bca0e682-6eeb-4fd9-b384-6298ac1663e4');\n",
              "        const dataTable =\n",
              "          await google.colab.kernel.invokeFunction('convertToInteractive',\n",
              "                                                    [key], {});\n",
              "        if (!dataTable) return;\n",
              "\n",
              "        const docLinkHtml = 'Like what you see? Visit the ' +\n",
              "          '<a target=\"_blank\" href=https://colab.research.google.com/notebooks/data_table.ipynb>data table notebook</a>'\n",
              "          + ' to learn more about interactive tables.';\n",
              "        element.innerHTML = '';\n",
              "        dataTable['output_type'] = 'display_data';\n",
              "        await google.colab.output.renderOutput(dataTable, element);\n",
              "        const docLink = document.createElement('div');\n",
              "        docLink.innerHTML = docLinkHtml;\n",
              "        element.appendChild(docLink);\n",
              "      }\n",
              "    </script>\n",
              "  </div>\n",
              "\n",
              "\n",
              "<div id=\"df-d4e1c01a-f4a5-4590-ae8f-0bab1a8a0051\">\n",
              "  <button class=\"colab-df-quickchart\" onclick=\"quickchart('df-d4e1c01a-f4a5-4590-ae8f-0bab1a8a0051')\"\n",
              "            title=\"Suggest charts\"\n",
              "            style=\"display:none;\">\n",
              "\n",
              "<svg xmlns=\"http://www.w3.org/2000/svg\" height=\"24px\"viewBox=\"0 0 24 24\"\n",
              "     width=\"24px\">\n",
              "    <g>\n",
              "        <path d=\"M19 3H5c-1.1 0-2 .9-2 2v14c0 1.1.9 2 2 2h14c1.1 0 2-.9 2-2V5c0-1.1-.9-2-2-2zM9 17H7v-7h2v7zm4 0h-2V7h2v10zm4 0h-2v-4h2v4z\"/>\n",
              "    </g>\n",
              "</svg>\n",
              "  </button>\n",
              "\n",
              "<style>\n",
              "  .colab-df-quickchart {\n",
              "      --bg-color: #E8F0FE;\n",
              "      --fill-color: #1967D2;\n",
              "      --hover-bg-color: #E2EBFA;\n",
              "      --hover-fill-color: #174EA6;\n",
              "      --disabled-fill-color: #AAA;\n",
              "      --disabled-bg-color: #DDD;\n",
              "  }\n",
              "\n",
              "  [theme=dark] .colab-df-quickchart {\n",
              "      --bg-color: #3B4455;\n",
              "      --fill-color: #D2E3FC;\n",
              "      --hover-bg-color: #434B5C;\n",
              "      --hover-fill-color: #FFFFFF;\n",
              "      --disabled-bg-color: #3B4455;\n",
              "      --disabled-fill-color: #666;\n",
              "  }\n",
              "\n",
              "  .colab-df-quickchart {\n",
              "    background-color: var(--bg-color);\n",
              "    border: none;\n",
              "    border-radius: 50%;\n",
              "    cursor: pointer;\n",
              "    display: none;\n",
              "    fill: var(--fill-color);\n",
              "    height: 32px;\n",
              "    padding: 0;\n",
              "    width: 32px;\n",
              "  }\n",
              "\n",
              "  .colab-df-quickchart:hover {\n",
              "    background-color: var(--hover-bg-color);\n",
              "    box-shadow: 0 1px 2px rgba(60, 64, 67, 0.3), 0 1px 3px 1px rgba(60, 64, 67, 0.15);\n",
              "    fill: var(--button-hover-fill-color);\n",
              "  }\n",
              "\n",
              "  .colab-df-quickchart-complete:disabled,\n",
              "  .colab-df-quickchart-complete:disabled:hover {\n",
              "    background-color: var(--disabled-bg-color);\n",
              "    fill: var(--disabled-fill-color);\n",
              "    box-shadow: none;\n",
              "  }\n",
              "\n",
              "  .colab-df-spinner {\n",
              "    border: 2px solid var(--fill-color);\n",
              "    border-color: transparent;\n",
              "    border-bottom-color: var(--fill-color);\n",
              "    animation:\n",
              "      spin 1s steps(1) infinite;\n",
              "  }\n",
              "\n",
              "  @keyframes spin {\n",
              "    0% {\n",
              "      border-color: transparent;\n",
              "      border-bottom-color: var(--fill-color);\n",
              "      border-left-color: var(--fill-color);\n",
              "    }\n",
              "    20% {\n",
              "      border-color: transparent;\n",
              "      border-left-color: var(--fill-color);\n",
              "      border-top-color: var(--fill-color);\n",
              "    }\n",
              "    30% {\n",
              "      border-color: transparent;\n",
              "      border-left-color: var(--fill-color);\n",
              "      border-top-color: var(--fill-color);\n",
              "      border-right-color: var(--fill-color);\n",
              "    }\n",
              "    40% {\n",
              "      border-color: transparent;\n",
              "      border-right-color: var(--fill-color);\n",
              "      border-top-color: var(--fill-color);\n",
              "    }\n",
              "    60% {\n",
              "      border-color: transparent;\n",
              "      border-right-color: var(--fill-color);\n",
              "    }\n",
              "    80% {\n",
              "      border-color: transparent;\n",
              "      border-right-color: var(--fill-color);\n",
              "      border-bottom-color: var(--fill-color);\n",
              "    }\n",
              "    90% {\n",
              "      border-color: transparent;\n",
              "      border-bottom-color: var(--fill-color);\n",
              "    }\n",
              "  }\n",
              "</style>\n",
              "\n",
              "  <script>\n",
              "    async function quickchart(key) {\n",
              "      const quickchartButtonEl =\n",
              "        document.querySelector('#' + key + ' button');\n",
              "      quickchartButtonEl.disabled = true;  // To prevent multiple clicks.\n",
              "      quickchartButtonEl.classList.add('colab-df-spinner');\n",
              "      try {\n",
              "        const charts = await google.colab.kernel.invokeFunction(\n",
              "            'suggestCharts', [key], {});\n",
              "      } catch (error) {\n",
              "        console.error('Error during call to suggestCharts:', error);\n",
              "      }\n",
              "      quickchartButtonEl.classList.remove('colab-df-spinner');\n",
              "      quickchartButtonEl.classList.add('colab-df-quickchart-complete');\n",
              "    }\n",
              "    (() => {\n",
              "      let quickchartButtonEl =\n",
              "        document.querySelector('#df-d4e1c01a-f4a5-4590-ae8f-0bab1a8a0051 button');\n",
              "      quickchartButtonEl.style.display =\n",
              "        google.colab.kernel.accessAllowed ? 'block' : 'none';\n",
              "    })();\n",
              "  </script>\n",
              "</div>\n",
              "\n",
              "    </div>\n",
              "  </div>\n"
            ],
            "application/vnd.google.colaboratory.intrinsic+json": {
              "type": "dataframe",
              "variable_name": "df",
              "summary": "{\n  \"name\": \"df\",\n  \"rows\": 50,\n  \"fields\": [\n    {\n      \"column\": \"feature_1\",\n      \"properties\": {\n        \"dtype\": \"number\",\n        \"std\": 3.613163127817125,\n        \"min\": -11.140230701675241,\n        \"max\": 0.08525185826796045,\n        \"num_unique_values\": 50,\n        \"samples\": [\n          -10.752110444649754,\n          -7.512010748443737,\n          -7.7355444699467695\n        ],\n        \"semantic_type\": \"\",\n        \"description\": \"\"\n      }\n    },\n    {\n      \"column\": \"feature_2\",\n      \"properties\": {\n        \"dtype\": \"number\",\n        \"std\": 4.99697747664458,\n        \"min\": -10.175429320448048,\n        \"max\": 5.551213578682775,\n        \"num_unique_values\": 50,\n        \"samples\": [\n          -2.7004803921299168,\n          -6.9287203998185465,\n          -7.775664318303125\n        ],\n        \"semantic_type\": \"\",\n        \"description\": \"\"\n      }\n    },\n    {\n      \"column\": \"group\",\n      \"properties\": {\n        \"dtype\": \"int32\",\n        \"num_unique_values\": 3,\n        \"samples\": [\n          0,\n          2,\n          1\n        ],\n        \"semantic_type\": \"\",\n        \"description\": \"\"\n      }\n    }\n  ]\n}"
            }
          },
          "metadata": {},
          "execution_count": 44
        }
      ]
    },
    {
      "cell_type": "markdown",
      "source": [
        "**Deleting observation with missing values.**"
      ],
      "metadata": {
        "id": "aw9_5DOjptVv"
      }
    },
    {
      "cell_type": "code",
      "source": [
        "import numpy as np\n",
        "features = np.array([[1.1,11.1],\n",
        "             [2.2,22.2],\n",
        "             [3.3,33.3],\n",
        "             [np.nan,55]])\n",
        "\n",
        "features[~np.isnan(features).any(axis=1)]"
      ],
      "metadata": {
        "colab": {
          "base_uri": "https://localhost:8080/"
        },
        "id": "QikyxrGAp0t3",
        "outputId": "48513150-08ee-40b7-ec32-3a5f9881ed40"
      },
      "execution_count": null,
      "outputs": [
        {
          "output_type": "execute_result",
          "data": {
            "text/plain": [
              "array([[ 1.1, 11.1],\n",
              "       [ 2.2, 22.2],\n",
              "       [ 3.3, 33.3]])"
            ]
          },
          "metadata": {},
          "execution_count": 24
        }
      ]
    },
    {
      "cell_type": "markdown",
      "source": [
        "**Imputing missing values.**   \n",
        "There are two types of imputing.\n",
        "1. Univarient - Single value to change. It uses Simple Imputation.\n",
        "2. Multivarient - More than one value to change. It uses iterative Imputation."
      ],
      "metadata": {
        "id": "KHOC7rDwr86O"
      }
    },
    {
      "cell_type": "markdown",
      "source": [
        "\n",
        "1. Mean"
      ],
      "metadata": {
        "id": "MofGTvh9vpkd"
      }
    },
    {
      "cell_type": "code",
      "source": [
        "import numpy as np\n",
        "from sklearn.impute import SimpleImputer\n",
        "features = np.array([[1.1,11.1],\n",
        "             [2.2,22.2],\n",
        "             [3.3,33.3],\n",
        "             [np.nan,55]])\n",
        "imp_mean = SimpleImputer(missing_values=np.nan, strategy='mean')\n",
        "imp_mean.fit(features)\n",
        "SimpleImputer()\n",
        "print(imp_mean.transform(features))"
      ],
      "metadata": {
        "colab": {
          "base_uri": "https://localhost:8080/"
        },
        "id": "nU7VBorjsClu",
        "outputId": "ff70d05e-d9e0-49a1-a96f-cafcf96723d5"
      },
      "execution_count": null,
      "outputs": [
        {
          "output_type": "stream",
          "name": "stdout",
          "text": [
            "[[ 1.1 11.1]\n",
            " [ 2.2 22.2]\n",
            " [ 3.3 33.3]\n",
            " [ 2.2 55. ]]\n"
          ]
        }
      ]
    },
    {
      "cell_type": "markdown",
      "source": [
        "2. Median"
      ],
      "metadata": {
        "id": "TVupeIWLvw-N"
      }
    },
    {
      "cell_type": "code",
      "source": [
        "import numpy as np\n",
        "from sklearn.impute import SimpleImputer\n",
        "features = np.array([[1.1,11.1],\n",
        "             [2.2,22.2],\n",
        "             [3.3,33.3],\n",
        "             [np.nan,55]])\n",
        "imp_mean = SimpleImputer(missing_values=np.nan, strategy='median')\n",
        "imp_mean.fit(features)\n",
        "SimpleImputer()\n",
        "print(imp_mean.transform(features))"
      ],
      "metadata": {
        "colab": {
          "base_uri": "https://localhost:8080/"
        },
        "id": "552oIgzsvky-",
        "outputId": "82184902-fe4d-4bee-9bfa-0667bca794c8"
      },
      "execution_count": null,
      "outputs": [
        {
          "output_type": "stream",
          "name": "stdout",
          "text": [
            "[[ 1.1 11.1]\n",
            " [ 2.2 22.2]\n",
            " [ 3.3 33.3]\n",
            " [ 2.2 55. ]]\n"
          ]
        }
      ]
    },
    {
      "cell_type": "markdown",
      "source": [
        "3. Most frequent"
      ],
      "metadata": {
        "id": "OaGLSJjhvz7u"
      }
    },
    {
      "cell_type": "code",
      "source": [
        "import numpy as np\n",
        "from sklearn.impute import SimpleImputer\n",
        "features = np.array([[1.1,11.1],\n",
        "             [2.2,22.2],\n",
        "             [3.3,33.3],\n",
        "             [np.nan,55]])\n",
        "imp_mean = SimpleImputer(missing_values=np.nan, strategy='most_frequent')\n",
        "imp_mean.fit(features)\n",
        "SimpleImputer()\n",
        "print(imp_mean.transform(features))"
      ],
      "metadata": {
        "colab": {
          "base_uri": "https://localhost:8080/"
        },
        "id": "q6vBmP8pwAbF",
        "outputId": "54664a38-8142-4504-fd10-488ea841ff1c"
      },
      "execution_count": null,
      "outputs": [
        {
          "output_type": "stream",
          "name": "stdout",
          "text": [
            "[[ 1.1 11.1]\n",
            " [ 2.2 22.2]\n",
            " [ 3.3 33.3]\n",
            " [ 1.1 55. ]]\n"
          ]
        }
      ]
    },
    {
      "cell_type": "markdown",
      "source": [
        "4. Constant"
      ],
      "metadata": {
        "id": "IFzDSOFewGzt"
      }
    },
    {
      "cell_type": "code",
      "source": [
        "import numpy as np\n",
        "from sklearn.impute import SimpleImputer\n",
        "features = np.array([[1.1,11.1],\n",
        "             [2.2,22.2],\n",
        "             [3.3,33.3],\n",
        "             [np.nan,55]])\n",
        "imp_mean = SimpleImputer(missing_values=np.nan, strategy='constant')\n",
        "imp_mean.fit(features)\n",
        "SimpleImputer()\n",
        "print(imp_mean.transform(features))"
      ],
      "metadata": {
        "colab": {
          "base_uri": "https://localhost:8080/"
        },
        "id": "rgf0CodzwJcF",
        "outputId": "f333098a-2429-42ea-e901-53f0954678f0"
      },
      "execution_count": null,
      "outputs": [
        {
          "output_type": "stream",
          "name": "stdout",
          "text": [
            "[[ 1.1 11.1]\n",
            " [ 2.2 22.2]\n",
            " [ 3.3 33.3]\n",
            " [ 0.  55. ]]\n"
          ]
        }
      ]
    }
  ]
}