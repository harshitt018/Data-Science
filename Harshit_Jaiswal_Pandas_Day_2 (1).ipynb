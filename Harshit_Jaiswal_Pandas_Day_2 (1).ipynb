{
  "nbformat": 4,
  "nbformat_minor": 0,
  "metadata": {
    "colab": {
      "provenance": []
    },
    "kernelspec": {
      "name": "python3",
      "display_name": "Python 3"
    },
    "language_info": {
      "name": "python"
    }
  },
  "cells": [
    {
      "cell_type": "markdown",
      "source": [
        "**1. Write a Pandas program to create and display a 1-D array like object containing an array of data using Pandas module.**"
      ],
      "metadata": {
        "id": "xfBHZSbSYN2v"
      }
    },
    {
      "cell_type": "code",
      "execution_count": null,
      "metadata": {
        "colab": {
          "base_uri": "https://localhost:8080/"
        },
        "id": "JxQ4sugAYBtX",
        "outputId": "5bc693e6-ebce-47cc-90ea-d010f6453c84"
      },
      "outputs": [
        {
          "output_type": "stream",
          "name": "stdout",
          "text": [
            "0     1\n",
            "1     2\n",
            "2     3\n",
            "3     4\n",
            "4     5\n",
            "5     6\n",
            "6     7\n",
            "7     8\n",
            "8     9\n",
            "9    10\n",
            "dtype: int64\n",
            "0      1\n",
            "1      4\n",
            "2      9\n",
            "3     16\n",
            "4     25\n",
            "5     36\n",
            "6     49\n",
            "7     64\n",
            "8     81\n",
            "9    100\n",
            "dtype: int64\n",
            "0              1\n",
            "1              4\n",
            "2             27\n",
            "3            256\n",
            "4           3125\n",
            "5          46656\n",
            "6         823543\n",
            "7       16777216\n",
            "8      387420489\n",
            "9    10000000000\n",
            "dtype: int64\n"
          ]
        }
      ],
      "source": [
        "import pandas as pd\n",
        "import numpy as np\n",
        "ds = pd.Series([1,2,3,4,5,6,7,8,9,10])\n",
        "print(ds)\n",
        "print(ds*ds)\n",
        "print(ds**ds)"
      ]
    },
    {
      "cell_type": "markdown",
      "source": [
        "**2. Write a Pandas program to convert a Pandas module Series into a Python list.**"
      ],
      "metadata": {
        "id": "9xtx8TaSZh4g"
      }
    },
    {
      "cell_type": "code",
      "source": [
        "import pandas as pd\n",
        "print(\"Pandas Series and type\")\n",
        "print(ds)\n",
        "print(type(ds))\n",
        "print(\"Convert Pandas Series to Python list\")\n",
        "print(ds.tolist())\n",
        "print(type(ds.tolist()))"
      ],
      "metadata": {
        "colab": {
          "base_uri": "https://localhost:8080/"
        },
        "id": "-tsSpygcZt9C",
        "outputId": "64d3db3c-8094-4fee-bada-44f53a46ba9f"
      },
      "execution_count": null,
      "outputs": [
        {
          "output_type": "stream",
          "name": "stdout",
          "text": [
            "Pandas Series and type\n",
            "0     1\n",
            "1     2\n",
            "2     3\n",
            "3     4\n",
            "4     5\n",
            "5     6\n",
            "6     7\n",
            "7     8\n",
            "8     9\n",
            "9    10\n",
            "dtype: int64\n",
            "<class 'pandas.core.series.Series'>\n",
            "Convert Pandas Series to Python list\n",
            "[1, 2, 3, 4, 5, 6, 7, 8, 9, 10]\n",
            "<class 'list'>\n"
          ]
        }
      ]
    },
    {
      "cell_type": "markdown",
      "source": [
        "**3. Write a Pandas pragram to add, subtract, multiply and divide two Pandas Series.**"
      ],
      "metadata": {
        "id": "SOVfHJIcbWMH"
      }
    },
    {
      "cell_type": "code",
      "source": [
        "import pandas as pd\n",
        "import numpy as np\n",
        "ds1 = pd.Series([2,4,6,8,10])\n",
        "ds2 = pd.Series([1,3,5,7,9])\n",
        "print(\"Addition of the series is :\",\"\\n\",ds1+ds2)\n",
        "print(\"Subtraction of the series is :\",\"\\n\",ds1-ds2)\n",
        "print(\"Multiplication of the series is :\",\"\\n\",ds1*ds2)\n",
        "print(\"Division of the series is :\",\"\\n\",ds1/ds2)"
      ],
      "metadata": {
        "colab": {
          "base_uri": "https://localhost:8080/"
        },
        "id": "PdnqELxWbm3o",
        "outputId": "c11f9905-f9dc-4086-94c3-5e8208bf24fe"
      },
      "execution_count": null,
      "outputs": [
        {
          "output_type": "stream",
          "name": "stdout",
          "text": [
            "Addition of the series is : \n",
            " 0     3\n",
            "1     7\n",
            "2    11\n",
            "3    15\n",
            "4    19\n",
            "dtype: int64\n",
            "Subtraction of the series is : \n",
            " 0    1\n",
            "1    1\n",
            "2    1\n",
            "3    1\n",
            "4    1\n",
            "dtype: int64\n",
            "Multiplication of the series is : \n",
            " 0     2\n",
            "1    12\n",
            "2    30\n",
            "3    56\n",
            "4    90\n",
            "dtype: int64\n",
            "Division of the series is : \n",
            " 0    2.000000\n",
            "1    1.333333\n",
            "2    1.200000\n",
            "3    1.142857\n",
            "4    1.111111\n",
            "dtype: float64\n"
          ]
        }
      ]
    },
    {
      "cell_type": "markdown",
      "source": [
        "**4. Write a Pandas program to compare the elements of the two Pandas series.**"
      ],
      "metadata": {
        "id": "-WyDGXU5dWS3"
      }
    },
    {
      "cell_type": "code",
      "source": [
        "import pandas as pd\n",
        "ds1 = pd.Series([2,4,6,8,10])\n",
        "ds2 = pd.Series([1,3,5,7,10])\n",
        "print(\"Series 1 :\",ds1)\n",
        "print(\"Series 2 :\",ds2)\n",
        "print(\"Comparing ds1 less than ds2 :\",\"\\n\",ds1<ds2)\n",
        "print(\"Comparing ds1 greater than ds2 :\",\"\\n\",ds1>ds2)\n",
        "print(\"Comparing ds1 equal to ds2 :\",\"\\n\",ds1==ds2)"
      ],
      "metadata": {
        "colab": {
          "base_uri": "https://localhost:8080/"
        },
        "id": "13HYlAmLdkiM",
        "outputId": "b688c4bb-d0bc-4210-a753-bd7b9d55edff"
      },
      "execution_count": null,
      "outputs": [
        {
          "output_type": "stream",
          "name": "stdout",
          "text": [
            "Series 1 : 0     2\n",
            "1     4\n",
            "2     6\n",
            "3     8\n",
            "4    10\n",
            "dtype: int64\n",
            "Series 2 : 0     1\n",
            "1     3\n",
            "2     5\n",
            "3     7\n",
            "4    10\n",
            "dtype: int64\n",
            "Comparing ds1 less than ds2 : \n",
            " 0    False\n",
            "1    False\n",
            "2    False\n",
            "3    False\n",
            "4    False\n",
            "dtype: bool\n",
            "Comparing ds1 greater than ds2 : \n",
            " 0     True\n",
            "1     True\n",
            "2     True\n",
            "3     True\n",
            "4    False\n",
            "dtype: bool\n",
            "Comparing ds1 equal to ds2 : \n",
            " 0    False\n",
            "1    False\n",
            "2    False\n",
            "3    False\n",
            "4     True\n",
            "dtype: bool\n"
          ]
        }
      ]
    },
    {
      "cell_type": "markdown",
      "source": [
        "**5. Write a Pandas program to convert a dictionary to a Pandas series.   \n",
        "Sample Series:    \n",
        "Original dictionary : {'a': 100, 'b': 200, 'c': 300, 'd': 400, 'e': 800}**"
      ],
      "metadata": {
        "id": "lbypfmsce6mg"
      }
    },
    {
      "cell_type": "code",
      "source": [
        "import pandas as pd\n",
        "d1 = {'a': 100, 'b': 200, 'c': 300, 'd': 400, 'e': 800}\n",
        "print(\"Original Dictionary :\")\n",
        "print(d1)\n",
        "n_series = pd.Series(d1)\n",
        "print(\"Converted Series : \")\n",
        "print(n_series)"
      ],
      "metadata": {
        "colab": {
          "base_uri": "https://localhost:8080/"
        },
        "id": "FDoa48j4fskG",
        "outputId": "b734fd14-6b69-43c9-970c-ad36ca334d5c"
      },
      "execution_count": null,
      "outputs": [
        {
          "output_type": "stream",
          "name": "stdout",
          "text": [
            "Original Dictionary :\n",
            "{'a': 100, 'b': 200, 'c': 300, 'd': 400, 'e': 800}\n",
            "Converted Series : \n",
            "a    100\n",
            "b    200\n",
            "c    300\n",
            "d    400\n",
            "e    800\n",
            "dtype: int64\n"
          ]
        }
      ]
    },
    {
      "cell_type": "markdown",
      "source": [
        "**6.  Write a Pandas program to convert a numpy array to a Pandas series.**"
      ],
      "metadata": {
        "id": "sDLJ5-pfgPTI"
      }
    },
    {
      "cell_type": "code",
      "source": [
        "import pandas as pd\n",
        "import numpy as np\n",
        "arr1 = np.array([1,2,3,4,5,6,7,8,9,10])\n",
        "print(\"NumPy Array :\",\"\\n\",arr1)\n",
        "new_s = pd.Series(arr1)\n",
        "print(\"Converted series :\",\"\\n\",new_s)"
      ],
      "metadata": {
        "colab": {
          "base_uri": "https://localhost:8080/"
        },
        "id": "s08rUdWLgPln",
        "outputId": "6b7be227-e715-4aec-b7c9-275d0f3c7683"
      },
      "execution_count": null,
      "outputs": [
        {
          "output_type": "stream",
          "name": "stdout",
          "text": [
            "NumPy Array : \n",
            " [ 1  2  3  4  5  6  7  8  9 10]\n",
            "Converted series : \n",
            " 0     1\n",
            "1     2\n",
            "2     3\n",
            "3     4\n",
            "4     5\n",
            "5     6\n",
            "6     7\n",
            "7     8\n",
            "8     9\n",
            "9    10\n",
            "dtype: int64\n"
          ]
        }
      ]
    },
    {
      "cell_type": "markdown",
      "source": [
        "**7. Write a Pandas program to change the datatype of a given column or a series.**"
      ],
      "metadata": {
        "id": "TW85v9gzhJjX"
      }
    },
    {
      "cell_type": "code",
      "source": [
        "import pandas as pd\n",
        "s1 = pd.Series(['18','100','200','pyhton','harshit','300.12','69.69'])\n",
        "print(\"original Series :\",\"\\n\",s1)\n",
        "ns = pd.to_numeric(s1, errors = 'coerce')\n",
        "print(\"Converted Series :\",\"\\n\",ns)"
      ],
      "metadata": {
        "colab": {
          "base_uri": "https://localhost:8080/"
        },
        "id": "pLSuMY7KhUgH",
        "outputId": "3876811e-516d-47a9-e8be-e03efac9f043"
      },
      "execution_count": null,
      "outputs": [
        {
          "output_type": "stream",
          "name": "stdout",
          "text": [
            "original Series : \n",
            " 0         18\n",
            "1        100\n",
            "2        200\n",
            "3     pyhton\n",
            "4    harshit\n",
            "5     300.12\n",
            "6      69.69\n",
            "dtype: object\n",
            "Converted Series : \n",
            " 0     18.00\n",
            "1    100.00\n",
            "2    200.00\n",
            "3       NaN\n",
            "4       NaN\n",
            "5    300.12\n",
            "6     69.69\n",
            "dtype: float64\n"
          ]
        }
      ]
    },
    {
      "cell_type": "markdown",
      "source": [
        "**8. Write a Pandas program to convert a series into an array.**"
      ],
      "metadata": {
        "id": "CyJ-GE98jBHI"
      }
    },
    {
      "cell_type": "code",
      "source": [
        "import pandas as pd\n",
        "import numpy as np\n",
        "new_s = pd.Series([1,2,3,4,5,6,7,8,9,10])\n",
        "print(\"Original series :\",\"\\n\",new_s)\n",
        "arr1 = np.array(new_s)\n",
        "print(\"Converted from series to numpy array :\",'\\n',arr1)\n",
        "s1 = new_s.values\n",
        "print(\"Converted from series to array :\",\"\\n\",s1)\n",
        "print(type(s1))"
      ],
      "metadata": {
        "colab": {
          "base_uri": "https://localhost:8080/"
        },
        "id": "5Z3TwhvLicbI",
        "outputId": "aab1d310-433a-4ebb-c986-e3e703c20878"
      },
      "execution_count": null,
      "outputs": [
        {
          "output_type": "stream",
          "name": "stdout",
          "text": [
            "Original series : \n",
            " 0     1\n",
            "1     2\n",
            "2     3\n",
            "3     4\n",
            "4     5\n",
            "5     6\n",
            "6     7\n",
            "7     8\n",
            "8     9\n",
            "9    10\n",
            "dtype: int64\n",
            "Converted from series to numpy array : \n",
            " [ 1  2  3  4  5  6  7  8  9 10]\n",
            "Converted from series to array : \n",
            " [ 1  2  3  4  5  6  7  8  9 10]\n",
            "<class 'numpy.ndarray'>\n"
          ]
        }
      ]
    },
    {
      "cell_type": "markdown",
      "source": [
        "**9. Write a Pandas program to convert Series of lists to one series.   \n",
        "Sample Output :      \n",
        "Original Series of list   \n",
        "0    [Red, Green, White]     \n",
        "1            [Red,Black]     \n",
        "2               [Yellow]**"
      ],
      "metadata": {
        "id": "FpNWhuLKkOiQ"
      }
    },
    {
      "cell_type": "code",
      "source": [
        "import pandas as pd\n",
        "s1 = pd.Series([\n",
        "    ['Red', 'Green', 'White'],\n",
        "    ['Red','Black'],\n",
        "    ['Yellow']])\n",
        "print(\"Original Series of list :\",\"\\n\",s1)\n",
        "s1 = s1.apply(pd.Series).stack().reset_index(drop = True)\n",
        "print(\"One Series\",\"\\n\",s1)"
      ],
      "metadata": {
        "colab": {
          "base_uri": "https://localhost:8080/"
        },
        "id": "OvfMmsO-lAxW",
        "outputId": "f9f9c5b4-227b-4f6a-ab14-fb41837bae5e"
      },
      "execution_count": null,
      "outputs": [
        {
          "output_type": "stream",
          "name": "stdout",
          "text": [
            "Original Series of list : \n",
            " 0    [Red, Green, White]\n",
            "1           [Red, Black]\n",
            "2               [Yellow]\n",
            "dtype: object\n",
            "One Series \n",
            " 0       Red\n",
            "1     Green\n",
            "2     White\n",
            "3       Red\n",
            "4     Black\n",
            "5    Yellow\n",
            "dtype: object\n"
          ]
        }
      ]
    },
    {
      "cell_type": "markdown",
      "source": [
        "**10. Sort the list.**"
      ],
      "metadata": {
        "id": "S0YiVURKmX7w"
      }
    },
    {
      "cell_type": "code",
      "source": [
        "import pandas as pd\n",
        "s1 = pd.Series(['18','100','200','pyhton','harshit','300.12','69.69'])\n",
        "print(\"original Series :\",\"\\n\",s1)\n",
        "new_s = pd.Series(s1).sort_values()\n",
        "print(\"New Series :\",\"\\n\",new_s)"
      ],
      "metadata": {
        "colab": {
          "base_uri": "https://localhost:8080/"
        },
        "id": "GIvP--oHmgqh",
        "outputId": "5663a56b-18e1-42ca-c9c7-88b32ddf9923"
      },
      "execution_count": null,
      "outputs": [
        {
          "output_type": "stream",
          "name": "stdout",
          "text": [
            "original Series : \n",
            " 0         18\n",
            "1        100\n",
            "2        200\n",
            "3     pyhton\n",
            "4    harshit\n",
            "5     300.12\n",
            "6      69.69\n",
            "dtype: object\n",
            "New Series : \n",
            " 1        100\n",
            "0         18\n",
            "2        200\n",
            "5     300.12\n",
            "6      69.69\n",
            "4    harshit\n",
            "3     pyhton\n",
            "dtype: object\n"
          ]
        }
      ]
    },
    {
      "cell_type": "markdown",
      "source": [
        "**11. In this series '18','100','200','pyhton','harshit','300.12','69.69'add 500 and php**"
      ],
      "metadata": {
        "id": "oihtGrP7m1jY"
      }
    },
    {
      "cell_type": "code",
      "source": [
        "import pandas as pd\n",
        "s1 = pd.Series(['18','100','200','pyhton','harshit','300.12','69.69'])\n",
        "print(\"original Series :\",\"\\n\",s1)\n",
        "print(\"\\n Data Series after adding some data :\")\n",
        "new_s = pd.concat([s1, pd.Series([10, \"Messi\"])],ignore_index = True) # ignore index is for new index for new series.\n",
        "print(new_s)"
      ],
      "metadata": {
        "colab": {
          "base_uri": "https://localhost:8080/"
        },
        "id": "5N3JmKS5nN3w",
        "outputId": "c896fb19-5f5c-4bb2-a524-114d7d145743"
      },
      "execution_count": null,
      "outputs": [
        {
          "output_type": "stream",
          "name": "stdout",
          "text": [
            "original Series : \n",
            " 0         18\n",
            "1        100\n",
            "2        200\n",
            "3     pyhton\n",
            "4    harshit\n",
            "5     300.12\n",
            "6      69.69\n",
            "dtype: object\n",
            "\n",
            " Data Series after adding some data :\n",
            "0         18\n",
            "1        100\n",
            "2        200\n",
            "3     pyhton\n",
            "4    harshit\n",
            "5     300.12\n",
            "6      69.69\n",
            "7         10\n",
            "8      Messi\n",
            "dtype: object\n"
          ]
        }
      ]
    },
    {
      "cell_type": "markdown",
      "source": [
        "**12. Write a Pandas program to change the order in index of a given series.**"
      ],
      "metadata": {
        "id": "oh4CBzdOpfQ3"
      }
    },
    {
      "cell_type": "code",
      "source": [
        "import pandas as pd\n",
        "s1 = pd.Series(data = [1,2,3,4,5], index = ['A','B','C','D','E'])\n",
        "print(\"Original Data Series :\",\"/n\",s1)\n",
        "s1 = s1.reindex(index = ['C','B','A','E','D'])\n",
        "print(\"Converted series :\",\"\\n\",s1)"
      ],
      "metadata": {
        "colab": {
          "base_uri": "https://localhost:8080/"
        },
        "id": "FJpHXqyNpnYg",
        "outputId": "46ebf4c3-25b7-4cb5-e7dc-7dba0bcdb55e"
      },
      "execution_count": null,
      "outputs": [
        {
          "output_type": "stream",
          "name": "stdout",
          "text": [
            "Original Data Series : /n A    1\n",
            "B    2\n",
            "C    3\n",
            "D    4\n",
            "E    5\n",
            "dtype: int64\n",
            "Converted series : \n",
            " C    3\n",
            "B    2\n",
            "A    1\n",
            "E    5\n",
            "D    4\n",
            "dtype: int64\n"
          ]
        }
      ]
    },
    {
      "cell_type": "markdown",
      "source": [
        "**13. Write a Pandas program to get the items of a given series not present into another given series.**"
      ],
      "metadata": {
        "id": "sM8VEnv7rFDA"
      }
    },
    {
      "cell_type": "code",
      "source": [
        "import pandas as pd\n",
        "s1 = pd.Series([1,2,3,4,5])\n",
        "s2 = pd.Series([2,4,8,10])\n",
        "print(\"Series 1 :\",\"\\n\",s1)\n",
        "print(\"Series 2 :\",\"\\n\",s2)\n",
        "not_ins1 = s1[~s1.isin(s2)]\n",
        "print(\"Elements that are not present in series 2 :\",\"\\n\",not_ins1)"
      ],
      "metadata": {
        "colab": {
          "base_uri": "https://localhost:8080/"
        },
        "id": "9CennY7prESH",
        "outputId": "0f194a2f-c6f6-47b6-a5cf-1cfe8808cda4"
      },
      "execution_count": null,
      "outputs": [
        {
          "output_type": "stream",
          "name": "stdout",
          "text": [
            "Series 1 : \n",
            " 0    1\n",
            "1    2\n",
            "2    3\n",
            "3    4\n",
            "4    5\n",
            "dtype: int64\n",
            "Series 2 : \n",
            " 0     2\n",
            "1     4\n",
            "2     8\n",
            "3    10\n",
            "dtype: int64\n",
            "Elements that are not present in series 2 : \n",
            " 0    1\n",
            "2    3\n",
            "4    5\n",
            "dtype: int64\n"
          ]
        }
      ]
    }
  ]
}