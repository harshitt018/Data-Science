{
  "nbformat": 4,
  "nbformat_minor": 0,
  "metadata": {
    "colab": {
      "provenance": []
    },
    "kernelspec": {
      "name": "python3",
      "display_name": "Python 3"
    },
    "language_info": {
      "name": "python"
    }
  },
  "cells": [
    {
      "cell_type": "markdown",
      "source": [
        "**0.1 Reducing Features Using Principal Components**     \n",
        "**To Learn PCA :**    \n",
        "https://towardsdatascience.com/principal-component-analysis-for-dimensionality-reduction-115a3d157bad    \n",
        "https://machinelearningmastery.com/principal-components-analysis-for-dimensionality-reduction-in-python/    \n",
        "https://www.kdnuggets.com/2020/05/dimensionality-reduction-principal-component-analysis.html\n",
        "**Problem**     \n",
        "Given a set of features, you want to reduce the number of features while retaining the variance in the data.    \n",
        "**Solution**    \n",
        "Use principal component analysis with scikit's PCA:"
      ],
      "metadata": {
        "id": "qspoezDXvMP_"
      }
    },
    {
      "cell_type": "code",
      "execution_count": null,
      "metadata": {
        "colab": {
          "base_uri": "https://localhost:8080/"
        },
        "id": "h-tGXjHshC9H",
        "outputId": "0681cc9f-3daf-4b34-c5ec-9c82f3fd4bfa"
      },
      "outputs": [
        {
          "output_type": "stream",
          "name": "stdout",
          "text": [
            "Original number of features:  64\n",
            "Reduced number of features: 54\n"
          ]
        }
      ],
      "source": [
        "# Load libraries\n",
        "from sklearn.preprocessing import StandardScaler\n",
        "from sklearn.decomposition import PCA\n",
        "from sklearn import datasets\n",
        "\n",
        "# Load the data\n",
        "digits = datasets.load_digits ()\n",
        "\n",
        "# Standardize the feature matrix\n",
        "X = StandardScaler().fit_transform (digits.data)\n",
        "\n",
        "# Standardize the feature matrix\n",
        "X = StandardScaler().fit_transform (digits.data)\n",
        "\n",
        "# Create a PCA that will retain 99% of the variance\n",
        "pca = PCA(n_components = 0.99, whiten = True)\n",
        "\n",
        "# Conduct PCA\n",
        "X_pca = pca.fit_transform (X)\n",
        "\n",
        "# Show results\n",
        "print('Original number of features: ', X.shape[1])\n",
        "print('Reduced number of features:', X_pca.shape[1])"
      ]
    },
    {
      "cell_type": "markdown",
      "source": [
        "**Reducing Features When Data Is Linearly Inseparable**     \n",
        "**Problem**     \n",
        "You suspect you have linearly inseparable data and want to reduce the dimensions.     \n",
        "**Solution**     \n",
        "Use an extension of principal component analysis that uses kernels to allow for non-linear dimen- sionality reduction:\n"
      ],
      "metadata": {
        "id": "PfXPymCzBDf-"
      }
    },
    {
      "cell_type": "code",
      "source": [
        "# Load libraries\n",
        "from sklearn. decomposition import PCA, KernelPCA\n",
        "from sklearn.datasets import make_circles\n",
        "\n",
        "# Create linearly inseparable data\n",
        "X, _ = make_circles(n_samples=1000, random_state=1, noise = 0.1, factor=0.1)\n",
        "\n",
        "# Apply kernal PCA with radius basis function (RBF) kernel\n",
        "kpca = KernelPCA (kernel=\"rbf\", gamma = 15, n_components=1)\n",
        "X_kpca = kpca.fit_transform(X)\n",
        "\n",
        "print('Original number of features:', X.shape[1])\n",
        "print('Reduced number of features:', X_kpca.shape[1])"
      ],
      "metadata": {
        "colab": {
          "base_uri": "https://localhost:8080/"
        },
        "id": "VtyPpYOXDLD8",
        "outputId": "f4e3ea5b-124b-4017-8c1b-5dd267f9e540"
      },
      "execution_count": null,
      "outputs": [
        {
          "output_type": "stream",
          "name": "stdout",
          "text": [
            "Original number of features: 2\n",
            "Reduced number of features: 1\n"
          ]
        }
      ]
    },
    {
      "cell_type": "markdown",
      "source": [
        "**Reducing Features by Maximizing Class** **Separability Problem**    \n",
        "You want to reduce the features to be used by a classifier.      \n",
        "**Solution**     \n",
        "Try linear discriminant analysis (LDA) to project the features onto component axes that maximize the separation of classes:"
      ],
      "metadata": {
        "id": "MSGRK2FFEVUA"
      }
    },
    {
      "cell_type": "code",
      "source": [
        "# Load libraries\n",
        "from sklearn import datasets\n",
        "from sklearn.discriminant_analysis import LinearDiscriminantAnalysis\n",
        "\n",
        "# load the iris flower dataset\n",
        "iris = datasets.load_iris()\n",
        "X = iris.data\n",
        "Y = iris.target\n",
        "\n",
        "# create an LDA that will reduce the data  down to 1 feature\n",
        "lda = LinearDiscriminantAnalysis(n_components = 1)\n",
        "\n",
        "# run an LDA and use it to transform the features\n",
        "X_lda = lda.fit(X, Y).transform(X)\n",
        "\n",
        "# Print the number of features\n",
        "print('Original number of features : ', X.shape[1])\n",
        "print('Reduced number of feature : ', X_lda.shape[1])\n"
      ],
      "metadata": {
        "colab": {
          "base_uri": "https://localhost:8080/"
        },
        "id": "8dLK4ND3EcF-",
        "outputId": "d3a2b1d0-d4ab-458c-99d6-6fee996d3dde"
      },
      "execution_count": null,
      "outputs": [
        {
          "output_type": "stream",
          "name": "stdout",
          "text": [
            "Original number of features :  4\n",
            "Reduced number of feature :  1\n"
          ]
        }
      ]
    },
    {
      "cell_type": "code",
      "source": [
        "# View the ratio of explained variance\n",
        "lda.explained_variance_ratio_"
      ],
      "metadata": {
        "colab": {
          "base_uri": "https://localhost:8080/"
        },
        "id": "MdgxS4g6F9dp",
        "outputId": "299a89b6-5add-4555-d9c9-dc34f2a66736"
      },
      "execution_count": null,
      "outputs": [
        {
          "output_type": "execute_result",
          "data": {
            "text/plain": [
              "array([0.9912126])"
            ]
          },
          "metadata": {},
          "execution_count": 12
        }
      ]
    }
  ]
}